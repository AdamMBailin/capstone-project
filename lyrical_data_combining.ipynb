{
 "cells": [
  {
   "cell_type": "code",
   "execution_count": 7,
   "metadata": {
    "collapsed": true
   },
   "outputs": [],
   "source": [
    "import pandas as pd\n",
    "import numpy as np"
   ]
  },
  {
   "cell_type": "code",
   "execution_count": 12,
   "metadata": {
    "collapsed": true
   },
   "outputs": [],
   "source": [
    "def read_lyrics(file):\n",
    "    return pd.read_csv(file, sep='|', header=None, error_bad_lines=False)"
   ]
  },
  {
   "cell_type": "code",
   "execution_count": 13,
   "metadata": {},
   "outputs": [
    {
     "name": "stderr",
     "output_type": "stream",
     "text": [
      "b'Skipping line 1157: expected 9 fields, saw 10\\nSkipping line 1158: expected 9 fields, saw 10\\nSkipping line 1159: expected 9 fields, saw 10\\nSkipping line 1160: expected 9 fields, saw 10\\nSkipping line 1161: expected 9 fields, saw 10\\nSkipping line 1162: expected 9 fields, saw 10\\nSkipping line 1163: expected 9 fields, saw 10\\nSkipping line 1164: expected 9 fields, saw 10\\nSkipping line 1166: expected 9 fields, saw 17\\nSkipping line 1906: expected 9 fields, saw 10\\nSkipping line 7590: expected 9 fields, saw 10\\nSkipping line 7601: expected 9 fields, saw 89\\nSkipping line 12820: expected 9 fields, saw 15\\nSkipping line 12938: expected 9 fields, saw 51\\nSkipping line 13082: expected 9 fields, saw 14\\n'\n",
      "b'Skipping line 2237: expected 9 fields, saw 10\\n'\n",
      "b'Skipping line 12297: expected 9 fields, saw 19\\nSkipping line 18442: expected 9 fields, saw 11\\n'\n"
     ]
    }
   ],
   "source": [
    "alt_country_df       = read_lyrics('songs/alt_countrysong_lyrics.psv')\n",
    "alt_rock_df          = read_lyrics('songs/alt_rocksong_lyrics.psv')\n",
    "experimental_rock_df = read_lyrics('songs/experimental_rocksong_lyrics.psv')\n",
    "hip_hop_df           = read_lyrics('songs/hip_hipsong_lyrics.psv')\n",
    "pop_songs_df         = read_lyrics('songs/popsong_lyrics.psv')\n",
    "rock_songs_df        = read_lyrics('songs/Rocksong_lyrics.psv')\n",
    "folk = read_lyrics('data/song_lyrics.psv')"
   ]
  },
  {
   "cell_type": "code",
   "execution_count": 36,
   "metadata": {
    "collapsed": true
   },
   "outputs": [],
   "source": [
    "list_of_dfs = [alt_country_df, alt_rock_df, experimental_rock_df, hip_hop_df, pop_songs_df, rock_songs_df]\n",
    "list_of_names = ['alt_country', 'alt_rock', 'experimental_rock', 'hip_hop', 'pop_songs', 'rock_songs']"
   ]
  },
  {
   "cell_type": "code",
   "execution_count": 37,
   "metadata": {
    "collapsed": true
   },
   "outputs": [],
   "source": [
    "def is_genre(cell):\n",
    "    return 1"
   ]
  },
  {
   "cell_type": "code",
   "execution_count": 41,
   "metadata": {
    "collapsed": true
   },
   "outputs": [],
   "source": [
    "for count, df in enumerate(list_of_dfs):\n",
    "    name = list_of_names[count]\n",
    "    df['is_' + name] = df[3].apply(is_genre)"
   ]
  },
  {
   "cell_type": "code",
   "execution_count": 43,
   "metadata": {
    "collapsed": true
   },
   "outputs": [],
   "source": [
    "df1 = list_of_dfs[0]\n",
    "for next_df in list_of_dfs[1:]:\n",
    "    df1 = pd.concat((df1, next_df))"
   ]
  },
  {
   "cell_type": "code",
   "execution_count": 47,
   "metadata": {},
   "outputs": [
    {
     "name": "stderr",
     "output_type": "stream",
     "text": [
      "/anaconda3/lib/python3.6/site-packages/pandas/core/indexes/api.py:77: RuntimeWarning: '<' not supported between instances of 'int' and 'str', sort order is undefined for incomparable objects\n",
      "  result = result.union(other)\n"
     ]
    }
   ],
   "source": [
    "df = pd.concat((folk, df1))"
   ]
  },
  {
   "cell_type": "code",
   "execution_count": 50,
   "metadata": {
    "collapsed": true
   },
   "outputs": [],
   "source": [
    "df.fillna(0, inplace=True)"
   ]
  },
  {
   "cell_type": "code",
   "execution_count": 18,
   "metadata": {
    "collapsed": true
   },
   "outputs": [],
   "source": [
    "df.columns = ['song_id', 'album_id', 'artist', 'album', 'album_href', 'song', 'track_count', 'lyrics',\n",
    "              'song_href', 'is_folk', 'is_folk_rock', 'is_indie_folk', 'is_alt_country', 'is_alt_rock',\n",
    "              'is_experimental_rock', 'is_hip_hop', 'is_pop_songs', 'is_rock_songs']\n",
    "\n",
    "df['song_id'] = df.index\n",
    "\n",
    "df.to_csv('all_songs.csv', index=False)"
   ]
  }
 ],
 "metadata": {
  "kernelspec": {
   "display_name": "Python 3",
   "language": "python",
   "name": "python3"
  },
  "language_info": {
   "codemirror_mode": {
    "name": "ipython",
    "version": 3
   },
   "file_extension": ".py",
   "mimetype": "text/x-python",
   "name": "python",
   "nbconvert_exporter": "python",
   "pygments_lexer": "ipython3",
   "version": "3.6.4"
  }
 },
 "nbformat": 4,
 "nbformat_minor": 2
}
