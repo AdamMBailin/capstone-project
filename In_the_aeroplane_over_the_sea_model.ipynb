{
 "cells": [
  {
   "cell_type": "markdown",
   "metadata": {},
   "source": [
    "# Second attempt at making a model for 'In the Areoplane Over the Sea'"
   ]
  },
  {
   "cell_type": "markdown",
   "metadata": {},
   "source": [
    "`I did more research into word level text generation and found a really helpful blog post that gave me a good starting point for creating more word level text generators. This model out put more coherent sentences than my previous attempts.`"
   ]
  },
  {
   "cell_type": "code",
   "execution_count": 1,
   "metadata": {
    "collapsed": true
   },
   "outputs": [],
   "source": [
    "# based on the LSTM RNN walkthrough on machine learning mastery (machineleanringmastery.com)"
   ]
  },
  {
   "cell_type": "code",
   "execution_count": 21,
   "metadata": {
    "collapsed": true
   },
   "outputs": [],
   "source": [
    "import string\n",
    "from keras.preprocessing.text import Tokenizer\n",
    "from keras.preprocessing.sequence import pad_sequences\n",
    "import numpy as np\n",
    "from keras.utils import to_categorical\n",
    "from keras import Sequential\n",
    "from keras.layers import Dense, LSTM, Embedding\n",
    "from keras import models\n",
    "import pickle"
   ]
  },
  {
   "cell_type": "code",
   "execution_count": 22,
   "metadata": {
    "collapsed": true
   },
   "outputs": [],
   "source": [
    "# load text\n",
    "file = open('nmh_lyrics.txt', 'r')\n",
    "text = file.read()\n",
    "file.close()"
   ]
  },
  {
   "cell_type": "code",
   "execution_count": 23,
   "metadata": {
    "collapsed": true
   },
   "outputs": [],
   "source": [
    "# clean text\n",
    "text = text.replace('[Verse ', '[verse')\n",
    "text = text.replace(\"'\", '')\n",
    "tokens = text.split()\n",
    "table = str.maketrans('', '', string.punctuation)\n",
    "tokens = [w.translate(table) for w in tokens]\n",
    "tokens = [token.lower() for token in tokens]"
   ]
  },
  {
   "cell_type": "code",
   "execution_count": 24,
   "metadata": {
    "collapsed": true
   },
   "outputs": [],
   "source": [
    "# saving tokens\n",
    "length = 25 + 1\n",
    "sequences = []\n",
    "for i in range(length, len(tokens)):\n",
    "    seq = tokens[i-length:i]\n",
    "    line = ' '.join(seq)\n",
    "    sequences.append(line)"
   ]
  },
  {
   "cell_type": "code",
   "execution_count": 25,
   "metadata": {
    "collapsed": true
   },
   "outputs": [],
   "source": [
    "# save sequence\n",
    "data = '\\n'.join(sequences)\n",
    "file = open('clean_nmh_lyrics.txt', 'w')\n",
    "file.write(data)\n",
    "file.close()"
   ]
  },
  {
   "cell_type": "code",
   "execution_count": 26,
   "metadata": {
    "collapsed": true
   },
   "outputs": [],
   "source": [
    "# load lyrics\n",
    "file = open('clean_nmh_lyrics.txt', 'r')\n",
    "text = file.read()\n",
    "text = text.replace(',', '')\n",
    "file.close\n",
    "lines = text.split('\\n')"
   ]
  },
  {
   "cell_type": "code",
   "execution_count": 28,
   "metadata": {
    "collapsed": true
   },
   "outputs": [],
   "source": [
    "# tokenize\n",
    "tokenizer = Tokenizer()\n",
    "tokenizer.fit_on_texts(lines)\n",
    "sequences = tokenizer.texts_to_sequences(lines)\n",
    "vocab_size = len(tokenizer.word_index) + 1"
   ]
  },
  {
   "cell_type": "code",
   "execution_count": 29,
   "metadata": {
    "collapsed": true
   },
   "outputs": [],
   "source": [
    "# set up data\n",
    "sequences = np.array(sequences)\n",
    "X, y = sequences[:, :-1], sequences[:, -1]\n",
    "y = to_categorical(y)\n",
    "seq_length = X.shape[1]"
   ]
  },
  {
   "cell_type": "code",
   "execution_count": 126,
   "metadata": {
    "collapsed": true
   },
   "outputs": [],
   "source": [
    "# model\n",
    "model = Sequential()\n",
    "model.add(Embedding(vocab_size, 50, input_length=seq_length))\n",
    "model.add(LSTM(100, return_sequences=True))\n",
    "model.add(LSTM(100, return_sequences=False))\n",
    "model.add(Dense(100, activation='relu'))\n",
    "model.add(Dense(vocab_size, activation='softmax'))\n",
    "model.compile(loss='categorical_crossentropy', optimizer='adam', metrics=['accuracy'])"
   ]
  },
  {
   "cell_type": "code",
   "execution_count": 127,
   "metadata": {},
   "outputs": [
    {
     "name": "stdout",
     "output_type": "stream",
     "text": [
      "Epoch 1/100\n",
      "2153/2153 [==============================] - 4s 2ms/step - loss: 6.3981 - acc: 0.0390\n",
      "Epoch 2/100\n",
      "2153/2153 [==============================] - 4s 2ms/step - loss: 5.8398 - acc: 0.0390\n",
      "Epoch 3/100\n",
      "2153/2153 [==============================] - 4s 2ms/step - loss: 5.6748 - acc: 0.0418\n",
      "Epoch 4/100\n",
      "2153/2153 [==============================] - 4s 2ms/step - loss: 5.6395 - acc: 0.0418\n",
      "Epoch 5/100\n",
      "2153/2153 [==============================] - 3s 2ms/step - loss: 5.6346 - acc: 0.0418\n",
      "Epoch 6/100\n",
      "2153/2153 [==============================] - 4s 2ms/step - loss: 5.6318 - acc: 0.0376\n",
      "Epoch 7/100\n",
      "2153/2153 [==============================] - 4s 2ms/step - loss: 5.6262 - acc: 0.0418\n",
      "Epoch 8/100\n",
      "2153/2153 [==============================] - 4s 2ms/step - loss: 5.6240 - acc: 0.0418\n",
      "Epoch 9/100\n",
      "2153/2153 [==============================] - 4s 2ms/step - loss: 5.6172 - acc: 0.0553\n",
      "Epoch 10/100\n",
      "2153/2153 [==============================] - 4s 2ms/step - loss: 5.5860 - acc: 0.0687\n",
      "Epoch 11/100\n",
      "2153/2153 [==============================] - 4s 2ms/step - loss: 5.5403 - acc: 0.0715\n",
      "Epoch 12/100\n",
      "2153/2153 [==============================] - 4s 2ms/step - loss: 5.4918 - acc: 0.0711\n",
      "Epoch 13/100\n",
      "2153/2153 [==============================] - 4s 2ms/step - loss: 5.4367 - acc: 0.0720\n",
      "Epoch 14/100\n",
      "2153/2153 [==============================] - 3s 2ms/step - loss: 5.3603 - acc: 0.0706\n",
      "Epoch 15/100\n",
      "2153/2153 [==============================] - 4s 2ms/step - loss: 5.2706 - acc: 0.0706\n",
      "Epoch 16/100\n",
      "2153/2153 [==============================] - 4s 2ms/step - loss: 5.1826 - acc: 0.0748\n",
      "Epoch 17/100\n",
      "2153/2153 [==============================] - 3s 2ms/step - loss: 5.1083 - acc: 0.0729\n",
      "Epoch 18/100\n",
      "2153/2153 [==============================] - 3s 2ms/step - loss: 5.0337 - acc: 0.0780\n",
      "Epoch 19/100\n",
      "2153/2153 [==============================] - 3s 2ms/step - loss: 4.9517 - acc: 0.0869\n",
      "Epoch 20/100\n",
      "2153/2153 [==============================] - 3s 2ms/step - loss: 4.8876 - acc: 0.0836\n",
      "Epoch 21/100\n",
      "2153/2153 [==============================] - 3s 2ms/step - loss: 4.7960 - acc: 0.1003A: 0s - loss: 4.7931 - acc: 0.1\n",
      "Epoch 22/100\n",
      "2153/2153 [==============================] - 4s 2ms/step - loss: 4.7092 - acc: 0.1087A: 2s - loss: 4.634\n",
      "Epoch 23/100\n",
      "2153/2153 [==============================] - 4s 2ms/step - loss: 4.6236 - acc: 0.1115\n",
      "Epoch 24/100\n",
      "2153/2153 [==============================] - 4s 2ms/step - loss: 4.5073 - acc: 0.1235\n",
      "Epoch 25/100\n",
      "2153/2153 [==============================] - 4s 2ms/step - loss: 4.3958 - acc: 0.1212\n",
      "Epoch 26/100\n",
      "2153/2153 [==============================] - 4s 2ms/step - loss: 4.2951 - acc: 0.1263\n",
      "Epoch 27/100\n",
      "2153/2153 [==============================] - 4s 2ms/step - loss: 4.2096 - acc: 0.1389\n",
      "Epoch 28/100\n",
      "2153/2153 [==============================] - 4s 2ms/step - loss: 4.1264 - acc: 0.1444\n",
      "Epoch 29/100\n",
      "2153/2153 [==============================] - 3s 2ms/step - loss: 4.0433 - acc: 0.1486\n",
      "Epoch 30/100\n",
      "2153/2153 [==============================] - 4s 2ms/step - loss: 3.9803 - acc: 0.1523\n",
      "Epoch 31/100\n",
      "2153/2153 [==============================] - 4s 2ms/step - loss: 3.9079 - acc: 0.1570\n",
      "Epoch 32/100\n",
      "2153/2153 [==============================] - 3s 2ms/step - loss: 3.8495 - acc: 0.1612\n",
      "Epoch 33/100\n",
      "2153/2153 [==============================] - 4s 2ms/step - loss: 3.7735 - acc: 0.1719\n",
      "Epoch 34/100\n",
      "2153/2153 [==============================] - 4s 2ms/step - loss: 3.7235 - acc: 0.1811\n",
      "Epoch 35/100\n",
      "2153/2153 [==============================] - 4s 2ms/step - loss: 3.6570 - acc: 0.1835\n",
      "Epoch 36/100\n",
      "2153/2153 [==============================] - 4s 2ms/step - loss: 3.6081 - acc: 0.1821\n",
      "Epoch 37/100\n",
      "2153/2153 [==============================] - 4s 2ms/step - loss: 3.5371 - acc: 0.1876\n",
      "Epoch 38/100\n",
      "2153/2153 [==============================] - 4s 2ms/step - loss: 3.4969 - acc: 0.2020\n",
      "Epoch 39/100\n",
      "2153/2153 [==============================] - 4s 2ms/step - loss: 3.4564 - acc: 0.1960\n",
      "Epoch 40/100\n",
      "2153/2153 [==============================] - 4s 2ms/step - loss: 3.4058 - acc: 0.2150\n",
      "Epoch 41/100\n",
      "2153/2153 [==============================] - 4s 2ms/step - loss: 3.3587 - acc: 0.2076\n",
      "Epoch 42/100\n",
      "2153/2153 [==============================] - 4s 2ms/step - loss: 3.3016 - acc: 0.2127A: 2s - loss: 3.2312 - \n",
      "Epoch 43/100\n",
      "2153/2153 [==============================] - 4s 2ms/step - loss: 3.2456 - acc: 0.2220\n",
      "Epoch 44/100\n",
      "2153/2153 [==============================] - 4s 2ms/step - loss: 3.2064 - acc: 0.2304\n",
      "Epoch 45/100\n",
      "2153/2153 [==============================] - 4s 2ms/step - loss: 3.1626 - acc: 0.2341\n",
      "Epoch 46/100\n",
      "2153/2153 [==============================] - 4s 2ms/step - loss: 3.1067 - acc: 0.2476\n",
      "Epoch 47/100\n",
      "2153/2153 [==============================] - 4s 2ms/step - loss: 3.0655 - acc: 0.2480\n",
      "Epoch 48/100\n",
      "2153/2153 [==============================] - 4s 2ms/step - loss: 3.0191 - acc: 0.2564\n",
      "Epoch 49/100\n",
      "2153/2153 [==============================] - 4s 2ms/step - loss: 2.9883 - acc: 0.2685\n",
      "Epoch 50/100\n",
      "2153/2153 [==============================] - 4s 2ms/step - loss: 2.9321 - acc: 0.2712\n",
      "Epoch 51/100\n",
      "2153/2153 [==============================] - 4s 2ms/step - loss: 2.8913 - acc: 0.2708\n",
      "Epoch 52/100\n",
      "2153/2153 [==============================] - 4s 2ms/step - loss: 2.8569 - acc: 0.2815\n",
      "Epoch 53/100\n",
      "2153/2153 [==============================] - 4s 2ms/step - loss: 2.8106 - acc: 0.2926\n",
      "Epoch 54/100\n",
      "2153/2153 [==============================] - 4s 2ms/step - loss: 2.7894 - acc: 0.3019\n",
      "Epoch 55/100\n",
      "2153/2153 [==============================] - 4s 2ms/step - loss: 2.7763 - acc: 0.3014\n",
      "Epoch 56/100\n",
      "2153/2153 [==============================] - 4s 2ms/step - loss: 2.7562 - acc: 0.3052\n",
      "Epoch 57/100\n",
      "2153/2153 [==============================] - 4s 2ms/step - loss: 2.7168 - acc: 0.3093\n",
      "Epoch 58/100\n",
      "2153/2153 [==============================] - 4s 2ms/step - loss: 2.6759 - acc: 0.3131\n",
      "Epoch 59/100\n",
      "2153/2153 [==============================] - 4s 2ms/step - loss: 2.6242 - acc: 0.3367\n",
      "Epoch 60/100\n",
      "2153/2153 [==============================] - 4s 2ms/step - loss: 2.5798 - acc: 0.3391\n",
      "Epoch 61/100\n",
      "2153/2153 [==============================] - 4s 2ms/step - loss: 2.5478 - acc: 0.3493\n",
      "Epoch 62/100\n",
      "2153/2153 [==============================] - 4s 2ms/step - loss: 2.5167 - acc: 0.3488\n",
      "Epoch 63/100\n",
      "2153/2153 [==============================] - 4s 2ms/step - loss: 2.4848 - acc: 0.3590\n",
      "Epoch 64/100\n",
      "2153/2153 [==============================] - 4s 2ms/step - loss: 2.4574 - acc: 0.3711\n",
      "Epoch 65/100\n",
      "2153/2153 [==============================] - 4s 2ms/step - loss: 2.4225 - acc: 0.3720\n",
      "Epoch 66/100\n",
      "2153/2153 [==============================] - 4s 2ms/step - loss: 2.3911 - acc: 0.3832\n",
      "Epoch 67/100\n",
      "2153/2153 [==============================] - 4s 2ms/step - loss: 2.3534 - acc: 0.4083\n",
      "Epoch 68/100\n",
      "2153/2153 [==============================] - 4s 2ms/step - loss: 2.3440 - acc: 0.3943\n",
      "Epoch 69/100\n",
      "2153/2153 [==============================] - 4s 2ms/step - loss: 2.2997 - acc: 0.4111\n",
      "Epoch 70/100\n",
      "2153/2153 [==============================] - 4s 2ms/step - loss: 2.2805 - acc: 0.4032\n",
      "Epoch 71/100\n",
      "2153/2153 [==============================] - 4s 2ms/step - loss: 2.2637 - acc: 0.4138\n",
      "Epoch 72/100\n",
      "2153/2153 [==============================] - 4s 2ms/step - loss: 2.2228 - acc: 0.4129\n",
      "Epoch 73/100\n",
      "2153/2153 [==============================] - 4s 2ms/step - loss: 2.1780 - acc: 0.4426\n",
      "Epoch 74/100\n",
      "2153/2153 [==============================] - 4s 2ms/step - loss: 2.1507 - acc: 0.4450\n",
      "Epoch 75/100\n",
      "2153/2153 [==============================] - 4s 2ms/step - loss: 2.1214 - acc: 0.4477\n",
      "Epoch 76/100\n",
      "2153/2153 [==============================] - 4s 2ms/step - loss: 2.1160 - acc: 0.4505\n",
      "Epoch 77/100\n",
      "2153/2153 [==============================] - 4s 2ms/step - loss: 2.0718 - acc: 0.4631\n",
      "Epoch 78/100\n",
      "2153/2153 [==============================] - 4s 2ms/step - loss: 2.0394 - acc: 0.4635\n",
      "Epoch 79/100\n",
      "2153/2153 [==============================] - 4s 2ms/step - loss: 2.0063 - acc: 0.4858\n",
      "Epoch 80/100\n",
      "2153/2153 [==============================] - 4s 2ms/step - loss: 1.9668 - acc: 0.4979\n",
      "Epoch 81/100\n",
      "2153/2153 [==============================] - 4s 2ms/step - loss: 1.9453 - acc: 0.5077\n",
      "Epoch 82/100\n",
      "2153/2153 [==============================] - 4s 2ms/step - loss: 1.9033 - acc: 0.5109\n",
      "Epoch 83/100\n"
     ]
    },
    {
     "name": "stdout",
     "output_type": "stream",
     "text": [
      "2153/2153 [==============================] - 4s 2ms/step - loss: 1.8918 - acc: 0.5151\n",
      "Epoch 84/100\n",
      "2153/2153 [==============================] - 3s 2ms/step - loss: 1.8535 - acc: 0.5300\n",
      "Epoch 85/100\n",
      "2153/2153 [==============================] - 4s 2ms/step - loss: 1.8230 - acc: 0.5411\n",
      "Epoch 86/100\n",
      "2153/2153 [==============================] - 3s 2ms/step - loss: 1.7919 - acc: 0.5467\n",
      "Epoch 87/100\n",
      "2153/2153 [==============================] - 3s 2ms/step - loss: 1.7905 - acc: 0.5444\n",
      "Epoch 88/100\n",
      "2153/2153 [==============================] - 3s 2ms/step - loss: 1.7417 - acc: 0.5536\n",
      "Epoch 89/100\n",
      "2153/2153 [==============================] - 3s 2ms/step - loss: 1.7127 - acc: 0.5662\n",
      "Epoch 90/100\n",
      "2153/2153 [==============================] - 3s 2ms/step - loss: 1.6812 - acc: 0.5764\n",
      "Epoch 91/100\n",
      "2153/2153 [==============================] - 4s 2ms/step - loss: 1.6578 - acc: 0.5787A: 2s - loss: 1.5698 \n",
      "Epoch 92/100\n",
      "2153/2153 [==============================] - 4s 2ms/step - loss: 1.6240 - acc: 0.5936\n",
      "Epoch 93/100\n",
      "2153/2153 [==============================] - 4s 2ms/step - loss: 1.5994 - acc: 0.6010\n",
      "Epoch 94/100\n",
      "2153/2153 [==============================] - 4s 2ms/step - loss: 1.5719 - acc: 0.6001\n",
      "Epoch 95/100\n",
      "2153/2153 [==============================] - 3s 2ms/step - loss: 1.5266 - acc: 0.6210\n",
      "Epoch 96/100\n",
      "2153/2153 [==============================] - 4s 2ms/step - loss: 1.5061 - acc: 0.6331A: 1s - loss: 1.4656 - acc:\n",
      "Epoch 97/100\n",
      "2153/2153 [==============================] - 3s 2ms/step - loss: 1.4750 - acc: 0.6275\n",
      "Epoch 98/100\n",
      "2153/2153 [==============================] - 4s 2ms/step - loss: 1.4337 - acc: 0.6516\n",
      "Epoch 99/100\n",
      "2153/2153 [==============================] - 4s 2ms/step - loss: 1.4091 - acc: 0.6665\n",
      "Epoch 100/100\n",
      "2153/2153 [==============================] - 4s 2ms/step - loss: 1.4032 - acc: 0.6563\n"
     ]
    },
    {
     "data": {
      "text/plain": [
       "<keras.callbacks.History at 0x1240edc50>"
      ]
     },
     "execution_count": 127,
     "metadata": {},
     "output_type": "execute_result"
    }
   ],
   "source": [
    "model.fit(X, y, batch_size=128, epochs=100)"
   ]
  },
  {
   "cell_type": "code",
   "execution_count": 131,
   "metadata": {
    "collapsed": true
   },
   "outputs": [],
   "source": [
    "# save model\n",
    "model.save('base_model_from_Machine_Learning_Mastery.h5')"
   ]
  },
  {
   "cell_type": "code",
   "execution_count": 32,
   "metadata": {
    "collapsed": true
   },
   "outputs": [],
   "source": [
    "reverse_dict = dict([(index, word) for word, index in tokenizer.word_index.items()])\n",
    "\n",
    "with open('neutral_milk_hotel_word_to_index.pkl', 'wb') as f:\n",
    "    pickle.dump(tokenizer.word_index, file=f)\n",
    "\n",
    "with open('neutral_milk_hotel_index_to_word.pkl', 'wb') as f:\n",
    "    pickle.dump(reverse_dict, file=f)"
   ]
  },
  {
   "cell_type": "code",
   "execution_count": 209,
   "metadata": {
    "collapsed": true
   },
   "outputs": [],
   "source": [
    "def generate_seq(model=model,\n",
    "                 tokenizer=tokenizer,\n",
    "                 seq_length=seq_length,\n",
    "                 seed_text=lines[np.random.randint(0,len(lines))],\n",
    "                 n_words=500):\n",
    "    result = []\n",
    "    in_text = seed_text\n",
    "    for _ in range(n_words):\n",
    "        encoded = tokenizer.texts_to_sequences([in_text])[0]\n",
    "        encoded = pad_sequences([encoded], maxlen=seq_length, truncating='pre')\n",
    "        yhat = model.predict_classes(encoded, verbose=0)\n",
    "        word = reverse_dict[yhat[0]]\n",
    "        in_text = in_text + ' ' + word\n",
    "        result.append(word)\n",
    "    return ' '.join(result)"
   ]
  },
  {
   "cell_type": "code",
   "execution_count": 210,
   "metadata": {},
   "outputs": [
    {
     "data": {
      "text/plain": [
       "'ashes left born and theyll need screams and falls apart chorus two your mouth to say ourselves at least enough to carry to carry on standing communist the mountain love the enemies with jesus enemies i sank take you you will live forever you tomatoes and radio wires and wont safe and retire on a spine to say hang for your hollow ways moving your mouth to pull out to have found and ugly bursting to carry to carry to say again moving a face i when all bridge do do do do do do do do do do do do do do do do do do do do do do i will know you buried you will be one you you her sister and mother and fivehundred families and twist we is around a place all bend and spitting wanting and could left where a dead dog as and sleep to tore to pull out to be myself again things to try but your mouth on your miracles aimed to say keys for two the point shout with know you will love you spitting did she will take off our place you fivehundred wait for the rest of your eyes of some holy enemy ill crush speaking and wont were longer machine while verse1 the snow and do do do do do do do do do do do do do do do do do do do do do do do i know i know you buried you will be one you you her sister and mother and fivehundred families and dad left just a beautiful aint to tore to others escape laughing with flies and see cant face to standing verse3 the rest pouring you our will take off our place with white holy spectacle lies for your life and when you say what a mother where for me a little displays silver silver speakers from this place to see but a lover agree and clean with at her sort to carry to carry on verse2 and over the sky we she take within i used to tomatoes in be move to say ourselves above her sort to carry on verse2 semen stains lalalala lalala lalalala lalala lalalala la la la lalalala lalalala dee dee dee dee dee dee dee dee dee dee dee dee dee dee dee dee dee dee dee dee dee dee dee dee dee dee dee dee dee dee dee dee dee dee dee dee dee dee dee dee dee dee dee dee dee dee dee dee dee dee dee dee dee dee dee dee dee dee dee dee dee dee dee dee dee dee dee dee dee dee dee dee dee dee dee dee dee dee dee dee dee dee dee dee dee dee dee dee dee dee dee dee dee dee dee dee dee dee dee dee dee dee dee dee dee dee dee dee dee dee dee dee dee dee dee dee dee dee dee dee dee dee dee dee dee dee'"
      ]
     },
     "execution_count": 210,
     "metadata": {},
     "output_type": "execute_result"
    }
   ],
   "source": [
    "generate_seq()"
   ]
  }
 ],
 "metadata": {
  "kernelspec": {
   "display_name": "Python 3",
   "language": "python",
   "name": "python3"
  },
  "language_info": {
   "codemirror_mode": {
    "name": "ipython",
    "version": 3
   },
   "file_extension": ".py",
   "mimetype": "text/x-python",
   "name": "python",
   "nbconvert_exporter": "python",
   "pygments_lexer": "ipython3",
   "version": "3.6.4"
  }
 },
 "nbformat": 4,
 "nbformat_minor": 2
}
