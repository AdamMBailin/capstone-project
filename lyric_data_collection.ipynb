{
 "cells": [
  {
   "cell_type": "code",
   "execution_count": 25,
   "metadata": {},
   "outputs": [
    {
     "name": "stdout",
     "output_type": "stream",
     "text": [
      "Requirement already satisfied: lxml in /opt/conda/lib/python3.6/site-packages\n",
      "\u001b[33mYou are using pip version 9.0.1, however version 9.0.3 is available.\n",
      "You should consider upgrading via the 'pip install --upgrade pip' command.\u001b[0m\n"
     ]
    }
   ],
   "source": [
    "!pip install lxml"
   ]
  },
  {
   "cell_type": "code",
   "execution_count": 10,
   "metadata": {
    "collapsed": true
   },
   "outputs": [],
   "source": [
    "import pandas as pd\n",
    "import pickle\n",
    "from bs4 import BeautifulSoup\n",
    "import csv\n",
    "from time import sleep\n",
    "import requests\n",
    "import re\n",
    "import lxml\n",
    "import string\n",
    "\n",
    "translator = str.maketrans('', '', string.punctuation)"
   ]
  },
  {
   "cell_type": "code",
   "execution_count": 3,
   "metadata": {
    "collapsed": true
   },
   "outputs": [],
   "source": [
    "genre_tuples = [\n",
    "    ('folk', 30, 'https://www.albumoftheyear.org/genre/5-folk/all/pitchfork/'), \n",
    "    ('indie_folk', 11, 'https://www.albumoftheyear.org/genre/16-indie-folk/all/'),\n",
    "    ('folk_rock', 7, 'https://www.albumoftheyear.org/genre/14-folk-rock/all/pitchfork/'),\n",
    "    ('alt_country', 8, 'https://www.albumoftheyear.org/genre/17-alt-country/all/'),\n",
    "    ('hip_hip', 48, 'https://www.albumoftheyear.org/genre/3-hip-hop/all/pitchfork/'),\n",
    "    ('pop', 15, 'https://www.albumoftheyear.org/genre/15-pop/all/pitchfork/'),\n",
    "    ('alt_rock', 26, 'https://www.albumoftheyear.org/genre/2-alternative-rock/all/pitchfork/'),\n",
    "    ('Rock', 120, 'https://www.albumoftheyear.org/genre/7-rock/all/pitchfork/'),\n",
    "    ('experimental_rock', 8, 'https://www.albumoftheyear.org/genre/8-experimental-rock/all/pitchfork/')\n",
    "]\n",
    "\n",
    "\n",
    "\n",
    "def album_getter(tuples, album_id=800):\n",
    "    \n",
    "    for genre_tuple in tuples:\n",
    "        name, pages, url  = genre_tuple\n",
    "        \n",
    "        albums = {}\n",
    "        \n",
    "        for page in range(1, pages):\n",
    "            res = requests.get(url + str(page) + '/')\n",
    "            print(name, page, res.status_code)\n",
    "            soup = BeautifulSoup(res.content, 'lxml')\n",
    "            for x in soup.find_all('div', {'class', 'albumListRow'}):\n",
    "                \n",
    "                score        = (x.find('div', {'class', 'scoreValue'}).text)\n",
    "                album        = ((x.find('a').text.split('-')[1]).strip())\n",
    "                artist       = ((x.find('a').text.split('-')[0]).strip())\n",
    "                release_date = x.find('div', {'class', 'albumListDate'}).text\n",
    "\n",
    "                albums[album_id] = {\n",
    "                    'album_id'    : album_id,\n",
    "                    'score'       : score,\n",
    "                    'album'       : album,\n",
    "                    'artist'      : artist,\n",
    "                    'release_date': release_date\n",
    "                }\n",
    "\n",
    "                album_id = album_id + 1\n",
    "            sleep(1)\n",
    "            \n",
    "        pickle.dump(albums, open(name + '_album_dict.pkl', 'wb'))"
   ]
  },
  {
   "cell_type": "code",
   "execution_count": 16,
   "metadata": {
    "collapsed": true
   },
   "outputs": [],
   "source": [
    "def lyric_getter():\n",
    "    \n",
    "    bad_urls = []\n",
    "    \n",
    "    list_of_genre_names = ['alt_country', 'hip_hip', 'pop', 'alt_rock', 'Rock', 'experimental_rock']\n",
    "    \n",
    "    for name in list_of_genre_names:\n",
    "    \n",
    "        with open(name + '_album_dict.pkl', 'rb') as f:\n",
    "            album_dict = pickle.load(f)\n",
    "\n",
    "        song_id = 0\n",
    "\n",
    "        base_url = 'https://genius.com/albums/'\n",
    "\n",
    "        song_dictionary = {}\n",
    "\n",
    "        for album_id in album_dict:\n",
    "            try:\n",
    "\n",
    "                album         = album_dict[album_id]['album']\n",
    "                artist        = album_dict[album_id]['artist']\n",
    "\n",
    "                url_artist = artist.translate(translator).replace(' ', '-')\n",
    "                url_album  = album.translate(translator).replace(' ', '-')\n",
    "\n",
    "                album_href = base_url + url_artist + '/' + url_album + '/'\n",
    "\n",
    "                album_result = requests.get(album_href)\n",
    "\n",
    "                sleep(1)\n",
    "\n",
    "                if album_result.status_code == 200:\n",
    "\n",
    "                    album_soup = BeautifulSoup(album_result.content, 'lxml')\n",
    "\n",
    "                    track_counts  = album_soup.find_all('div', {'class': 'chart_row-number_container chart_row-number_container--align_left'})\n",
    "                    track_listing = album_soup.find_all('div', {'class': 'chart_row-content'})\n",
    "\n",
    "                    for count, song in enumerate(track_listing):\n",
    "\n",
    "                        track_count = track_counts[count].find('span').text.replace('\\n', '')\n",
    "                        song_title  = track_listing[count].find('h3').text.strip().split('\\n')[0]\n",
    "                        href        = track_listing[count].find('a')['href']\n",
    "\n",
    "                        song_results = requests.get(href)\n",
    "                        song_soup    = BeautifulSoup(song_results.content, 'lxml')\n",
    "                        lyrics       = re.sub('(\\\\n){2}', '\\\\n', song_soup.find('p').text).replace('\\n', ' n ')\n",
    "\n",
    "                        song_info = [\n",
    "                            str(song_id),\n",
    "                            str(album_id),\n",
    "                            artist,\n",
    "                            album,\n",
    "                            album_href,\n",
    "                            song_title,\n",
    "                            track_count,\n",
    "                            lyrics,\n",
    "                            href,\n",
    "                        ]\n",
    "\n",
    "                        with open(name + 'song_lyrics.psv', 'a+') as f:\n",
    "                            f.write('|'.join(song_info) + '\\n')\n",
    "\n",
    "                        song_dictionary[song_id] = {\n",
    "                            'song_id'      : song_id,\n",
    "                            'album_id'     : album_id,\n",
    "                            'artist'       : artist,\n",
    "                            'album'        : album,\n",
    "                            'album_href'   : album_href,\n",
    "                            'song_title'   : song_title,\n",
    "                            'track_count'  : track_count,\n",
    "                            'lyrics'       : lyrics,\n",
    "                            'href'         : href\n",
    "                        }\n",
    "\n",
    "                        song_id = song_id + 1\n",
    "\n",
    "                        sleep(1)\n",
    "\n",
    "                else:\n",
    "                    bad_urls.append(album_id)\n",
    "                    pass\n",
    "            except:\n",
    "                bad_urls.append(album_id)\n",
    "                pass\n",
    "        \n",
    "    pickle.dump(song_dictionary, open(name + 'song_dictionary.pkl', 'wb'))\n",
    "\n",
    "    pickle.dump(bad_urls, open('bad_urls.pkl', 'wb'))"
   ]
  },
  {
   "cell_type": "code",
   "execution_count": 17,
   "metadata": {
    "collapsed": true,
    "scrolled": false
   },
   "outputs": [],
   "source": [
    "album_getter(genre_tuples)"
   ]
  },
  {
   "cell_type": "code",
   "execution_count": 18,
   "metadata": {
    "collapsed": true
   },
   "outputs": [],
   "source": [
    "lyric_getter()"
   ]
  },
  {
   "cell_type": "code",
   "execution_count": null,
   "metadata": {
    "collapsed": true
   },
   "outputs": [],
   "source": []
  }
 ],
 "metadata": {
  "kernelspec": {
   "display_name": "Python 3",
   "language": "python",
   "name": "python3"
  },
  "language_info": {
   "codemirror_mode": {
    "name": "ipython",
    "version": 3
   },
   "file_extension": ".py",
   "mimetype": "text/x-python",
   "name": "python",
   "nbconvert_exporter": "python",
   "pygments_lexer": "ipython3",
   "version": "3.6.4"
  }
 },
 "nbformat": 4,
 "nbformat_minor": 2
}
