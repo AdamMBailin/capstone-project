{
 "cells": [
  {
   "cell_type": "code",
   "execution_count": 1,
   "metadata": {
    "collapsed": true
   },
   "outputs": [],
   "source": [
    "# good to go for AWS\n",
    "import pandas as pd\n",
    "import pickle\n",
    "from selenium import webdriver\n",
    "from bs4 import BeautifulSoup\n",
    "import csv\n",
    "from time import sleep\n",
    "import requests\n",
    "import re\n",
    "\n",
    "import string\n",
    "translator = str.maketrans('', '', string.punctuation)\n",
    "\n",
    "def start_driver():\n",
    "    options = webdriver.ChromeOptions()\n",
    "    options.binary_location = '/opt/google/chrome/google-chrome'\n",
    "    options.add_argument('headless')\n",
    "    driver = webdriver.Chrome('./chromedriver', chrome_options=options)\n",
    "    return driver\n",
    "\n",
    "# sleep(100)"
   ]
  },
  {
   "cell_type": "code",
   "execution_count": 2,
   "metadata": {
    "collapsed": true
   },
   "outputs": [],
   "source": [
    "# needs work\n",
    "import pickle\n",
    "from bs4 import BeautifulSoup\n",
    "from time import sleep\n",
    "import requests\n",
    "import re\n",
    "\n",
    "genre_tuples = [\n",
    "    ('folk', 30, 'https://www.albumoftheyear.org/genre/5-folk/all/pitchfork/'), \n",
    "    ('indie_folk', 11, 'https://www.albumoftheyear.org/genre/16-indie-folk/all/'),\n",
    "    ('folk_rock', 7, 'https://www.albumoftheyear.org/genre/14-folk-rock/all/pitchfork/'),\n",
    "    ('alt_country', 8, 'https://www.albumoftheyear.org/genre/17-alt-country/all/'),\n",
    "#     ('hip_hip', 48, 'https://www.albumoftheyear.org/genre/3-hip-hop/all/pitchfork/'),\n",
    "#     ('pop', 15, 'https://www.albumoftheyear.org/genre/15-pop/all/pitchfork/'),\n",
    "    ('alt_rock', 26, 'https://www.albumoftheyear.org/genre/2-alternative-rock/all/pitchfork/'),\n",
    "    ('Rock', )\n",
    "]\n",
    "\n",
    "def album_getter(tuples):\n",
    "    \n",
    "    for genre_tuple in tuples:\n",
    "        name, pages, url  = genre_tuple\n",
    "        \n",
    "        albums = {}\n",
    "        album_id = 1\n",
    "        \n",
    "        for page in range(1, pages):\n",
    "            res = requests.get(url + str(page) + '/')\n",
    "            print(name, page, res.status_code)\n",
    "            soup = BeautifulSoup(res.content, 'lxml')\n",
    "            for x in soup.find_all('div', {'class', 'albumListRow'}):\n",
    "                \n",
    "                score        = (x.find('div', {'class', 'scoreValue'}).text)\n",
    "                album        = ((x.find('a').text.split('-')[1]).strip())\n",
    "                artist       = ((x.find('a').text.split('-')[0]).strip())\n",
    "                release_date = x.find('div', {'class', 'albumListDate'}).text\n",
    "\n",
    "                albums[album_id] = {\n",
    "                    'album_id'    : album_id,\n",
    "                    'score'       : score,\n",
    "                    'album'       : album,\n",
    "                    'artist'      : artist,\n",
    "                    'release_date': release_date\n",
    "                }\n",
    "\n",
    "                album_id = album_id + 1\n",
    "            sleep(1)\n",
    "            \n",
    "        pickle.dump(albums, open(name + '_album_dict.pkl', 'wb'))"
   ]
  },
  {
   "cell_type": "code",
   "execution_count": 3,
   "metadata": {
    "scrolled": true
   },
   "outputs": [
    {
     "ename": "KeyboardInterrupt",
     "evalue": "",
     "output_type": "error",
     "traceback": [
      "\u001b[0;31m---------------------------------------------------------------------------\u001b[0m",
      "\u001b[0;31mKeyboardInterrupt\u001b[0m                         Traceback (most recent call last)",
      "\u001b[0;32m<ipython-input-3-d6b1c7f678ed>\u001b[0m in \u001b[0;36m<module>\u001b[0;34m()\u001b[0m\n\u001b[1;32m    101\u001b[0m     \u001b[0mpickle\u001b[0m\u001b[0;34m.\u001b[0m\u001b[0mdump\u001b[0m\u001b[0;34m(\u001b[0m\u001b[0mbad_urls\u001b[0m\u001b[0;34m,\u001b[0m \u001b[0mopen\u001b[0m\u001b[0;34m(\u001b[0m\u001b[0;34m'bad_urls.pkl'\u001b[0m\u001b[0;34m,\u001b[0m \u001b[0;34m'wb'\u001b[0m\u001b[0;34m)\u001b[0m\u001b[0;34m)\u001b[0m\u001b[0;34m\u001b[0m\u001b[0m\n\u001b[1;32m    102\u001b[0m \u001b[0;34m\u001b[0m\u001b[0m\n\u001b[0;32m--> 103\u001b[0;31m \u001b[0msleep\u001b[0m\u001b[0;34m(\u001b[0m\u001b[0;36m100\u001b[0m\u001b[0;34m)\u001b[0m\u001b[0;34m\u001b[0m\u001b[0m\n\u001b[0m\u001b[1;32m    104\u001b[0m \u001b[0;34m\u001b[0m\u001b[0m\n\u001b[1;32m    105\u001b[0m \u001b[0mlyric_getter\u001b[0m\u001b[0;34m(\u001b[0m\u001b[0mall_folk_albums\u001b[0m\u001b[0;34m)\u001b[0m\u001b[0;34m\u001b[0m\u001b[0m\n",
      "\u001b[0;31mKeyboardInterrupt\u001b[0m: "
     ]
    }
   ],
   "source": [
    "import pandas as pd\n",
    "import pickle\n",
    "from selenium import webdriver\n",
    "from bs4 import BeautifulSoup\n",
    "import csv\n",
    "from time import sleep\n",
    "import requests\n",
    "import re\n",
    "import string\n",
    "\n",
    "translator = str.maketrans('', '', string.punctuation)\n",
    "\n",
    "with open('all_folk_albums.pkl', 'rb') as f:\n",
    "    all_folk_albums = pickle.load(f)\n",
    "\n",
    "def lyric_getter(album_dict):\n",
    "    \n",
    "    song_id = 0\n",
    "    \n",
    "    base_url = 'https://genius.com/albums/'\n",
    "    \n",
    "    song_dictionary = {}\n",
    "    \n",
    "    bad_urls = []\n",
    "    \n",
    "    for album_id in album_dict:\n",
    "        album         = album_dict[album_id]['album']\n",
    "        artist        = album_dict[album_id]['artist']\n",
    "        is_folk       = album_dict[album_id]['is_folk']\n",
    "        is_folk_rock  = album_dict[album_id]['is_folk_rock']\n",
    "        is_indie_folk = album_dict[album_id]['is_indie_folk']\n",
    "        \n",
    "        url_artist = artist.translate(translator).replace(' ', '-')\n",
    "        url_album  = album.translate(translator).replace(' ', '-')\n",
    "        \n",
    "        album_href = base_url + url_artist + '/' + url_album + '/'\n",
    "        \n",
    "        album_result = requests.get(album_href)\n",
    "        \n",
    "        sleep(1)\n",
    "        \n",
    "        if album_result.status_code == 200:\n",
    "            \n",
    "            album_soup = BeautifulSoup(album_result.content, 'lxml')\n",
    "            \n",
    "            track_counts  = album_soup.find_all('div', {'class': 'chart_row-number_container chart_row-number_container--align_left'})\n",
    "            track_listing = album_soup.find_all('div', {'class': 'chart_row-content'})\n",
    "            \n",
    "            for count, song in enumerate(track_listing):\n",
    "\n",
    "                track_count = track_counts[count].find('span').text.replace('\\n', '')\n",
    "                song_title  = track_listing[count].find('h3').text.strip().split('\\n')[0]\n",
    "                href        = track_listing[count].find('a')['href']\n",
    "\n",
    "                song_results = requests.get(href)\n",
    "                song_soup    = BeautifulSoup(song_results.content, 'lxml')\n",
    "                lyrics       = re.sub('(\\\\n){2}', '\\\\n', song_soup.find('p').text).replace('\\n', ' n ')\n",
    "\n",
    "                song_info = [\n",
    "                    str(song_id),\n",
    "                    str(album_id),\n",
    "                    artist,\n",
    "                    album,\n",
    "                    album_href,\n",
    "                    song_title,\n",
    "                    track_count,\n",
    "                    lyrics,\n",
    "                    href,\n",
    "                    str(is_folk),\n",
    "                    str(is_folk_rock),\n",
    "                    str(is_indie_folk),\n",
    "                ]\n",
    "                \n",
    "                with open('song_lyrics.psv', 'a+') as f:\n",
    "                    f.write('|'.join(song_info) + '\\n')\n",
    "                    \n",
    "                song_dictionary[song_id] = {\n",
    "                    'song_id'      : song_id,\n",
    "                    'album_id'     : album_id,\n",
    "                    'artist'       : artist,\n",
    "                    'album'        : album,\n",
    "                    'album_href'   : album_href,\n",
    "                    'song_title'   : song_title,\n",
    "                    'track_count'  : track_count,\n",
    "                    'lyrics'       : lyrics,\n",
    "                    'href'         : href,\n",
    "                    'is_folk'      : is_folk,\n",
    "                    'is_folk_rock' : is_folk_rock,\n",
    "                    'is_indie_folk': is_indie_folk\n",
    "                }\n",
    "                    \n",
    "                song_id = song_id + 1\n",
    "                \n",
    "                sleep(1)\n",
    "                \n",
    "        else:\n",
    "            bad_urls.append(album_id)\n",
    "            \n",
    "    pickle.dump(song_dictionary, open('song_dictionary.pkl', 'wb'))\n",
    "            \n",
    "    pickle.dump(bad_urls, open('bad_urls.pkl', 'wb'))\n",
    "    \n",
    "sleep(100)\n",
    "\n",
    "lyric_getter(all_folk_albums)"
   ]
  },
  {
   "cell_type": "code",
   "execution_count": null,
   "metadata": {
    "collapsed": true
   },
   "outputs": [],
   "source": [
    "def is_folk(cell):\n",
    "    return 1\n",
    "\n",
    "# folk_albums\n",
    "folk_albums = pickle.load(open('folk_album_dict.pkl', 'rb'))\n",
    "\n",
    "folk_df = pd.DataFrame(folk_albums).T\n",
    "\n",
    "folk_df['is_folk'] = folk_df['album'].apply(is_folk)"
   ]
  },
  {
   "cell_type": "code",
   "execution_count": 6,
   "metadata": {
    "collapsed": true
   },
   "outputs": [],
   "source": [
    "# folk_rock_albums\n",
    "rock_folk_albums  = pickle.load(open('folk_rock_album_dict.pkl', 'rb'))\n",
    "\n",
    "folk_rock_df = pd.DataFrame(rock_folk_albums).T\n",
    "\n",
    "folk_rock_df['is_folk_rock'] = folk_rock_df['album'].apply(is_folk)"
   ]
  },
  {
   "cell_type": "code",
   "execution_count": 7,
   "metadata": {
    "collapsed": true
   },
   "outputs": [],
   "source": [
    "# indie_folk_albums\n",
    "indie_folk_albums = pickle.load(open('indie_folk_album_dict.pkl', 'rb'))\n",
    "\n",
    "indie_folk_df = pd.DataFrame(indie_folk_albums).T\n",
    "\n",
    "indie_folk_df['is_indie_folk'] = indie_folk_df['album'].apply(is_folk)"
   ]
  },
  {
   "cell_type": "code",
   "execution_count": 8,
   "metadata": {
    "collapsed": true
   },
   "outputs": [],
   "source": [
    "# Merge different folk album lists together\n",
    "folk_df = pd.merge(left=folk_df,\n",
    "                   right=folk_rock_df[['album', 'artist', 'is_folk_rock']],\n",
    "                   on=['album', 'artist'],\n",
    "                   how='outer')\n",
    "\n",
    "folk_df = pd.merge(left=folk_df,\n",
    "                   right=indie_folk_df[['album', 'artist', 'is_indie_folk']],\n",
    "                   on=['album', 'artist'],\n",
    "                   how='outer')"
   ]
  },
  {
   "cell_type": "code",
   "execution_count": 9,
   "metadata": {
    "collapsed": true
   },
   "outputs": [],
   "source": [
    "# fill nan values with 0\n",
    "folk_df[['is_folk', 'is_folk_rock', 'is_indie_folk']] = folk_df[['is_folk', 'is_folk_rock', 'is_indie_folk']].fillna(0)\n",
    "\n",
    "folk_df['album_id'] = folk_df.index\n",
    "\n",
    "folk_df.fillna(0, inplace=True)"
   ]
  },
  {
   "cell_type": "code",
   "execution_count": null,
   "metadata": {
    "collapsed": true
   },
   "outputs": [],
   "source": [
    "# convert to dict\n",
    "all_folk_dict = folk_df.T.to_dict()\n",
    "\n",
    "# save dict as pickle file\n",
    "pickle.dump(all_folk_dict, open('all_folk_albums.pkl', 'wb'))"
   ]
  },
  {
   "cell_type": "code",
   "execution_count": 11,
   "metadata": {},
   "outputs": [
    {
     "data": {
      "text/plain": [
       "(799, 8)"
      ]
     },
     "execution_count": 11,
     "metadata": {},
     "output_type": "execute_result"
    }
   ],
   "source": [
    "folk_df.shape"
   ]
  },
  {
   "cell_type": "code",
   "execution_count": 15,
   "metadata": {},
   "outputs": [
    {
     "data": {
      "text/plain": [
       "array(['Either/Or'], dtype=object)"
      ]
     },
     "execution_count": 15,
     "metadata": {},
     "output_type": "execute_result"
    }
   ],
   "source": [
    "folk_df[folk_df['album_id'] == 46]['album']"
   ]
  },
  {
   "cell_type": "code",
   "execution_count": 23,
   "metadata": {
    "collapsed": true
   },
   "outputs": [],
   "source": [
    "s = 'Either/Or'"
   ]
  },
  {
   "cell_type": "code",
   "execution_count": 24,
   "metadata": {
    "collapsed": true
   },
   "outputs": [],
   "source": [
    "s = s.replace('/', ' ').translate(translator)"
   ]
  },
  {
   "cell_type": "code",
   "execution_count": 25,
   "metadata": {},
   "outputs": [
    {
     "data": {
      "text/plain": [
       "'Either Or'"
      ]
     },
     "execution_count": 25,
     "metadata": {},
     "output_type": "execute_result"
    }
   ],
   "source": [
    "s.translate(translator)"
   ]
  },
  {
   "cell_type": "code",
   "execution_count": 4,
   "metadata": {
    "collapsed": true
   },
   "outputs": [],
   "source": [
    "import pickle"
   ]
  },
  {
   "cell_type": "code",
   "execution_count": 5,
   "metadata": {
    "collapsed": true
   },
   "outputs": [],
   "source": [
    "all_folk = pickle.load(open('all_folk_albums.pkl', 'rb'))"
   ]
  },
  {
   "cell_type": "code",
   "execution_count": 7,
   "metadata": {},
   "outputs": [],
   "source": [
    "all_folk = pd.DataFrame(all_folk).T"
   ]
  },
  {
   "cell_type": "code",
   "execution_count": 10,
   "metadata": {
    "scrolled": false
   },
   "outputs": [
    {
     "data": {
      "text/plain": [
       "array([\"Bonnie 'Prince' Billy\", 'Neutral Milk Hotel', 'Joni Mitchell',\n",
       "       'Bob Dylan', 'Nick Drake', 'Neil Young',\n",
       "       'Lullaby for the Working Class', 'Leonard Cohen', 'Bon Iver',\n",
       "       'Joanna Newsom', 'Simon & Garfunkel', 'Sufjan Stevens',\n",
       "       'Fairport Convention', 'Sun Kil Moon', 'The Microphones',\n",
       "       'Grizzly Bear', \"Jim O'Rourke\", 'Mount Eerie', 'Fleet Foxes',\n",
       "       'Red House Painters', 'Sun City Girls', 'Karen Dalton',\n",
       "       'Vashti Bunyan', 'The Byrds', 'Animal Collective', 'Cat Power',\n",
       "       'Beth Orton', 'Red Red Meat', 'Nico', 'Father John Misty',\n",
       "       'The War on Drugs', 'Phosphorescent', 'Elliott Smith',\n",
       "       'James Blackshaw', 'Califone', 'Bright Eyes', 'Elvis Costello',\n",
       "       'Neil Young and Crazy Horse', 'Judee Sill', 'Van Morrison',\n",
       "       'Julien Baker', 'William Tyler', 'Various Artists', 'Iron & Wine',\n",
       "       'Nina Nastasia & Jim White', 'Angels of Light', 'Rufus Wainwright',\n",
       "       'Linda Perhacs', 'Bill Callahan', 'Kurt Vile',\n",
       "       'The Tallest Man On Earth', 'Blitzen Trapper', 'Bruce Springsteen',\n",
       "       'Calexico & Iron and Wine', 'Okkervil River', 'Thalia Zedek',\n",
       "       'The Mountain Goats', '(Sandy) Alex G', 'Mutual Benefit',\n",
       "       'Cass McCombs', 'Bowerbirds', 'The Decemberists',\n",
       "       'Devendra Banhart', 'Espers', 'Wovenhand', \"Gorky's Zygotic Mynci\",\n",
       "       'Julie Byrne', 'Weyes Blood', 'Whitney', 'Kevin Morby',\n",
       "       'Marissa Nadler', 'Paavoharju', 'Six Organs of Admittance',\n",
       "       'Dear Nora', 'Josh Ritter', 'Andrew Bird', 'M. Ward',\n",
       "       'Circuit Des Yeux', 'Hiss Golden Messenger', 'case/lang/veirs',\n",
       "       'Jack Rose', 'The Dutchess and the Duke',\n",
       "       'Brightblack Morning Light', 'Augie March', 'Damien Jurado',\n",
       "       'Hurray For The Riff Raff', 'Jessica Pratt', 'The Weather Station',\n",
       "       'Laura Marling', 'TORRES', 'Little Scream', 'Nina Nastasia',\n",
       "       'Sam Amidon', 'Megafaun', 'Beirut', 'Richard Dawson', 'Colter Wall',\n",
       "       'Shirley Collins', 'Steve Gunn', 'Nap Eyes', 'Fred Thomas',\n",
       "       'Yowler', 'Matt Kivel', 'Cult of Youth', 'Angel Olsen', 'Bill Fay',\n",
       "       'Daniel Rossen', 'Ólöf Arnalds', 'Alasdair Roberts', 'Anni Rossi',\n",
       "       'Alela Diane', 'Shearwater', 'Jana Hunter', 'Akron/Family',\n",
       "       'American Music Club', 'Kristin Hersh', 'Mark Lanegan Band',\n",
       "       'Songs: Ohia', 'Rodriguez', 'Strand of Oaks', 'Woods',\n",
       "       \"Tara Jane O'Neil\", 'Wooden Wand', 'Sharon Van Etten',\n",
       "       'Nat Baldwin', 'The Extra Lens', 'Meursault', 'The Welcome Wagon',\n",
       "       'Jason Molina', 'My Latest Novel', 'Laura Veirs', 'Lou Barlow',\n",
       "       'Loma', 'James Elkington', 'House and Land', 'Aimee Mann',\n",
       "       'Phil Cook', 'Joan Shelley', 'Amen Dunes', 'Chad VanGaalen',\n",
       "       'Courtney Barnett', 'Mount Moriah', 'Lady Lamb the Beekeeper',\n",
       "       'Mike Wexler', 'Anaïs Mitchell', 'A Hawk and a Hacksaw',\n",
       "       'Ola Podrida', 'Blue Roses', 'Tiny Vipers', 'Mirah',\n",
       "       'Jolie Holland', 'José González', 'Great Lake Swimmers', 'Beck',\n",
       "       'Stick In The Wheel', 'Florist', 'Feist', 'Michael Chapman',\n",
       "       'Ilyas Ahmed', 'Glenn Jones', 'Night Beds',\n",
       "       'Choir of Young Believers', 'Gold Leaves', 'Jessica Lea Mayfield',\n",
       "       'Daniel Martin Moore', 'Mountain Man', 'Martha Wainwright',\n",
       "       'Castanets', 'Richard Thompson', 'Turin Brakes',\n",
       "       'Courtney Barnett & Kurt Vile', 'Avey Tare', 'Rhiannon Giddens',\n",
       "       'Elephant Micah', 'New Bums', 'Kalle Mattson', 'The Black Swans',\n",
       "       'First Aid Kit', 'Fatoumata Diawara', 'The Unthanks',\n",
       "       'Kemialliset Ystävät', 'DM Stith', 'Balmorhea', 'Horse Feathers',\n",
       "       'Caroline Says', 'Hovvdy', 'Bedouine', 'Bob Weir', 'Adam Torres',\n",
       "       'Sam Beam & Jesca Hoop', 'Villagers', 'Eartheater', 'The Amazing',\n",
       "       'Death Vessel', 'Doug Paisley', 'Futurebirds', 'Family Band',\n",
       "       'The Dø', 'William Elliott Whitmore', 'Junip',\n",
       "       'Isobel Campbell & Mark Lanegan', 'S. Carey', 'Hush Arbors',\n",
       "       'Juana Molina', 'Miles Benjamin Anthony Robinson', \"Port O'Brien\",\n",
       "       'The Avett Brothers', 'Richard Swift', 'Vic Chesnutt', 'Joan Baez',\n",
       "       'Brigid Mae Power', 'Gord Downie', 'Entrance', 'Slow Club',\n",
       "       'Steve Gunn & The Black Twig Pickers', 'Emma Ruth Rundle',\n",
       "       'Jess Williamson', 'Dark Dark Dark', 'Laura Gibson', 'Other Lives',\n",
       "       'J. Tillman', 'Roky Erickson with Okkervil River', 'Fruit Bats',\n",
       "       'Baby Dee', 'Songs of Green Pheasant', 'David Karsten Daniels',\n",
       "       'Micah P Hinson', 'Magnolia Electric Co.', 'Haley Heynderickx',\n",
       "       'This Is The Kit', 'Jesca Hoop', 'Michael Nau', 'Cian Nugent',\n",
       "       'Glen Hansard', 'Cate Le Bon', 'Case Studies', 'The Wooden Birds',\n",
       "       \"Joker's Daughter\", 'The Deep Dark Woods', 'Franz Nicolay',\n",
       "       'Mark Kozelek', 'Conor Oberst', 'Le Loup', 'Vetiver',\n",
       "       'Scout Niblett', 'Eric Bachmann', 'Nadia Reid',\n",
       "       'Suuns and Jerusalem in My Heart', 'Avi Buffalo', 'Mirel Wagner',\n",
       "       'Peter Matthew Bauer', 'Alasdair Roberts & Friends',\n",
       "       'Smoke Fairies', 'Lia Ices', 'Mojave 3', 'Matt Elliott', 'Mothers',\n",
       "       'Meg Baird', 'Anamai', 'Neil Halstead', 'Frazey Ford',\n",
       "       \"Dead Man's Bones\", 'Colin Meloy', 'Bobb Trimble',\n",
       "       'Phoebe Bridgers', 'Will Stratton', 'Lost In The Trees',\n",
       "       'Roy Harper', \"Bonnie 'Prince' Billy & Dawn McCarthy\",\n",
       "       'Anaïs Mitchell & Jefferson Hamer', 'Tu Fawning', 'Basia Bulat',\n",
       "       'The Wave Pictures', 'Elvis Perkins', 'Camper Van Beethoven',\n",
       "       'Brandi Carlile', 'Little Wings', 'Arbouretum', 'Peter Wolf Crier',\n",
       "       'The Acorn', 'CocoRosie', 'Mike Cooper', 'Eskimeaux',\n",
       "       'The Skiffle Players', 'The Dodos', 'Stornoway', 'Julian Lynch',\n",
       "       'tUnE', 'The Cave Singers', 'Midlake', 'The Elected',\n",
       "       'Billy Bragg & Wilco', 'Mark Lanegan & Duke Garwood',\n",
       "       'Adam Green & Binki Shapiro', 'Paul Simon', 'Timber Timbre',\n",
       "       'Tift Merritt', 'Hope Sandoval & The Warm Inventions',\n",
       "       'Dirty Three', 'The Finn Brothers', 'Jeff Tweedy',\n",
       "       'Ariel Pink & Weyes Blood', 'Nicole Dollanganger', 'Field Report',\n",
       "       'A.A. Bondy', 'OCS', 'Kele Okereke', 'Tim Cohen', 'Ryley Walker',\n",
       "       'Neil Young & Promise of the Real', 'The Swell Season',\n",
       "       'Monsters of Folk', 'Scott Kelly', 'Ben Harper', 'Buzz Osborne',\n",
       "       'Tall Firs', 'Eddie Vedder', 'Chris Schlarb', 'Emmy the Great',\n",
       "       'Karen Elson', 'Emiliana Torrini', \"Sinéad O'Connor\",\n",
       "       'Flo Morrissey', 'Laura Stevenson', 'Release the Sunbird',\n",
       "       'Yim Yames', 'Ryan Adams', 'Circulus', 'The New Basement Tapes',\n",
       "       \"Man's Gin\", 'Luke Temple', 'Susanna', 'Juan Wauters', 'Husky',\n",
       "       'Edward Sharpe & the Magnetic Zeros', 'Jenny Lewis',\n",
       "       'Ben Harper & The Innocent Criminals', 'Poor Moon',\n",
       "       'Erland & The Carnival', 'Alexander', 'Blue Water White Death',\n",
       "       'Deradoorian', 'Eugene McGuinness', 'Deer Tick', 'Hayden',\n",
       "       'The Felice Brothers', 'Adam Green', 'Beth Gibbons & Rustin Man',\n",
       "       'Lord Huron', 'Josiah Wolf', 'Two Gallants', 'Young Man', 'Jaymay',\n",
       "       'Seth Avett & Jessica Lea Mayfield', 'Mystery Jets', 'Lissie',\n",
       "       'Black Prairie', 'Damien Rice', 'The Moondoggies',\n",
       "       'Iron and Wine & Ben Bridwell', 'Bill Ryder', 'Noah and The Whale',\n",
       "       'Nickel Eye', 'Crooked Fingers', 'Ane Brun', 'Gogol Bordello',\n",
       "       'Kings of Convenience', 'Broken Records', 'Molina & Johnson',\n",
       "       'Amandine', 'Radical Face', 'Luluc', 'The Low Anthem',\n",
       "       'Pete Yorn & Scarlett Johansson', 'Gregory & The Hawk', \"O'Death\",\n",
       "       'Josh T. Pearson', 'The Head and The Heart', 'Josh Rouse',\n",
       "       'John K. Samson', 'Oliver Wilde', 'Aldous Harding', 'Nick Mulvey',\n",
       "       'Marika Hackman', 'Agnes Obel', 'Sarabeth Tucek', 'King Creosote',\n",
       "       'The Staves', 'Peter Broderick', 'Owl John', 'Shovels & Rope',\n",
       "       'Ben Howard', \"Alessi's Ark\", 'Dreamend', 'Jeffrey Lewis',\n",
       "       'Lisa Hannigan', 'Beth Jeans Houghton & The Hooves of Destiny',\n",
       "       'Horse Thief', 'Ani DiFranco', 'Dear Reader', 'Withered Hand',\n",
       "       'Lucy Rose', 'The Leisure Society', 'Tiny Ruins', 'Samantha Crain',\n",
       "       'The Accidental', 'Loch Lomond', 'Woodpigeon', 'The Lone Bellow',\n",
       "       'Frànçois & the Atlas Mountains', 'Peggy Sue', 'Dawn Landes',\n",
       "       'Magic Arm', 'Benjamin Francis Leftwich', 'Dry The River',\n",
       "       'Treetop Flyers', 'Sumie', 'Seabear', 'The Milk Carton Kids',\n",
       "       'Dan Mangan', 'Houndmouth', 'The Lumineers', 'BOY',\n",
       "       'The Middle East', 'Mumford & Sons', 'Black Yaya',\n",
       "       'These United States', 'Good Old War'], dtype=object)"
      ]
     },
     "execution_count": 10,
     "metadata": {},
     "output_type": "execute_result"
    }
   ],
   "source": [
    "all_folk['artist'].unique()"
   ]
  },
  {
   "cell_type": "code",
   "execution_count": null,
   "metadata": {
    "collapsed": true
   },
   "outputs": [],
   "source": []
  }
 ],
 "metadata": {
  "kernelspec": {
   "display_name": "Python 3",
   "language": "python",
   "name": "python3"
  },
  "language_info": {
   "codemirror_mode": {
    "name": "ipython",
    "version": 3
   },
   "file_extension": ".py",
   "mimetype": "text/x-python",
   "name": "python",
   "nbconvert_exporter": "python",
   "pygments_lexer": "ipython3",
   "version": "3.6.4"
  }
 },
 "nbformat": 4,
 "nbformat_minor": 2
}
