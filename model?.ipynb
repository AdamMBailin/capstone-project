{
 "cells": [
  {
   "cell_type": "code",
   "execution_count": 128,
   "metadata": {
    "collapsed": true
   },
   "outputs": [],
   "source": [
    "import pandas as pd\n",
    "import numpy as np\n",
    "import re\n",
    "import matplotlib.pyplot as plt\n",
    "from sklearn.pipeline import Pipeline\n",
    "from sklearn.feature_extraction.text import CountVectorizer, TfidfVectorizer\n",
    "from sklearn.naive_bayes import MultinomialNB\n",
    "from sklearn.model_selection import train_test_split\n",
    "from sklearn.metrics import confusion_matrix, accuracy_score, roc_curve, auc\n",
    "from sklearn.decomposition import PCA\n",
    "import datetime\n",
    "\n",
    "%matplotlib inline"
   ]
  },
  {
   "cell_type": "code",
   "execution_count": 97,
   "metadata": {
    "collapsed": true
   },
   "outputs": [],
   "source": [
    "def softmax(x):\n",
    "    \"\"\"Compute softmax values for each sets of scores in x.\"\"\"\n",
    "    e_x = np.exp(x - np.max(x))\n",
    "    return e_x / e_x.sum(axis=0)"
   ]
  },
  {
   "cell_type": "code",
   "execution_count": 2,
   "metadata": {
    "collapsed": true
   },
   "outputs": [],
   "source": [
    "all_df = pd.read_csv('data/folk_song_lyrics.csv').drop('Unnamed: 0', axis=1)"
   ]
  },
  {
   "cell_type": "code",
   "execution_count": 4,
   "metadata": {},
   "outputs": [
    {
     "data": {
      "text/plain": [
       "578"
      ]
     },
     "execution_count": 4,
     "metadata": {},
     "output_type": "execute_result"
    }
   ],
   "source": [
    "all_df['album_id'].nunique()"
   ]
  },
  {
   "cell_type": "code",
   "execution_count": 5,
   "metadata": {},
   "outputs": [
    {
     "data": {
      "text/html": [
       "<div>\n",
       "<style>\n",
       "    .dataframe thead tr:only-child th {\n",
       "        text-align: right;\n",
       "    }\n",
       "\n",
       "    .dataframe thead th {\n",
       "        text-align: left;\n",
       "    }\n",
       "\n",
       "    .dataframe tbody tr th {\n",
       "        vertical-align: top;\n",
       "    }\n",
       "</style>\n",
       "<table border=\"1\" class=\"dataframe\">\n",
       "  <thead>\n",
       "    <tr style=\"text-align: right;\">\n",
       "      <th></th>\n",
       "      <th>song_id</th>\n",
       "      <th>album_id</th>\n",
       "      <th>artist</th>\n",
       "      <th>album</th>\n",
       "      <th>album_href</th>\n",
       "      <th>song</th>\n",
       "      <th>track_num</th>\n",
       "      <th>lyrics</th>\n",
       "      <th>song_href</th>\n",
       "      <th>is_folk</th>\n",
       "      <th>is_folk_rock</th>\n",
       "      <th>is_indie_folk</th>\n",
       "      <th>is_album_art</th>\n",
       "      <th>is_instrumental</th>\n",
       "      <th>is_alt_country</th>\n",
       "    </tr>\n",
       "  </thead>\n",
       "  <tbody>\n",
       "    <tr>\n",
       "      <th>11</th>\n",
       "      <td>11</td>\n",
       "      <td>1</td>\n",
       "      <td>Neutral Milk Hotel</td>\n",
       "      <td>In the Aeroplane Over the Sea</td>\n",
       "      <td>https://genius.com/albums/Neutral-Milk-Hotel/I...</td>\n",
       "      <td>The King of Carrot Flowers Pt. One</td>\n",
       "      <td>1.0</td>\n",
       "      <td>[Verse 1] n When you were young, you were the ...</td>\n",
       "      <td>https://genius.com/Neutral-milk-hotel-the-king...</td>\n",
       "      <td>1.0</td>\n",
       "      <td>0.0</td>\n",
       "      <td>1.0</td>\n",
       "      <td>False</td>\n",
       "      <td>0</td>\n",
       "      <td>0</td>\n",
       "    </tr>\n",
       "    <tr>\n",
       "      <th>12</th>\n",
       "      <td>12</td>\n",
       "      <td>1</td>\n",
       "      <td>Neutral Milk Hotel</td>\n",
       "      <td>In the Aeroplane Over the Sea</td>\n",
       "      <td>https://genius.com/albums/Neutral-Milk-Hotel/I...</td>\n",
       "      <td>The King of Carrot Flowers Pts. Two &amp; Three</td>\n",
       "      <td>2.0</td>\n",
       "      <td>Part Two n [Verse 1] n I love you, Jesus Chris...</td>\n",
       "      <td>https://genius.com/Neutral-milk-hotel-the-king...</td>\n",
       "      <td>1.0</td>\n",
       "      <td>0.0</td>\n",
       "      <td>1.0</td>\n",
       "      <td>False</td>\n",
       "      <td>0</td>\n",
       "      <td>0</td>\n",
       "    </tr>\n",
       "    <tr>\n",
       "      <th>13</th>\n",
       "      <td>13</td>\n",
       "      <td>1</td>\n",
       "      <td>Neutral Milk Hotel</td>\n",
       "      <td>In the Aeroplane Over the Sea</td>\n",
       "      <td>https://genius.com/albums/Neutral-Milk-Hotel/I...</td>\n",
       "      <td>In the Aeroplane Over the Sea</td>\n",
       "      <td>3.0</td>\n",
       "      <td>[Verse 1] n What a beautiful face n I have fou...</td>\n",
       "      <td>https://genius.com/Neutral-milk-hotel-in-the-a...</td>\n",
       "      <td>1.0</td>\n",
       "      <td>0.0</td>\n",
       "      <td>1.0</td>\n",
       "      <td>False</td>\n",
       "      <td>0</td>\n",
       "      <td>0</td>\n",
       "    </tr>\n",
       "    <tr>\n",
       "      <th>14</th>\n",
       "      <td>14</td>\n",
       "      <td>1</td>\n",
       "      <td>Neutral Milk Hotel</td>\n",
       "      <td>In the Aeroplane Over the Sea</td>\n",
       "      <td>https://genius.com/albums/Neutral-Milk-Hotel/I...</td>\n",
       "      <td>Two-Headed Boy</td>\n",
       "      <td>4.0</td>\n",
       "      <td>[Verse 1] n Two headed boy n All floating in g...</td>\n",
       "      <td>https://genius.com/Neutral-milk-hotel-two-head...</td>\n",
       "      <td>1.0</td>\n",
       "      <td>0.0</td>\n",
       "      <td>1.0</td>\n",
       "      <td>False</td>\n",
       "      <td>0</td>\n",
       "      <td>0</td>\n",
       "    </tr>\n",
       "    <tr>\n",
       "      <th>15</th>\n",
       "      <td>15</td>\n",
       "      <td>1</td>\n",
       "      <td>Neutral Milk Hotel</td>\n",
       "      <td>In the Aeroplane Over the Sea</td>\n",
       "      <td>https://genius.com/albums/Neutral-Milk-Hotel/I...</td>\n",
       "      <td>The Fool</td>\n",
       "      <td>5.0</td>\n",
       "      <td>[Instrumental]</td>\n",
       "      <td>https://genius.com/Neutral-milk-hotel-the-fool...</td>\n",
       "      <td>1.0</td>\n",
       "      <td>0.0</td>\n",
       "      <td>1.0</td>\n",
       "      <td>False</td>\n",
       "      <td>1</td>\n",
       "      <td>0</td>\n",
       "    </tr>\n",
       "    <tr>\n",
       "      <th>16</th>\n",
       "      <td>16</td>\n",
       "      <td>1</td>\n",
       "      <td>Neutral Milk Hotel</td>\n",
       "      <td>In the Aeroplane Over the Sea</td>\n",
       "      <td>https://genius.com/albums/Neutral-Milk-Hotel/I...</td>\n",
       "      <td>Holland, 1945</td>\n",
       "      <td>6.0</td>\n",
       "      <td>[Verse 1] n The only girl I've ever loved n Wa...</td>\n",
       "      <td>https://genius.com/Neutral-milk-hotel-holland-...</td>\n",
       "      <td>1.0</td>\n",
       "      <td>0.0</td>\n",
       "      <td>1.0</td>\n",
       "      <td>False</td>\n",
       "      <td>0</td>\n",
       "      <td>0</td>\n",
       "    </tr>\n",
       "    <tr>\n",
       "      <th>17</th>\n",
       "      <td>17</td>\n",
       "      <td>1</td>\n",
       "      <td>Neutral Milk Hotel</td>\n",
       "      <td>In the Aeroplane Over the Sea</td>\n",
       "      <td>https://genius.com/albums/Neutral-Milk-Hotel/I...</td>\n",
       "      <td>Communist Daughter</td>\n",
       "      <td>7.0</td>\n",
       "      <td>[Intro] n One n [Verse] n Sweet communist, the...</td>\n",
       "      <td>https://genius.com/Neutral-milk-hotel-communis...</td>\n",
       "      <td>1.0</td>\n",
       "      <td>0.0</td>\n",
       "      <td>1.0</td>\n",
       "      <td>False</td>\n",
       "      <td>0</td>\n",
       "      <td>0</td>\n",
       "    </tr>\n",
       "    <tr>\n",
       "      <th>18</th>\n",
       "      <td>18</td>\n",
       "      <td>1</td>\n",
       "      <td>Neutral Milk Hotel</td>\n",
       "      <td>In the Aeroplane Over the Sea</td>\n",
       "      <td>https://genius.com/albums/Neutral-Milk-Hotel/I...</td>\n",
       "      <td>Oh Comely</td>\n",
       "      <td>8.0</td>\n",
       "      <td>[Verse 1] n Oh comely, I will be with you when...</td>\n",
       "      <td>https://genius.com/Neutral-milk-hotel-oh-comel...</td>\n",
       "      <td>1.0</td>\n",
       "      <td>0.0</td>\n",
       "      <td>1.0</td>\n",
       "      <td>False</td>\n",
       "      <td>0</td>\n",
       "      <td>0</td>\n",
       "    </tr>\n",
       "    <tr>\n",
       "      <th>19</th>\n",
       "      <td>19</td>\n",
       "      <td>1</td>\n",
       "      <td>Neutral Milk Hotel</td>\n",
       "      <td>In the Aeroplane Over the Sea</td>\n",
       "      <td>https://genius.com/albums/Neutral-Milk-Hotel/I...</td>\n",
       "      <td>Ghost</td>\n",
       "      <td>9.0</td>\n",
       "      <td>[Verse 1] n Ghost, ghost, I know you live with...</td>\n",
       "      <td>https://genius.com/Neutral-milk-hotel-ghost-ly...</td>\n",
       "      <td>1.0</td>\n",
       "      <td>0.0</td>\n",
       "      <td>1.0</td>\n",
       "      <td>False</td>\n",
       "      <td>0</td>\n",
       "      <td>0</td>\n",
       "    </tr>\n",
       "    <tr>\n",
       "      <th>20</th>\n",
       "      <td>20</td>\n",
       "      <td>1</td>\n",
       "      <td>Neutral Milk Hotel</td>\n",
       "      <td>In the Aeroplane Over the Sea</td>\n",
       "      <td>https://genius.com/albums/Neutral-Milk-Hotel/I...</td>\n",
       "      <td>Untitled</td>\n",
       "      <td>10.0</td>\n",
       "      <td>[Instrumental]</td>\n",
       "      <td>https://genius.com/Neutral-milk-hotel-untitled...</td>\n",
       "      <td>1.0</td>\n",
       "      <td>0.0</td>\n",
       "      <td>1.0</td>\n",
       "      <td>False</td>\n",
       "      <td>1</td>\n",
       "      <td>0</td>\n",
       "    </tr>\n",
       "    <tr>\n",
       "      <th>21</th>\n",
       "      <td>21</td>\n",
       "      <td>1</td>\n",
       "      <td>Neutral Milk Hotel</td>\n",
       "      <td>In the Aeroplane Over the Sea</td>\n",
       "      <td>https://genius.com/albums/Neutral-Milk-Hotel/I...</td>\n",
       "      <td>Two-Headed Boy Part Two</td>\n",
       "      <td>11.0</td>\n",
       "      <td>[Verse 1] n Daddy, please hear this song that ...</td>\n",
       "      <td>https://genius.com/Neutral-milk-hotel-two-head...</td>\n",
       "      <td>1.0</td>\n",
       "      <td>0.0</td>\n",
       "      <td>1.0</td>\n",
       "      <td>False</td>\n",
       "      <td>0</td>\n",
       "      <td>0</td>\n",
       "    </tr>\n",
       "  </tbody>\n",
       "</table>\n",
       "</div>"
      ],
      "text/plain": [
       "    song_id  album_id              artist                          album  \\\n",
       "11       11         1  Neutral Milk Hotel  In the Aeroplane Over the Sea   \n",
       "12       12         1  Neutral Milk Hotel  In the Aeroplane Over the Sea   \n",
       "13       13         1  Neutral Milk Hotel  In the Aeroplane Over the Sea   \n",
       "14       14         1  Neutral Milk Hotel  In the Aeroplane Over the Sea   \n",
       "15       15         1  Neutral Milk Hotel  In the Aeroplane Over the Sea   \n",
       "16       16         1  Neutral Milk Hotel  In the Aeroplane Over the Sea   \n",
       "17       17         1  Neutral Milk Hotel  In the Aeroplane Over the Sea   \n",
       "18       18         1  Neutral Milk Hotel  In the Aeroplane Over the Sea   \n",
       "19       19         1  Neutral Milk Hotel  In the Aeroplane Over the Sea   \n",
       "20       20         1  Neutral Milk Hotel  In the Aeroplane Over the Sea   \n",
       "21       21         1  Neutral Milk Hotel  In the Aeroplane Over the Sea   \n",
       "\n",
       "                                           album_href  \\\n",
       "11  https://genius.com/albums/Neutral-Milk-Hotel/I...   \n",
       "12  https://genius.com/albums/Neutral-Milk-Hotel/I...   \n",
       "13  https://genius.com/albums/Neutral-Milk-Hotel/I...   \n",
       "14  https://genius.com/albums/Neutral-Milk-Hotel/I...   \n",
       "15  https://genius.com/albums/Neutral-Milk-Hotel/I...   \n",
       "16  https://genius.com/albums/Neutral-Milk-Hotel/I...   \n",
       "17  https://genius.com/albums/Neutral-Milk-Hotel/I...   \n",
       "18  https://genius.com/albums/Neutral-Milk-Hotel/I...   \n",
       "19  https://genius.com/albums/Neutral-Milk-Hotel/I...   \n",
       "20  https://genius.com/albums/Neutral-Milk-Hotel/I...   \n",
       "21  https://genius.com/albums/Neutral-Milk-Hotel/I...   \n",
       "\n",
       "                                           song  track_num  \\\n",
       "11           The King of Carrot Flowers Pt. One        1.0   \n",
       "12  The King of Carrot Flowers Pts. Two & Three        2.0   \n",
       "13                In the Aeroplane Over the Sea        3.0   \n",
       "14                               Two-Headed Boy        4.0   \n",
       "15                                     The Fool        5.0   \n",
       "16                                Holland, 1945        6.0   \n",
       "17                           Communist Daughter        7.0   \n",
       "18                                    Oh Comely        8.0   \n",
       "19                                        Ghost        9.0   \n",
       "20                                     Untitled       10.0   \n",
       "21                      Two-Headed Boy Part Two       11.0   \n",
       "\n",
       "                                               lyrics  \\\n",
       "11  [Verse 1] n When you were young, you were the ...   \n",
       "12  Part Two n [Verse 1] n I love you, Jesus Chris...   \n",
       "13  [Verse 1] n What a beautiful face n I have fou...   \n",
       "14  [Verse 1] n Two headed boy n All floating in g...   \n",
       "15                                     [Instrumental]   \n",
       "16  [Verse 1] n The only girl I've ever loved n Wa...   \n",
       "17  [Intro] n One n [Verse] n Sweet communist, the...   \n",
       "18  [Verse 1] n Oh comely, I will be with you when...   \n",
       "19  [Verse 1] n Ghost, ghost, I know you live with...   \n",
       "20                                     [Instrumental]   \n",
       "21  [Verse 1] n Daddy, please hear this song that ...   \n",
       "\n",
       "                                            song_href  is_folk  is_folk_rock  \\\n",
       "11  https://genius.com/Neutral-milk-hotel-the-king...      1.0           0.0   \n",
       "12  https://genius.com/Neutral-milk-hotel-the-king...      1.0           0.0   \n",
       "13  https://genius.com/Neutral-milk-hotel-in-the-a...      1.0           0.0   \n",
       "14  https://genius.com/Neutral-milk-hotel-two-head...      1.0           0.0   \n",
       "15  https://genius.com/Neutral-milk-hotel-the-fool...      1.0           0.0   \n",
       "16  https://genius.com/Neutral-milk-hotel-holland-...      1.0           0.0   \n",
       "17  https://genius.com/Neutral-milk-hotel-communis...      1.0           0.0   \n",
       "18  https://genius.com/Neutral-milk-hotel-oh-comel...      1.0           0.0   \n",
       "19  https://genius.com/Neutral-milk-hotel-ghost-ly...      1.0           0.0   \n",
       "20  https://genius.com/Neutral-milk-hotel-untitled...      1.0           0.0   \n",
       "21  https://genius.com/Neutral-milk-hotel-two-head...      1.0           0.0   \n",
       "\n",
       "    is_indie_folk  is_album_art  is_instrumental  is_alt_country  \n",
       "11            1.0         False                0               0  \n",
       "12            1.0         False                0               0  \n",
       "13            1.0         False                0               0  \n",
       "14            1.0         False                0               0  \n",
       "15            1.0         False                1               0  \n",
       "16            1.0         False                0               0  \n",
       "17            1.0         False                0               0  \n",
       "18            1.0         False                0               0  \n",
       "19            1.0         False                0               0  \n",
       "20            1.0         False                1               0  \n",
       "21            1.0         False                0               0  "
      ]
     },
     "execution_count": 5,
     "metadata": {},
     "output_type": "execute_result"
    }
   ],
   "source": [
    "all_df.loc[all_df['album'] == 'In the Aeroplane Over the Sea']"
   ]
  },
  {
   "cell_type": "code",
   "execution_count": 25,
   "metadata": {
    "collapsed": true
   },
   "outputs": [],
   "source": [
    "df = all_df[['lyrics', 'album_id', 'is_indie_folk']]"
   ]
  },
  {
   "cell_type": "code",
   "execution_count": 29,
   "metadata": {},
   "outputs": [
    {
     "data": {
      "text/plain": [
       "1776.0"
      ]
     },
     "execution_count": 29,
     "metadata": {},
     "output_type": "execute_result"
    }
   ],
   "source": [
    "df['is_indie_folk'].sum()"
   ]
  },
  {
   "cell_type": "code",
   "execution_count": 31,
   "metadata": {
    "collapsed": true
   },
   "outputs": [],
   "source": [
    "list_of_album_lyric_lines = list(zip(df['lyrics'], df['album_id'], df['is_indie_folk']))"
   ]
  },
  {
   "cell_type": "code",
   "execution_count": 33,
   "metadata": {},
   "outputs": [
    {
     "data": {
      "text/plain": [
       "(\"[hook] n I've been to a minor place n And I can say I like its face n If I am gone and with no trace n I will be in a minor place n Well I put the shoes in line n Separate the women mine n As we do what we do fine n So victorious, so benign n [hook] n Only take the weather warm n And the job that does me harm n The scars of last year's storm n Rest like maggots on my arm n [hook] n Thank you man if for the thought n That all my loving can be bought n Was wisely in your gullet caught n Before my loyalty you sought n [hook] n O it's not a desert nor a web n Nor a tomb where I lay dead n Minor in a sound alone n Yes a clear commanding tone n Singing from my little point n And aching in my every joint n I thank the world it will anoint me n If I show it how I hold it\",\n",
       " 0,\n",
       " 1.0)"
      ]
     },
     "execution_count": 33,
     "metadata": {},
     "output_type": "execute_result"
    }
   ],
   "source": [
    "list_of_album_lyric_lines[0]"
   ]
  },
  {
   "cell_type": "code",
   "execution_count": 34,
   "metadata": {
    "collapsed": true
   },
   "outputs": [],
   "source": [
    "lines = []\n",
    "albums = []\n",
    "is_indie_folk = []\n",
    "\n",
    "for lyric, album, is_ in list_of_album_lyric_lines:\n",
    "    x = (re.sub('\\[.{1,10}\\] n', '', lyric).split(' n '))\n",
    "    for line in x:\n",
    "        lines.append(line)\n",
    "        albums.append(album)\n",
    "        is_indie_folk.append(is_)"
   ]
  },
  {
   "cell_type": "code",
   "execution_count": 35,
   "metadata": {},
   "outputs": [
    {
     "data": {
      "text/plain": [
       "160657"
      ]
     },
     "execution_count": 35,
     "metadata": {},
     "output_type": "execute_result"
    }
   ],
   "source": [
    "len(lines)"
   ]
  },
  {
   "cell_type": "code",
   "execution_count": 36,
   "metadata": {},
   "outputs": [
    {
     "data": {
      "text/plain": [
       "160657"
      ]
     },
     "execution_count": 36,
     "metadata": {},
     "output_type": "execute_result"
    }
   ],
   "source": [
    "len(albums)"
   ]
  },
  {
   "cell_type": "code",
   "execution_count": 37,
   "metadata": {},
   "outputs": [
    {
     "data": {
      "text/plain": [
       "160657"
      ]
     },
     "execution_count": 37,
     "metadata": {},
     "output_type": "execute_result"
    }
   ],
   "source": [
    "len(is_indie_folk)"
   ]
  },
  {
   "cell_type": "code",
   "execution_count": 38,
   "metadata": {
    "collapsed": true
   },
   "outputs": [],
   "source": [
    "lines_df = pd.concat((pd.DataFrame(lines, columns=['lyrics']), pd.DataFrame(albums, columns=['album_id'])), axis=1)"
   ]
  },
  {
   "cell_type": "code",
   "execution_count": 42,
   "metadata": {
    "collapsed": true
   },
   "outputs": [],
   "source": [
    "lines_df = pd.concat((lines_df, pd.DataFrame(is_indie_folk, columns=['is_indie_folk'])), axis=1)"
   ]
  },
  {
   "cell_type": "code",
   "execution_count": null,
   "metadata": {
    "collapsed": true
   },
   "outputs": [],
   "source": []
  },
  {
   "cell_type": "code",
   "execution_count": null,
   "metadata": {
    "collapsed": true
   },
   "outputs": [],
   "source": []
  },
  {
   "cell_type": "code",
   "execution_count": 12,
   "metadata": {},
   "outputs": [
    {
     "data": {
      "text/plain": [
       "(array([ 19.,  23.,  15.,  20.,  17.,  24.,  22.,  36.,  40.,  47.,  51.,\n",
       "         38.,  28.,  42.,  29.,  20.,  28.,  16.,   7.,  11.,   8.,   7.,\n",
       "          7.,   2.,   5.,   4.,   1.,   2.,   3.,   0.,   0.,   1.,   0.,\n",
       "          0.,   0.,   1.,   0.,   1.,   0.,   0.,   0.,   0.,   0.,   0.,\n",
       "          0.,   1.,   0.,   0.,   0.,   0.,   0.,   0.,   1.,   0.,   0.,\n",
       "          1.,   0.,   0.,   0.,   0.]),\n",
       " array([    0.,    25.,    50.,    75.,   100.,   125.,   150.,   175.,\n",
       "          200.,   225.,   250.,   275.,   300.,   325.,   350.,   375.,\n",
       "          400.,   425.,   450.,   475.,   500.,   525.,   550.,   575.,\n",
       "          600.,   625.,   650.,   675.,   700.,   725.,   750.,   775.,\n",
       "          800.,   825.,   850.,   875.,   900.,   925.,   950.,   975.,\n",
       "         1000.,  1025.,  1050.,  1075.,  1100.,  1125.,  1150.,  1175.,\n",
       "         1200.,  1225.,  1250.,  1275.,  1300.,  1325.,  1350.,  1375.,\n",
       "         1400.,  1425.,  1450.,  1475.,  1500.]),\n",
       " <a list of 60 Patch objects>)"
      ]
     },
     "execution_count": 12,
     "metadata": {},
     "output_type": "execute_result"
    },
    {
     "data": {
      "image/png": "[encoded data removed]",
      "text/plain": [
       "<matplotlib.figure.Figure at 0x1a19344518>"
      ]
     },
     "metadata": {},
     "output_type": "display_data"
    }
   ],
   "source": [
    "plt.hist(lines_df['album_id'].value_counts(), bins=np.linspace(0, 1500, 61))"
   ]
  },
  {
   "cell_type": "code",
   "execution_count": 43,
   "metadata": {
    "collapsed": true
   },
   "outputs": [],
   "source": [
    "q = lines_df.groupby('album_id')[['lyrics']].count()"
   ]
  },
  {
   "cell_type": "code",
   "execution_count": 44,
   "metadata": {},
   "outputs": [
    {
     "data": {
      "text/plain": [
       "(578, 1)"
      ]
     },
     "execution_count": 44,
     "metadata": {},
     "output_type": "execute_result"
    }
   ],
   "source": [
    "q.shape"
   ]
  },
  {
   "cell_type": "code",
   "execution_count": 45,
   "metadata": {
    "collapsed": true
   },
   "outputs": [],
   "source": [
    "q = q.loc[q['lyrics'] >= 25]"
   ]
  },
  {
   "cell_type": "code",
   "execution_count": 46,
   "metadata": {
    "collapsed": true
   },
   "outputs": [],
   "source": [
    "def album_trimmer(cell):\n",
    "    if cell in q.index.values:\n",
    "        return 1\n",
    "    else:\n",
    "        return 0"
   ]
  },
  {
   "cell_type": "code",
   "execution_count": 47,
   "metadata": {
    "collapsed": true
   },
   "outputs": [],
   "source": [
    "lines_df['has_enough'] = lines_df['album_id'].apply(album_trimmer)"
   ]
  },
  {
   "cell_type": "code",
   "execution_count": 48,
   "metadata": {
    "collapsed": true
   },
   "outputs": [],
   "source": [
    "lines_df = lines_df.loc[lines_df['has_enough'] == 1]"
   ]
  },
  {
   "cell_type": "code",
   "execution_count": 50,
   "metadata": {
    "collapsed": true
   },
   "outputs": [],
   "source": [
    "X = lines_df['lyrics']\n",
    "y = lines_df['is_indie_folk']"
   ]
  },
  {
   "cell_type": "code",
   "execution_count": 66,
   "metadata": {
    "collapsed": true
   },
   "outputs": [],
   "source": [
    "X_train, X_test, y_train, y_test = train_test_split(X, y, stratify=y, test_size=0.2, random_state=2018)"
   ]
  },
  {
   "cell_type": "code",
   "execution_count": 67,
   "metadata": {},
   "outputs": [
    {
     "data": {
      "text/plain": [
       "array(['All the time I buy, now I see the other side',\n",
       "       'Swallows fall in a wave',\n",
       "       \"So I (so I) don't feel (don't feel) so torn\", ...,\n",
       "       'And do I have to do just one', 'And your fingerlings from the air',\n",
       "       'Not the early one'], dtype=object)"
      ]
     },
     "execution_count": 67,
     "metadata": {},
     "output_type": "execute_result"
    }
   ],
   "source": [
    "X_train.values"
   ]
  },
  {
   "cell_type": "code",
   "execution_count": 68,
   "metadata": {},
   "outputs": [
    {
     "data": {
      "text/plain": [
       "array([ 0.,  1.,  0., ...,  0.,  1.,  0.])"
      ]
     },
     "execution_count": 68,
     "metadata": {},
     "output_type": "execute_result"
    }
   ],
   "source": [
    "y_train.values"
   ]
  },
  {
   "cell_type": "code",
   "execution_count": 69,
   "metadata": {
    "collapsed": true
   },
   "outputs": [],
   "source": [
    "pipe = Pipeline([\n",
    "    ('vect', CountVectorizer(ngram_range=(1, 4))),\n",
    "    ('mnb', MultinomialNB())\n",
    "])"
   ]
  },
  {
   "cell_type": "code",
   "execution_count": 70,
   "metadata": {},
   "outputs": [
    {
     "data": {
      "text/plain": [
       "Pipeline(memory=None,\n",
       "     steps=[('vect', CountVectorizer(analyzer='word', binary=False, decode_error='strict',\n",
       "        dtype=<class 'numpy.int64'>, encoding='utf-8', input='content',\n",
       "        lowercase=True, max_df=1.0, max_features=None, min_df=1,\n",
       "        ngram_range=(1, 4), preprocessor=None, stop_words=None,\n",
       "        strip_accents=None, token_pattern='(?u)\\\\b\\\\w\\\\w+\\\\b',\n",
       "        tokenizer=None, vocabulary=None)), ('mnb', MultinomialNB(alpha=1.0, class_prior=None, fit_prior=True))])"
      ]
     },
     "execution_count": 70,
     "metadata": {},
     "output_type": "execute_result"
    }
   ],
   "source": [
    "pipe.fit(X_train.values, y_train.values)"
   ]
  },
  {
   "cell_type": "code",
   "execution_count": 71,
   "metadata": {
    "collapsed": true
   },
   "outputs": [],
   "source": [
    "predictions =  pipe.predict(X_test.values)"
   ]
  },
  {
   "cell_type": "code",
   "execution_count": 85,
   "metadata": {
    "collapsed": true
   },
   "outputs": [],
   "source": [
    "probabilities = pipe.predict_proba(X_test)"
   ]
  },
  {
   "cell_type": "code",
   "execution_count": 76,
   "metadata": {},
   "outputs": [
    {
     "data": {
      "text/html": [
       "<div>\n",
       "<style>\n",
       "    .dataframe thead tr:only-child th {\n",
       "        text-align: right;\n",
       "    }\n",
       "\n",
       "    .dataframe thead th {\n",
       "        text-align: left;\n",
       "    }\n",
       "\n",
       "    .dataframe tbody tr th {\n",
       "        vertical-align: top;\n",
       "    }\n",
       "</style>\n",
       "<table border=\"1\" class=\"dataframe\">\n",
       "  <thead>\n",
       "    <tr style=\"text-align: right;\">\n",
       "      <th></th>\n",
       "      <th>true_neg</th>\n",
       "      <th>true_pos</th>\n",
       "    </tr>\n",
       "  </thead>\n",
       "  <tbody>\n",
       "    <tr>\n",
       "      <th>true_neg</th>\n",
       "      <td>21880</td>\n",
       "      <td>634</td>\n",
       "    </tr>\n",
       "    <tr>\n",
       "      <th>true_pos</th>\n",
       "      <td>6022</td>\n",
       "      <td>3535</td>\n",
       "    </tr>\n",
       "  </tbody>\n",
       "</table>\n",
       "</div>"
      ],
      "text/plain": [
       "          true_neg  true_pos\n",
       "true_neg     21880       634\n",
       "true_pos      6022      3535"
      ]
     },
     "execution_count": 76,
     "metadata": {},
     "output_type": "execute_result"
    }
   ],
   "source": [
    "pd.DataFrame(confusion_matrix(y_test, predictions), columns=['true_neg', 'true_pos'], index=['true_neg', 'true_pos'], )"
   ]
  },
  {
   "cell_type": "code",
   "execution_count": 73,
   "metadata": {},
   "outputs": [
    {
     "data": {
      "text/plain": [
       "0.79246047831374133"
      ]
     },
     "execution_count": 73,
     "metadata": {},
     "output_type": "execute_result"
    }
   ],
   "source": [
    "accuracy_score(y_test, predictions)"
   ]
  },
  {
   "cell_type": "code",
   "execution_count": 80,
   "metadata": {},
   "outputs": [
    {
     "data": {
      "text/plain": [
       "32071"
      ]
     },
     "execution_count": 80,
     "metadata": {},
     "output_type": "execute_result"
    }
   ],
   "source": [
    "len(y_test)"
   ]
  },
  {
   "cell_type": "code",
   "execution_count": 81,
   "metadata": {},
   "outputs": [
    {
     "data": {
      "text/plain": [
       "32071"
      ]
     },
     "execution_count": 81,
     "metadata": {},
     "output_type": "execute_result"
    }
   ],
   "source": [
    "len(probabilities)"
   ]
  },
  {
   "cell_type": "code",
   "execution_count": 93,
   "metadata": {
    "collapsed": true
   },
   "outputs": [],
   "source": [
    "actual_vs_proba = pd.DataFrame(y_test)"
   ]
  },
  {
   "cell_type": "code",
   "execution_count": 97,
   "metadata": {
    "collapsed": true
   },
   "outputs": [],
   "source": [
    "actual_vs_proba = actual_vs_proba.reset_index()"
   ]
  },
  {
   "cell_type": "code",
   "execution_count": 99,
   "metadata": {
    "collapsed": true
   },
   "outputs": [],
   "source": [
    "actual_vs_proba = pd.concat((actual_vs_proba, pd.DataFrame(probabilities)), axis=1)"
   ]
  },
  {
   "cell_type": "code",
   "execution_count": 102,
   "metadata": {},
   "outputs": [
    {
     "data": {
      "text/html": [
       "<div>\n",
       "<style>\n",
       "    .dataframe thead tr:only-child th {\n",
       "        text-align: right;\n",
       "    }\n",
       "\n",
       "    .dataframe thead th {\n",
       "        text-align: left;\n",
       "    }\n",
       "\n",
       "    .dataframe tbody tr th {\n",
       "        vertical-align: top;\n",
       "    }\n",
       "</style>\n",
       "<table border=\"1\" class=\"dataframe\">\n",
       "  <thead>\n",
       "    <tr style=\"text-align: right;\">\n",
       "      <th></th>\n",
       "      <th>index</th>\n",
       "      <th>is_indie_folk</th>\n",
       "      <th>0</th>\n",
       "      <th>1</th>\n",
       "    </tr>\n",
       "  </thead>\n",
       "  <tbody>\n",
       "    <tr>\n",
       "      <th>0</th>\n",
       "      <td>147551</td>\n",
       "      <td>1.0</td>\n",
       "      <td>0.000017</td>\n",
       "      <td>0.999983</td>\n",
       "    </tr>\n",
       "    <tr>\n",
       "      <th>1</th>\n",
       "      <td>68625</td>\n",
       "      <td>0.0</td>\n",
       "      <td>0.999887</td>\n",
       "      <td>0.000113</td>\n",
       "    </tr>\n",
       "    <tr>\n",
       "      <th>2</th>\n",
       "      <td>79133</td>\n",
       "      <td>1.0</td>\n",
       "      <td>0.991464</td>\n",
       "      <td>0.008536</td>\n",
       "    </tr>\n",
       "    <tr>\n",
       "      <th>3</th>\n",
       "      <td>103661</td>\n",
       "      <td>0.0</td>\n",
       "      <td>0.991169</td>\n",
       "      <td>0.008831</td>\n",
       "    </tr>\n",
       "    <tr>\n",
       "      <th>4</th>\n",
       "      <td>151634</td>\n",
       "      <td>1.0</td>\n",
       "      <td>0.888306</td>\n",
       "      <td>0.111694</td>\n",
       "    </tr>\n",
       "  </tbody>\n",
       "</table>\n",
       "</div>"
      ],
      "text/plain": [
       "    index  is_indie_folk         0         1\n",
       "0  147551            1.0  0.000017  0.999983\n",
       "1   68625            0.0  0.999887  0.000113\n",
       "2   79133            1.0  0.991464  0.008536\n",
       "3  103661            0.0  0.991169  0.008831\n",
       "4  151634            1.0  0.888306  0.111694"
      ]
     },
     "execution_count": 102,
     "metadata": {},
     "output_type": "execute_result"
    }
   ],
   "source": [
    "actual_vs_proba.head()"
   ]
  },
  {
   "cell_type": "code",
   "execution_count": 109,
   "metadata": {},
   "outputs": [
    {
     "data": {
      "text/plain": [
       "[<matplotlib.lines.Line2D at 0x1a202d4e48>]"
      ]
     },
     "execution_count": 109,
     "metadata": {},
     "output_type": "execute_result"
    },
    {
     "data": {
      "image/png": "[encoded data removed]",
      "text/plain": [
       "<matplotlib.figure.Figure at 0x1a1979acf8>"
      ]
     },
     "metadata": {},
     "output_type": "display_data"
    }
   ],
   "source": [
    "fpr, tpr, threshold = roc_curve(actual_vs_proba['is_indie_folk'], actual_vs_proba[1])\n",
    "area = auc(fpr, tpr)\n",
    "\n",
    "plt.figure(figsize=(12, 12))\n",
    "plt.plot(fpr, tpr, label=f'auc: {area}', linewidth=4)\n",
    "plt.plot((0, 1), (0, 1), c='k')"
   ]
  },
  {
   "cell_type": "code",
   "execution_count": null,
   "metadata": {
    "collapsed": true
   },
   "outputs": [],
   "source": []
  },
  {
   "cell_type": "code",
   "execution_count": 111,
   "metadata": {
    "collapsed": true
   },
   "outputs": [],
   "source": [
    "lyrics = all_df['lyrics']\n",
    "label = all_df['is_folk_rock']"
   ]
  },
  {
   "cell_type": "code",
   "execution_count": null,
   "metadata": {
    "collapsed": true
   },
   "outputs": [],
   "source": []
  },
  {
   "cell_type": "code",
   "execution_count": 120,
   "metadata": {
    "collapsed": true
   },
   "outputs": [],
   "source": [
    "X_train, X_test, y_train, y_test = train_test_split(lyrics, label, stratify=label, random_state=2018)"
   ]
  },
  {
   "cell_type": "code",
   "execution_count": 122,
   "metadata": {},
   "outputs": [
    {
     "data": {
      "text/plain": [
       "Pipeline(memory=None,\n",
       "     steps=[('vect', CountVectorizer(analyzer='word', binary=False, decode_error='strict',\n",
       "        dtype=<class 'numpy.int64'>, encoding='utf-8', input='content',\n",
       "        lowercase=True, max_df=1.0, max_features=None, min_df=1,\n",
       "        ngram_range=(1, 4), preprocessor=None, stop_words=None,\n",
       "        strip_accents=None, token_pattern='(?u)\\\\b\\\\w\\\\w+\\\\b',\n",
       "        tokenizer=None, vocabulary=None)), ('mnb', MultinomialNB(alpha=1.0, class_prior=None, fit_prior=True))])"
      ]
     },
     "execution_count": 122,
     "metadata": {},
     "output_type": "execute_result"
    }
   ],
   "source": [
    "pipe.fit(X_train, y_train)"
   ]
  },
  {
   "cell_type": "code",
   "execution_count": 123,
   "metadata": {
    "collapsed": true
   },
   "outputs": [],
   "source": [
    "song_predictions = pipe.predict(X_test)"
   ]
  },
  {
   "cell_type": "code",
   "execution_count": 124,
   "metadata": {},
   "outputs": [
    {
     "data": {
      "text/plain": [
       "array([[1216,    2],\n",
       "       [ 253,   10]])"
      ]
     },
     "execution_count": 124,
     "metadata": {},
     "output_type": "execute_result"
    }
   ],
   "source": [
    "confusion_matrix(y_test, song_predictions)"
   ]
  },
  {
   "cell_type": "code",
   "execution_count": null,
   "metadata": {
    "collapsed": true
   },
   "outputs": [],
   "source": []
  },
  {
   "cell_type": "code",
   "execution_count": null,
   "metadata": {
    "collapsed": true
   },
   "outputs": [],
   "source": []
  },
  {
   "cell_type": "code",
   "execution_count": null,
   "metadata": {
    "collapsed": true
   },
   "outputs": [],
   "source": []
  },
  {
   "cell_type": "code",
   "execution_count": null,
   "metadata": {
    "collapsed": true
   },
   "outputs": [],
   "source": []
  },
  {
   "cell_type": "code",
   "execution_count": 116,
   "metadata": {
    "collapsed": true
   },
   "outputs": [],
   "source": [
    "nmh_df = lines_df.loc[lines_df['album_id'] ==1]"
   ]
  },
  {
   "cell_type": "code",
   "execution_count": 124,
   "metadata": {},
   "outputs": [
    {
     "data": {
      "text/html": [
       "<div>\n",
       "<style>\n",
       "    .dataframe thead tr:only-child th {\n",
       "        text-align: right;\n",
       "    }\n",
       "\n",
       "    .dataframe thead th {\n",
       "        text-align: left;\n",
       "    }\n",
       "\n",
       "    .dataframe tbody tr th {\n",
       "        vertical-align: top;\n",
       "    }\n",
       "</style>\n",
       "<table border=\"1\" class=\"dataframe\">\n",
       "  <thead>\n",
       "    <tr style=\"text-align: right;\">\n",
       "      <th></th>\n",
       "      <th>lyrics</th>\n",
       "      <th>album_id</th>\n",
       "      <th>has_enough</th>\n",
       "    </tr>\n",
       "  </thead>\n",
       "  <tbody>\n",
       "    <tr>\n",
       "      <th>365</th>\n",
       "      <td>When you were young, you were the king of car...</td>\n",
       "      <td>1</td>\n",
       "      <td>1</td>\n",
       "    </tr>\n",
       "    <tr>\n",
       "      <th>366</th>\n",
       "      <td>And how you built a tower tumbling through the...</td>\n",
       "      <td>1</td>\n",
       "      <td>1</td>\n",
       "    </tr>\n",
       "    <tr>\n",
       "      <th>367</th>\n",
       "      <td>In holy rattlesnakes that fell all around your...</td>\n",
       "      <td>1</td>\n",
       "      <td>1</td>\n",
       "    </tr>\n",
       "    <tr>\n",
       "      <th>368</th>\n",
       "      <td>And your mom would stick a fork right into dad...</td>\n",
       "      <td>1</td>\n",
       "      <td>1</td>\n",
       "    </tr>\n",
       "    <tr>\n",
       "      <th>369</th>\n",
       "      <td>And dad would throw the garbage all across the...</td>\n",
       "      <td>1</td>\n",
       "      <td>1</td>\n",
       "    </tr>\n",
       "  </tbody>\n",
       "</table>\n",
       "</div>"
      ],
      "text/plain": [
       "                                                lyrics  album_id  has_enough\n",
       "365   When you were young, you were the king of car...         1           1\n",
       "366  And how you built a tower tumbling through the...         1           1\n",
       "367  In holy rattlesnakes that fell all around your...         1           1\n",
       "368  And your mom would stick a fork right into dad...         1           1\n",
       "369  And dad would throw the garbage all across the...         1           1"
      ]
     },
     "execution_count": 124,
     "metadata": {},
     "output_type": "execute_result"
    }
   ],
   "source": [
    "nmh_df.head()"
   ]
  },
  {
   "cell_type": "code",
   "execution_count": 125,
   "metadata": {
    "collapsed": true
   },
   "outputs": [],
   "source": [
    "nmh_X = nmh_df['lyrics']\n",
    "nmh_y = nmh_df['album_id']"
   ]
  },
  {
   "cell_type": "code",
   "execution_count": 152,
   "metadata": {},
   "outputs": [
    {
     "data": {
      "text/plain": [
       "297"
      ]
     },
     "execution_count": 152,
     "metadata": {},
     "output_type": "execute_result"
    }
   ],
   "source": [
    "len(nmh_X)"
   ]
  },
  {
   "cell_type": "code",
   "execution_count": 130,
   "metadata": {},
   "outputs": [
    {
     "data": {
      "text/plain": [
       "297"
      ]
     },
     "execution_count": 130,
     "metadata": {},
     "output_type": "execute_result"
    }
   ],
   "source": [
    "len(nmh_X)"
   ]
  },
  {
   "cell_type": "code",
   "execution_count": 200,
   "metadata": {
    "collapsed": true
   },
   "outputs": [],
   "source": [
    "nmh_predictions = pipe.predict(nmh_X)"
   ]
  },
  {
   "cell_type": "code",
   "execution_count": 201,
   "metadata": {
    "collapsed": true
   },
   "outputs": [],
   "source": [
    "nmh_probabilities = pipe.predict_proba(nmh_X)"
   ]
  },
  {
   "cell_type": "code",
   "execution_count": 202,
   "metadata": {},
   "outputs": [
    {
     "data": {
      "text/plain": [
       "297"
      ]
     },
     "execution_count": 202,
     "metadata": {},
     "output_type": "execute_result"
    }
   ],
   "source": [
    "len(nmh_predictions)"
   ]
  },
  {
   "cell_type": "code",
   "execution_count": 203,
   "metadata": {},
   "outputs": [
    {
     "data": {
      "text/plain": [
       "297"
      ]
     },
     "execution_count": 203,
     "metadata": {},
     "output_type": "execute_result"
    }
   ],
   "source": [
    "len(nmh_probabilities)"
   ]
  },
  {
   "cell_type": "code",
   "execution_count": 204,
   "metadata": {
    "collapsed": true
   },
   "outputs": [],
   "source": [
    "final_df = pd.concat((pd.DataFrame(nmh_predictions, columns=['predicted']), pd.DataFrame(nmh_probabilities)), axis=1)"
   ]
  },
  {
   "cell_type": "code",
   "execution_count": 205,
   "metadata": {
    "collapsed": true
   },
   "outputs": [],
   "source": [
    "final_df = final_df[['predicted', 1]]"
   ]
  },
  {
   "cell_type": "code",
   "execution_count": 206,
   "metadata": {
    "collapsed": true
   },
   "outputs": [],
   "source": [
    "final_df['lyrics'] = nmh_X.values"
   ]
  },
  {
   "cell_type": "code",
   "execution_count": 207,
   "metadata": {},
   "outputs": [
    {
     "data": {
      "text/html": [
       "<div>\n",
       "<style>\n",
       "    .dataframe thead tr:only-child th {\n",
       "        text-align: right;\n",
       "    }\n",
       "\n",
       "    .dataframe thead th {\n",
       "        text-align: left;\n",
       "    }\n",
       "\n",
       "    .dataframe tbody tr th {\n",
       "        vertical-align: top;\n",
       "    }\n",
       "</style>\n",
       "<table border=\"1\" class=\"dataframe\">\n",
       "  <thead>\n",
       "    <tr style=\"text-align: right;\">\n",
       "      <th></th>\n",
       "      <th>predicted</th>\n",
       "      <th>1</th>\n",
       "      <th>lyrics</th>\n",
       "    </tr>\n",
       "  </thead>\n",
       "  <tbody>\n",
       "    <tr>\n",
       "      <th>0</th>\n",
       "      <td>574</td>\n",
       "      <td>8.031273e-09</td>\n",
       "      <td>When you were young, you were the king of car...</td>\n",
       "    </tr>\n",
       "    <tr>\n",
       "      <th>1</th>\n",
       "      <td>1</td>\n",
       "      <td>9.998739e-01</td>\n",
       "      <td>And how you built a tower tumbling through the...</td>\n",
       "    </tr>\n",
       "    <tr>\n",
       "      <th>2</th>\n",
       "      <td>66</td>\n",
       "      <td>1.627747e-03</td>\n",
       "      <td>In holy rattlesnakes that fell all around your...</td>\n",
       "    </tr>\n",
       "    <tr>\n",
       "      <th>3</th>\n",
       "      <td>65</td>\n",
       "      <td>3.427082e-04</td>\n",
       "      <td>And your mom would stick a fork right into dad...</td>\n",
       "    </tr>\n",
       "    <tr>\n",
       "      <th>4</th>\n",
       "      <td>574</td>\n",
       "      <td>6.056565e-07</td>\n",
       "      <td>And dad would throw the garbage all across the...</td>\n",
       "    </tr>\n",
       "    <tr>\n",
       "      <th>5</th>\n",
       "      <td>1</td>\n",
       "      <td>9.999175e-01</td>\n",
       "      <td>As we would lay and learn what each other's bo...</td>\n",
       "    </tr>\n",
       "    <tr>\n",
       "      <th>6</th>\n",
       "      <td>574</td>\n",
       "      <td>5.061046e-09</td>\n",
       "      <td>And this is the room one afternoon, I knew I ...</td>\n",
       "    </tr>\n",
       "    <tr>\n",
       "      <th>7</th>\n",
       "      <td>574</td>\n",
       "      <td>4.092860e-04</td>\n",
       "      <td>And from above you how I sank into your soul</td>\n",
       "    </tr>\n",
       "    <tr>\n",
       "      <th>8</th>\n",
       "      <td>574</td>\n",
       "      <td>3.095267e-06</td>\n",
       "      <td>Into that secret place where no one dares to go</td>\n",
       "    </tr>\n",
       "    <tr>\n",
       "      <th>9</th>\n",
       "      <td>574</td>\n",
       "      <td>2.177760e-05</td>\n",
       "      <td>And your mom would drink until she was no long...</td>\n",
       "    </tr>\n",
       "    <tr>\n",
       "      <th>10</th>\n",
       "      <td>574</td>\n",
       "      <td>3.457692e-07</td>\n",
       "      <td>And dad would dream of all the different ways ...</td>\n",
       "    </tr>\n",
       "    <tr>\n",
       "      <th>11</th>\n",
       "      <td>574</td>\n",
       "      <td>8.418892e-05</td>\n",
       "      <td>Each one a little more than he could dare to try</td>\n",
       "    </tr>\n",
       "    <tr>\n",
       "      <th>12</th>\n",
       "      <td>574</td>\n",
       "      <td>2.183527e-03</td>\n",
       "      <td>Part Two</td>\n",
       "    </tr>\n",
       "    <tr>\n",
       "      <th>13</th>\n",
       "      <td>574</td>\n",
       "      <td>7.748458e-05</td>\n",
       "      <td>I love you, Jesus Christ</td>\n",
       "    </tr>\n",
       "    <tr>\n",
       "      <th>14</th>\n",
       "      <td>574</td>\n",
       "      <td>1.213310e-04</td>\n",
       "      <td>Jesus Christ, I love you, yes I do</td>\n",
       "    </tr>\n",
       "    <tr>\n",
       "      <th>15</th>\n",
       "      <td>574</td>\n",
       "      <td>7.748458e-05</td>\n",
       "      <td>I love you, Jesus Christ</td>\n",
       "    </tr>\n",
       "    <tr>\n",
       "      <th>16</th>\n",
       "      <td>574</td>\n",
       "      <td>1.213310e-04</td>\n",
       "      <td>Jesus Christ, I love you, yes I do</td>\n",
       "    </tr>\n",
       "    <tr>\n",
       "      <th>17</th>\n",
       "      <td>574</td>\n",
       "      <td>1.962777e-06</td>\n",
       "      <td>And on the lazy days</td>\n",
       "    </tr>\n",
       "    <tr>\n",
       "      <th>18</th>\n",
       "      <td>574</td>\n",
       "      <td>2.220656e-04</td>\n",
       "      <td>The dogs dissolve and drain away</td>\n",
       "    </tr>\n",
       "    <tr>\n",
       "      <th>19</th>\n",
       "      <td>65</td>\n",
       "      <td>2.279656e-04</td>\n",
       "      <td>The world it goes</td>\n",
       "    </tr>\n",
       "    <tr>\n",
       "      <th>20</th>\n",
       "      <td>574</td>\n",
       "      <td>9.459814e-04</td>\n",
       "      <td>And always waits</td>\n",
       "    </tr>\n",
       "    <tr>\n",
       "      <th>21</th>\n",
       "      <td>574</td>\n",
       "      <td>1.927976e-05</td>\n",
       "      <td>The day we are awaiting</td>\n",
       "    </tr>\n",
       "    <tr>\n",
       "      <th>22</th>\n",
       "      <td>574</td>\n",
       "      <td>1.069616e-02</td>\n",
       "      <td>Part Three</td>\n",
       "    </tr>\n",
       "    <tr>\n",
       "      <th>23</th>\n",
       "      <td>574</td>\n",
       "      <td>5.276299e-05</td>\n",
       "      <td>Up and over</td>\n",
       "    </tr>\n",
       "    <tr>\n",
       "      <th>24</th>\n",
       "      <td>574</td>\n",
       "      <td>2.013574e-04</td>\n",
       "      <td>We go through the wave and undertow</td>\n",
       "    </tr>\n",
       "    <tr>\n",
       "      <th>25</th>\n",
       "      <td>1</td>\n",
       "      <td>9.995538e-01</td>\n",
       "      <td>I will float until I learn how to swim</td>\n",
       "    </tr>\n",
       "    <tr>\n",
       "      <th>26</th>\n",
       "      <td>19</td>\n",
       "      <td>1.790809e-04</td>\n",
       "      <td>Inside my mother in a garbage bin</td>\n",
       "    </tr>\n",
       "    <tr>\n",
       "      <th>27</th>\n",
       "      <td>463</td>\n",
       "      <td>9.753023e-04</td>\n",
       "      <td>Until I find myself again again</td>\n",
       "    </tr>\n",
       "    <tr>\n",
       "      <th>28</th>\n",
       "      <td>574</td>\n",
       "      <td>8.231225e-07</td>\n",
       "      <td>Up and over we go</td>\n",
       "    </tr>\n",
       "    <tr>\n",
       "      <th>29</th>\n",
       "      <td>14</td>\n",
       "      <td>6.315860e-04</td>\n",
       "      <td>Mouths open wide and spitting still</td>\n",
       "    </tr>\n",
       "    <tr>\n",
       "      <th>...</th>\n",
       "      <td>...</td>\n",
       "      <td>...</td>\n",
       "      <td>...</td>\n",
       "    </tr>\n",
       "    <tr>\n",
       "      <th>267</th>\n",
       "      <td>574</td>\n",
       "      <td>1.887497e-05</td>\n",
       "      <td>Daddy, please hear this song that I sing</td>\n",
       "    </tr>\n",
       "    <tr>\n",
       "      <th>268</th>\n",
       "      <td>20</td>\n",
       "      <td>4.734694e-03</td>\n",
       "      <td>In your heart there's a spark that just screams</td>\n",
       "    </tr>\n",
       "    <tr>\n",
       "      <th>269</th>\n",
       "      <td>574</td>\n",
       "      <td>4.100844e-06</td>\n",
       "      <td>For a lover to bring a child to your chest tha...</td>\n",
       "    </tr>\n",
       "    <tr>\n",
       "      <th>270</th>\n",
       "      <td>574</td>\n",
       "      <td>3.173891e-08</td>\n",
       "      <td>And love all you have left like your boy used ...</td>\n",
       "    </tr>\n",
       "    <tr>\n",
       "      <th>271</th>\n",
       "      <td>66</td>\n",
       "      <td>1.439005e-03</td>\n",
       "      <td>Long ago wrapped in sheets warm and wet</td>\n",
       "    </tr>\n",
       "    <tr>\n",
       "      <th>272</th>\n",
       "      <td>574</td>\n",
       "      <td>2.446523e-02</td>\n",
       "      <td>Blister please with those wings in your spine</td>\n",
       "    </tr>\n",
       "    <tr>\n",
       "      <th>273</th>\n",
       "      <td>574</td>\n",
       "      <td>8.738398e-06</td>\n",
       "      <td>Love to be with a brother of mine</td>\n",
       "    </tr>\n",
       "    <tr>\n",
       "      <th>274</th>\n",
       "      <td>1</td>\n",
       "      <td>9.998889e-01</td>\n",
       "      <td>How he'd love to find your tongue in his teeth</td>\n",
       "    </tr>\n",
       "    <tr>\n",
       "      <th>275</th>\n",
       "      <td>66</td>\n",
       "      <td>2.604075e-05</td>\n",
       "      <td>In a struggle to find secret songs that you ke...</td>\n",
       "    </tr>\n",
       "    <tr>\n",
       "      <th>276</th>\n",
       "      <td>66</td>\n",
       "      <td>2.743100e-05</td>\n",
       "      <td>Sounding only at night as you sleep</td>\n",
       "    </tr>\n",
       "    <tr>\n",
       "      <th>277</th>\n",
       "      <td>574</td>\n",
       "      <td>8.838571e-09</td>\n",
       "      <td>And in my dreams you're alive and you're crying</td>\n",
       "    </tr>\n",
       "    <tr>\n",
       "      <th>278</th>\n",
       "      <td>20</td>\n",
       "      <td>4.545816e-03</td>\n",
       "      <td>As your mouth moves in mine, soft and sweet</td>\n",
       "    </tr>\n",
       "    <tr>\n",
       "      <th>279</th>\n",
       "      <td>574</td>\n",
       "      <td>3.831120e-06</td>\n",
       "      <td>Rings of flowers 'round your eyes and I'll lov...</td>\n",
       "    </tr>\n",
       "    <tr>\n",
       "      <th>280</th>\n",
       "      <td>1</td>\n",
       "      <td>8.104607e-01</td>\n",
       "      <td>For the rest of your life when you're ready</td>\n",
       "    </tr>\n",
       "    <tr>\n",
       "      <th>281</th>\n",
       "      <td>574</td>\n",
       "      <td>1.991469e-07</td>\n",
       "      <td>Brother, see we are one in the same</td>\n",
       "    </tr>\n",
       "    <tr>\n",
       "      <th>282</th>\n",
       "      <td>10</td>\n",
       "      <td>1.692220e-05</td>\n",
       "      <td>And you left with your head filled with flames</td>\n",
       "    </tr>\n",
       "    <tr>\n",
       "      <th>283</th>\n",
       "      <td>66</td>\n",
       "      <td>5.001635e-05</td>\n",
       "      <td>And you watched as your brains fell out throug...</td>\n",
       "    </tr>\n",
       "    <tr>\n",
       "      <th>284</th>\n",
       "      <td>574</td>\n",
       "      <td>7.698113e-04</td>\n",
       "      <td>Push the pieces in place</td>\n",
       "    </tr>\n",
       "    <tr>\n",
       "      <th>285</th>\n",
       "      <td>66</td>\n",
       "      <td>2.369596e-04</td>\n",
       "      <td>Make your smile sweet to see</td>\n",
       "    </tr>\n",
       "    <tr>\n",
       "      <th>286</th>\n",
       "      <td>574</td>\n",
       "      <td>1.957016e-05</td>\n",
       "      <td>Don't you take this away</td>\n",
       "    </tr>\n",
       "    <tr>\n",
       "      <th>287</th>\n",
       "      <td>25</td>\n",
       "      <td>1.030568e-04</td>\n",
       "      <td>I'm still wanting my face on your cheek</td>\n",
       "    </tr>\n",
       "    <tr>\n",
       "      <th>288</th>\n",
       "      <td>574</td>\n",
       "      <td>1.637278e-07</td>\n",
       "      <td>And when we break we'll wait for our miracle</td>\n",
       "    </tr>\n",
       "    <tr>\n",
       "      <th>289</th>\n",
       "      <td>574</td>\n",
       "      <td>1.496382e-04</td>\n",
       "      <td>God is a place where some holy spectacle lies</td>\n",
       "    </tr>\n",
       "    <tr>\n",
       "      <th>290</th>\n",
       "      <td>574</td>\n",
       "      <td>4.149132e-06</td>\n",
       "      <td>When we break we'll wait for our miracle</td>\n",
       "    </tr>\n",
       "    <tr>\n",
       "      <th>291</th>\n",
       "      <td>20</td>\n",
       "      <td>1.087153e-04</td>\n",
       "      <td>God is a place you will wait for the rest of y...</td>\n",
       "    </tr>\n",
       "    <tr>\n",
       "      <th>292</th>\n",
       "      <td>574</td>\n",
       "      <td>2.250812e-04</td>\n",
       "      <td>Two headed boy, she is all you could need</td>\n",
       "    </tr>\n",
       "    <tr>\n",
       "      <th>293</th>\n",
       "      <td>574</td>\n",
       "      <td>2.984485e-04</td>\n",
       "      <td>She will feed you tomatoes and radio wires</td>\n",
       "    </tr>\n",
       "    <tr>\n",
       "      <th>294</th>\n",
       "      <td>574</td>\n",
       "      <td>2.062353e-04</td>\n",
       "      <td>And retire to sheets safe and clean</td>\n",
       "    </tr>\n",
       "    <tr>\n",
       "      <th>295</th>\n",
       "      <td>19</td>\n",
       "      <td>1.278296e-06</td>\n",
       "      <td>But don't hate her when she gets up to leave</td>\n",
       "    </tr>\n",
       "    <tr>\n",
       "      <th>296</th>\n",
       "      <td>574</td>\n",
       "      <td>6.726361e-04</td>\n",
       "      <td>(Jeff Mangum gets up to leave)</td>\n",
       "    </tr>\n",
       "  </tbody>\n",
       "</table>\n",
       "<p>297 rows × 3 columns</p>\n",
       "</div>"
      ],
      "text/plain": [
       "     predicted             1  \\\n",
       "0          574  8.031273e-09   \n",
       "1            1  9.998739e-01   \n",
       "2           66  1.627747e-03   \n",
       "3           65  3.427082e-04   \n",
       "4          574  6.056565e-07   \n",
       "5            1  9.999175e-01   \n",
       "6          574  5.061046e-09   \n",
       "7          574  4.092860e-04   \n",
       "8          574  3.095267e-06   \n",
       "9          574  2.177760e-05   \n",
       "10         574  3.457692e-07   \n",
       "11         574  8.418892e-05   \n",
       "12         574  2.183527e-03   \n",
       "13         574  7.748458e-05   \n",
       "14         574  1.213310e-04   \n",
       "15         574  7.748458e-05   \n",
       "16         574  1.213310e-04   \n",
       "17         574  1.962777e-06   \n",
       "18         574  2.220656e-04   \n",
       "19          65  2.279656e-04   \n",
       "20         574  9.459814e-04   \n",
       "21         574  1.927976e-05   \n",
       "22         574  1.069616e-02   \n",
       "23         574  5.276299e-05   \n",
       "24         574  2.013574e-04   \n",
       "25           1  9.995538e-01   \n",
       "26          19  1.790809e-04   \n",
       "27         463  9.753023e-04   \n",
       "28         574  8.231225e-07   \n",
       "29          14  6.315860e-04   \n",
       "..         ...           ...   \n",
       "267        574  1.887497e-05   \n",
       "268         20  4.734694e-03   \n",
       "269        574  4.100844e-06   \n",
       "270        574  3.173891e-08   \n",
       "271         66  1.439005e-03   \n",
       "272        574  2.446523e-02   \n",
       "273        574  8.738398e-06   \n",
       "274          1  9.998889e-01   \n",
       "275         66  2.604075e-05   \n",
       "276         66  2.743100e-05   \n",
       "277        574  8.838571e-09   \n",
       "278         20  4.545816e-03   \n",
       "279        574  3.831120e-06   \n",
       "280          1  8.104607e-01   \n",
       "281        574  1.991469e-07   \n",
       "282         10  1.692220e-05   \n",
       "283         66  5.001635e-05   \n",
       "284        574  7.698113e-04   \n",
       "285         66  2.369596e-04   \n",
       "286        574  1.957016e-05   \n",
       "287         25  1.030568e-04   \n",
       "288        574  1.637278e-07   \n",
       "289        574  1.496382e-04   \n",
       "290        574  4.149132e-06   \n",
       "291         20  1.087153e-04   \n",
       "292        574  2.250812e-04   \n",
       "293        574  2.984485e-04   \n",
       "294        574  2.062353e-04   \n",
       "295         19  1.278296e-06   \n",
       "296        574  6.726361e-04   \n",
       "\n",
       "                                                lyrics  \n",
       "0     When you were young, you were the king of car...  \n",
       "1    And how you built a tower tumbling through the...  \n",
       "2    In holy rattlesnakes that fell all around your...  \n",
       "3    And your mom would stick a fork right into dad...  \n",
       "4    And dad would throw the garbage all across the...  \n",
       "5    As we would lay and learn what each other's bo...  \n",
       "6     And this is the room one afternoon, I knew I ...  \n",
       "7         And from above you how I sank into your soul  \n",
       "8      Into that secret place where no one dares to go  \n",
       "9    And your mom would drink until she was no long...  \n",
       "10   And dad would dream of all the different ways ...  \n",
       "11    Each one a little more than he could dare to try  \n",
       "12                                            Part Two  \n",
       "13                            I love you, Jesus Christ  \n",
       "14                  Jesus Christ, I love you, yes I do  \n",
       "15                            I love you, Jesus Christ  \n",
       "16                  Jesus Christ, I love you, yes I do  \n",
       "17                                And on the lazy days  \n",
       "18                    The dogs dissolve and drain away  \n",
       "19                                   The world it goes  \n",
       "20                                    And always waits  \n",
       "21                             The day we are awaiting  \n",
       "22                                          Part Three  \n",
       "23                                         Up and over  \n",
       "24                 We go through the wave and undertow  \n",
       "25              I will float until I learn how to swim  \n",
       "26                   Inside my mother in a garbage bin  \n",
       "27                     Until I find myself again again  \n",
       "28                                   Up and over we go  \n",
       "29                 Mouths open wide and spitting still  \n",
       "..                                                 ...  \n",
       "267           Daddy, please hear this song that I sing  \n",
       "268    In your heart there's a spark that just screams  \n",
       "269  For a lover to bring a child to your chest tha...  \n",
       "270  And love all you have left like your boy used ...  \n",
       "271            Long ago wrapped in sheets warm and wet  \n",
       "272      Blister please with those wings in your spine  \n",
       "273                  Love to be with a brother of mine  \n",
       "274     How he'd love to find your tongue in his teeth  \n",
       "275  In a struggle to find secret songs that you ke...  \n",
       "276                Sounding only at night as you sleep  \n",
       "277    And in my dreams you're alive and you're crying  \n",
       "278        As your mouth moves in mine, soft and sweet  \n",
       "279  Rings of flowers 'round your eyes and I'll lov...  \n",
       "280        For the rest of your life when you're ready  \n",
       "281                Brother, see we are one in the same  \n",
       "282     And you left with your head filled with flames  \n",
       "283  And you watched as your brains fell out throug...  \n",
       "284                           Push the pieces in place  \n",
       "285                       Make your smile sweet to see  \n",
       "286                           Don't you take this away  \n",
       "287            I'm still wanting my face on your cheek  \n",
       "288       And when we break we'll wait for our miracle  \n",
       "289      God is a place where some holy spectacle lies  \n",
       "290           When we break we'll wait for our miracle  \n",
       "291  God is a place you will wait for the rest of y...  \n",
       "292          Two headed boy, she is all you could need  \n",
       "293         She will feed you tomatoes and radio wires  \n",
       "294                And retire to sheets safe and clean  \n",
       "295       But don't hate her when she gets up to leave  \n",
       "296                     (Jeff Mangum gets up to leave)  \n",
       "\n",
       "[297 rows x 3 columns]"
      ]
     },
     "execution_count": 207,
     "metadata": {},
     "output_type": "execute_result"
    }
   ],
   "source": [
    "final_df"
   ]
  },
  {
   "cell_type": "code",
   "execution_count": 208,
   "metadata": {},
   "outputs": [
    {
     "data": {
      "text/html": [
       "<div>\n",
       "<style>\n",
       "    .dataframe thead tr:only-child th {\n",
       "        text-align: right;\n",
       "    }\n",
       "\n",
       "    .dataframe thead th {\n",
       "        text-align: left;\n",
       "    }\n",
       "\n",
       "    .dataframe tbody tr th {\n",
       "        vertical-align: top;\n",
       "    }\n",
       "</style>\n",
       "<table border=\"1\" class=\"dataframe\">\n",
       "  <thead>\n",
       "    <tr style=\"text-align: right;\">\n",
       "      <th></th>\n",
       "      <th>predicted</th>\n",
       "    </tr>\n",
       "  </thead>\n",
       "  <tbody>\n",
       "    <tr>\n",
       "      <th>574</th>\n",
       "      <td>147</td>\n",
       "    </tr>\n",
       "    <tr>\n",
       "      <th>1</th>\n",
       "      <td>76</td>\n",
       "    </tr>\n",
       "    <tr>\n",
       "      <th>66</th>\n",
       "      <td>28</td>\n",
       "    </tr>\n",
       "    <tr>\n",
       "      <th>20</th>\n",
       "      <td>11</td>\n",
       "    </tr>\n",
       "    <tr>\n",
       "      <th>65</th>\n",
       "      <td>8</td>\n",
       "    </tr>\n",
       "    <tr>\n",
       "      <th>19</th>\n",
       "      <td>4</td>\n",
       "    </tr>\n",
       "    <tr>\n",
       "      <th>723</th>\n",
       "      <td>4</td>\n",
       "    </tr>\n",
       "    <tr>\n",
       "      <th>59</th>\n",
       "      <td>3</td>\n",
       "    </tr>\n",
       "    <tr>\n",
       "      <th>623</th>\n",
       "      <td>2</td>\n",
       "    </tr>\n",
       "    <tr>\n",
       "      <th>457</th>\n",
       "      <td>2</td>\n",
       "    </tr>\n",
       "    <tr>\n",
       "      <th>10</th>\n",
       "      <td>1</td>\n",
       "    </tr>\n",
       "    <tr>\n",
       "      <th>14</th>\n",
       "      <td>1</td>\n",
       "    </tr>\n",
       "    <tr>\n",
       "      <th>25</th>\n",
       "      <td>1</td>\n",
       "    </tr>\n",
       "    <tr>\n",
       "      <th>39</th>\n",
       "      <td>1</td>\n",
       "    </tr>\n",
       "    <tr>\n",
       "      <th>286</th>\n",
       "      <td>1</td>\n",
       "    </tr>\n",
       "    <tr>\n",
       "      <th>303</th>\n",
       "      <td>1</td>\n",
       "    </tr>\n",
       "    <tr>\n",
       "      <th>75</th>\n",
       "      <td>1</td>\n",
       "    </tr>\n",
       "    <tr>\n",
       "      <th>96</th>\n",
       "      <td>1</td>\n",
       "    </tr>\n",
       "    <tr>\n",
       "      <th>115</th>\n",
       "      <td>1</td>\n",
       "    </tr>\n",
       "    <tr>\n",
       "      <th>631</th>\n",
       "      <td>1</td>\n",
       "    </tr>\n",
       "    <tr>\n",
       "      <th>193</th>\n",
       "      <td>1</td>\n",
       "    </tr>\n",
       "    <tr>\n",
       "      <th>463</th>\n",
       "      <td>1</td>\n",
       "    </tr>\n",
       "  </tbody>\n",
       "</table>\n",
       "</div>"
      ],
      "text/plain": [
       "     predicted\n",
       "574        147\n",
       "1           76\n",
       "66          28\n",
       "20          11\n",
       "65           8\n",
       "19           4\n",
       "723          4\n",
       "59           3\n",
       "623          2\n",
       "457          2\n",
       "10           1\n",
       "14           1\n",
       "25           1\n",
       "39           1\n",
       "286          1\n",
       "303          1\n",
       "75           1\n",
       "96           1\n",
       "115          1\n",
       "631          1\n",
       "193          1\n",
       "463          1"
      ]
     },
     "execution_count": 208,
     "metadata": {},
     "output_type": "execute_result"
    }
   ],
   "source": [
    "pd.DataFrame(final_df['predicted'].value_counts())"
   ]
  },
  {
   "cell_type": "code",
   "execution_count": 190,
   "metadata": {
    "collapsed": true
   },
   "outputs": [],
   "source": [
    "mis_class = mis_class.reset_index()"
   ]
  },
  {
   "cell_type": "code",
   "execution_count": null,
   "metadata": {
    "collapsed": true
   },
   "outputs": [],
   "source": []
  },
  {
   "cell_type": "code",
   "execution_count": null,
   "metadata": {
    "collapsed": true
   },
   "outputs": [],
   "source": []
  },
  {
   "cell_type": "code",
   "execution_count": null,
   "metadata": {
    "collapsed": true
   },
   "outputs": [],
   "source": []
  },
  {
   "cell_type": "code",
   "execution_count": 165,
   "metadata": {
    "collapsed": true
   },
   "outputs": [],
   "source": [
    "import pickle\n",
    "all_folk_albums_dict = pickle.load(open('all_folk_albums.pkl', 'rb'))"
   ]
  },
  {
   "cell_type": "code",
   "execution_count": 187,
   "metadata": {},
   "outputs": [
    {
     "name": "stdout",
     "output_type": "stream",
     "text": [
      "574 Sun Kil Moon Common As Light and Love Are Red Valleys of Blood\n",
      "1 Neutral Milk Hotel In the Aeroplane Over the Sea\n",
      "65 Various Artists Dark Was The Night\n",
      "20 Joanna Newsom Have One on Me\n",
      "463 Bright Eyes Digital Ash in a Digital Urn\n",
      "303 Bright Eyes Lifted or The Story Is in the Soil, Keep Your Ear to the Ground\n",
      "723 The Head and The Heart The Head and The Heart\n",
      "193 Angels of Light We Are Him\n",
      "66 Bob Dylan The Bootleg Series Vol. 8: Tell Tale Signs\n",
      "776 Emmy the Great First Love\n",
      "39 Beth Orton Central Reservation\n",
      "59 Elvis Costello King of America\n",
      "679 Bright Eyes Fevers and Mirrors\n",
      "115 Bob Dylan Modern Times\n",
      "25 Bob Dylan The Bootleg Series Vol. 6: Bob Dylan Live 1964\n",
      "21 Sufjan Stevens Illinois\n",
      "120 Josh Ritter Hello Starling\n",
      "196 American Music Club Love Songs for Patriots\n",
      "460 Beth Orton Comfort of Strangers\n",
      "365 The Avett Brothers Emotionalism\n",
      "755 Withered Hand New Gods\n",
      "756 Lucy Rose Like I Used To\n"
     ]
    }
   ],
   "source": [
    "for album_id in final_df['predicted'].unique():\n",
    "    print(album_id, all_folk_albums_dict[album_id]['artist'], all_folk_albums_dict[album_id]['album'])"
   ]
  },
  {
   "cell_type": "code",
   "execution_count": null,
   "metadata": {
    "collapsed": true
   },
   "outputs": [],
   "source": []
  },
  {
   "cell_type": "code",
   "execution_count": null,
   "metadata": {
    "collapsed": true
   },
   "outputs": [],
   "source": []
  },
  {
   "cell_type": "code",
   "execution_count": 231,
   "metadata": {
    "collapsed": true
   },
   "outputs": [],
   "source": [
    "all_lyrics = all_df['lyrics']\n",
    "\n",
    "all_cv = CountVectorizer(ngram_range=(1, 4))"
   ]
  },
  {
   "cell_type": "code",
   "execution_count": 233,
   "metadata": {
    "collapsed": true
   },
   "outputs": [],
   "source": [
    "cv_lyrics = all_cv.fit_transform(all_lyrics)"
   ]
  },
  {
   "cell_type": "code",
   "execution_count": 235,
   "metadata": {
    "collapsed": true
   },
   "outputs": [],
   "source": [
    "lyrics_mat = cv_lyrics.toarray()"
   ]
  },
  {
   "cell_type": "code",
   "execution_count": 234,
   "metadata": {
    "collapsed": true
   },
   "outputs": [],
   "source": [
    "pca = PCA(n_components=10)"
   ]
  },
  {
   "cell_type": "code",
   "execution_count": null,
   "metadata": {
    "collapsed": true
   },
   "outputs": [],
   "source": [
    "x = pca.fit(lyrics_mat)"
   ]
  },
  {
   "cell_type": "code",
   "execution_count": 16,
   "metadata": {
    "collapsed": true
   },
   "outputs": [],
   "source": [
    "import nltk"
   ]
  },
  {
   "cell_type": "code",
   "execution_count": 6,
   "metadata": {
    "collapsed": true
   },
   "outputs": [],
   "source": [
    "inthe_aeroplane_over_the_sea_lyrics = all_df.loc[all_df['album'] == 'In the Aeroplane Over the Sea']['lyrics'].values"
   ]
  },
  {
   "cell_type": "code",
   "execution_count": 10,
   "metadata": {
    "collapsed": true
   },
   "outputs": [],
   "source": [
    "in_the_aero_plane_over_the_sea = pd.DataFrame(inthe_aeroplane_over_the_sea_lyrics, columns=['lyrics'])"
   ]
  },
  {
   "cell_type": "code",
   "execution_count": 12,
   "metadata": {
    "collapsed": true
   },
   "outputs": [],
   "source": [
    "list_of_lines = []\n",
    "\n",
    "for lyric in in_the_aero_plane_over_the_sea['lyrics']:\n",
    "    lines = lyric.split(' n ')\n",
    "    for line in lines:\n",
    "        list_of_lines.append(line)"
   ]
  },
  {
   "cell_type": "code",
   "execution_count": 19,
   "metadata": {
    "collapsed": true
   },
   "outputs": [],
   "source": [
    "in_the_aeroplane_over_the_sea_lines = pd.DataFrame(list_of_lines, columns=['lines'])"
   ]
  },
  {
   "cell_type": "code",
   "execution_count": 20,
   "metadata": {},
   "outputs": [
    {
     "data": {
      "text/html": [
       "<div>\n",
       "<style>\n",
       "    .dataframe thead tr:only-child th {\n",
       "        text-align: right;\n",
       "    }\n",
       "\n",
       "    .dataframe thead th {\n",
       "        text-align: left;\n",
       "    }\n",
       "\n",
       "    .dataframe tbody tr th {\n",
       "        vertical-align: top;\n",
       "    }\n",
       "</style>\n",
       "<table border=\"1\" class=\"dataframe\">\n",
       "  <thead>\n",
       "    <tr style=\"text-align: right;\">\n",
       "      <th></th>\n",
       "      <th>lines</th>\n",
       "    </tr>\n",
       "  </thead>\n",
       "  <tbody>\n",
       "    <tr>\n",
       "      <th>0</th>\n",
       "      <td>[Verse 1]</td>\n",
       "    </tr>\n",
       "    <tr>\n",
       "      <th>1</th>\n",
       "      <td>When you were young, you were the king of carr...</td>\n",
       "    </tr>\n",
       "    <tr>\n",
       "      <th>2</th>\n",
       "      <td>And how you built a tower tumbling through the...</td>\n",
       "    </tr>\n",
       "    <tr>\n",
       "      <th>3</th>\n",
       "      <td>In holy rattlesnakes that fell all around your...</td>\n",
       "    </tr>\n",
       "    <tr>\n",
       "      <th>4</th>\n",
       "      <td>And your mom would stick a fork right into dad...</td>\n",
       "    </tr>\n",
       "  </tbody>\n",
       "</table>\n",
       "</div>"
      ],
      "text/plain": [
       "                                               lines\n",
       "0                                          [Verse 1]\n",
       "1  When you were young, you were the king of carr...\n",
       "2  And how you built a tower tumbling through the...\n",
       "3  In holy rattlesnakes that fell all around your...\n",
       "4  And your mom would stick a fork right into dad..."
      ]
     },
     "execution_count": 20,
     "metadata": {},
     "output_type": "execute_result"
    }
   ],
   "source": [
    "in_the_aeroplane_over_the_sea_lines.head()"
   ]
  },
  {
   "cell_type": "code",
   "execution_count": 47,
   "metadata": {
    "collapsed": true
   },
   "outputs": [],
   "source": [
    "import itertools"
   ]
  },
  {
   "cell_type": "code",
   "execution_count": 62,
   "metadata": {
    "collapsed": true
   },
   "outputs": [],
   "source": [
    "sentences = []\n",
    "for line in in_the_aeroplane_over_the_sea_lines['lines']:\n",
    "  \n",
    "    sentence = nltk.word_tokenize('sentence_start ' + line + ' sentence_end')\n",
    "    sentences.append(sentence)"
   ]
  },
  {
   "cell_type": "code",
   "execution_count": 66,
   "metadata": {
    "collapsed": true
   },
   "outputs": [],
   "source": [
    "word_freq = nltk.FreqDist(itertools.chain(*sentences))"
   ]
  },
  {
   "cell_type": "code",
   "execution_count": 67,
   "metadata": {
    "collapsed": true
   },
   "outputs": [],
   "source": [
    "vocab = word_freq.most_common(600)"
   ]
  },
  {
   "cell_type": "code",
   "execution_count": 74,
   "metadata": {
    "collapsed": true
   },
   "outputs": [],
   "source": [
    "index_to_word = [x[0] for x in vocab]\n",
    "index_to_word.append('UNKNOWN_TOKEN')"
   ]
  },
  {
   "cell_type": "code",
   "execution_count": 76,
   "metadata": {
    "collapsed": true
   },
   "outputs": [],
   "source": [
    "word_to_index = dict([(w, i) for i, w in enumerate(index_to_word)])"
   ]
  },
  {
   "cell_type": "code",
   "execution_count": 79,
   "metadata": {
    "collapsed": true
   },
   "outputs": [],
   "source": [
    "for i, sent in enumerate(sentences):\n",
    "    sentences[i] = [w if w in word_to_index else 'UNKNOWN_TOKEN' for w in sent]"
   ]
  },
  {
   "cell_type": "code",
   "execution_count": 82,
   "metadata": {
    "collapsed": true
   },
   "outputs": [],
   "source": [
    "X_train = np.asarray([[word_to_index[w] for w in sent[:-1]] for sent in sentences])\n",
    "y_train = np.asarray([[word_to_index[w] for w in sent[1:]] for sent in sentences])"
   ]
  },
  {
   "cell_type": "code",
   "execution_count": 136,
   "metadata": {
    "collapsed": true
   },
   "outputs": [],
   "source": [
    "# from http://www.wildml.com/2015/09/recurrent-neural-networks-tutorial-part-2-implementing-a-language-model-rnn-with-python-numpy-and-theano/\n",
    "\n",
    "class RNNNumpy:\n",
    "\n",
    "    def __init__(self, word_dim, hidden_dim=100, bptt_truncate=4):\n",
    "            # Assign instance variables\n",
    "            self.word_dim = word_dim\n",
    "            self.hidden_dim = hidden_dim\n",
    "            self.bptt_truncate = bptt_truncate\n",
    "            # Randomly initialize the network parameters\n",
    "            self.U = np.random.uniform(-np.sqrt(1./word_dim), np.sqrt(1./word_dim), (hidden_dim, word_dim))\n",
    "            self.V = np.random.uniform(-np.sqrt(1./hidden_dim), np.sqrt(1./hidden_dim), (word_dim, hidden_dim))\n",
    "            self.W = np.random.uniform(-np.sqrt(1./hidden_dim), np.sqrt(1./hidden_dim), (hidden_dim, hidden_dim))\n",
    "\n",
    "    def forward_propagation(self, x):\n",
    "        # The total number of time steps\n",
    "        T = len(x)\n",
    "        # During forward propagation we save all hidden states in s because need them later.\n",
    "        # We add one additional element for the initial hidden, which we set to 0\n",
    "        s = np.zeros((T + 1, self.hidden_dim))\n",
    "        s[-1] = np.zeros(self.hidden_dim)\n",
    "        # The outputs at each time step. Again, we save them for later.\n",
    "        o = np.zeros((T, self.word_dim))\n",
    "        # For each time step...\n",
    "        for t in np.arange(T):\n",
    "            # Note that we are indxing U by x[t]. This is the same as multiplying U with a one-hot vector.\n",
    "            s[t] = np.tanh(self.U[:,x[t]] + self.W.dot(s[t-1]))\n",
    "            o[t] = softmax(self.V.dot(s[t]))\n",
    "        return [o, s]\n",
    "    \n",
    "#     RNNNumpy.forward_propagation = forward_propagation\n",
    "    \n",
    "    def predict(self, x):\n",
    "        # Perform forward propagation and return index of the highest score\n",
    "        o, s = self.forward_propagation(x)\n",
    "        return np.argmax(o, axis=1)\n",
    "\n",
    "#     RNNNumpy.predict = predict\n",
    "    \n",
    "    def calculate_total_loss(self, x, y):\n",
    "        L = 0\n",
    "        # For each sentence...\n",
    "        for i in np.arange(len(y)):\n",
    "            o, s = self.forward_propagation(x[i])\n",
    "            # We only care about our prediction of the \"correct\" words\n",
    "            correct_word_predictions = o[np.arange(len(y[i])), y[i]]\n",
    "            # Add to the loss based on how off we were\n",
    "            L += -1 * np.sum(np.log(correct_word_predictions))\n",
    "        return L\n",
    "\n",
    "    def calculate_loss(self, x, y):\n",
    "        # Divide the total loss by the number of training examples\n",
    "        N = np.sum((len(y_i) for y_i in y))\n",
    "        return self.calculate_total_loss(x,y)/N\n",
    "\n",
    "#     RNNNumpy.calculate_total_loss = calculate_total_loss\n",
    "#     RNNNumpy.calculate_loss = calculate_loss\n",
    "\n",
    "    def bptt(self, x, y):\n",
    "        T = len(y)\n",
    "        # Perform forward propagation\n",
    "        o, s = self.forward_propagation(x)\n",
    "        # We accumulate the gradients in these variables\n",
    "        dLdU = np.zeros(self.U.shape)\n",
    "        dLdV = np.zeros(self.V.shape)\n",
    "        dLdW = np.zeros(self.W.shape)\n",
    "        delta_o = o\n",
    "        delta_o[np.arange(len(y)), y] -= 1.\n",
    "        # For each output backwards...\n",
    "        for t in np.arange(T)[::-1]:\n",
    "            dLdV += np.outer(delta_o[t], s[t].T)\n",
    "            # Initial delta calculation\n",
    "            delta_t = self.V.T.dot(delta_o[t]) * (1 - (s[t] ** 2))\n",
    "            # Backpropagation through time (for at most self.bptt_truncate steps)\n",
    "            for bptt_step in np.arange(max(0, t-self.bptt_truncate), t+1)[::-1]:\n",
    "                # print \"Backpropagation step t=%d bptt step=%d \" % (t, bptt_step)\n",
    "                dLdW += np.outer(delta_t, s[bptt_step-1])              \n",
    "                dLdU[:,x[bptt_step]] += delta_t\n",
    "                # Update delta for next step\n",
    "                delta_t = self.W.T.dot(delta_t) * (1 - s[bptt_step-1] ** 2)\n",
    "        return [dLdU, dLdV, dLdW]\n",
    "    \n",
    "    def gradient_check(self, x, y, h=0.001, error_threshold=0.01):\n",
    "        # Calculate the gradients using backpropagation. We want to checker if these are correct.\n",
    "        bptt_gradients = self.bptt(x, y)\n",
    "        # List of all parameters we want to check.\n",
    "        model_parameters = ['U', 'V', 'W']\n",
    "        # Gradient check for each parameter\n",
    "        for pidx, pname in enumerate(model_parameters):\n",
    "            # Get the actual parameter value from the mode, e.g. model.W\n",
    "            parameter = operator.attrgetter(pname)(self)\n",
    "#             print \"Performing gradient check for parameter %s with size %d.\" % (pname, np.prod(parameter.shape))\n",
    "            # Iterate over each element of the parameter matrix, e.g. (0,0), (0,1), ...\n",
    "            it = np.nditer(parameter, flags=['multi_index'], op_flags=['readwrite'])\n",
    "            while not it.finished:\n",
    "                ix = it.multi_index\n",
    "                # Save the original value so we can reset it later\n",
    "                original_value = parameter[ix]\n",
    "                # Estimate the gradient using (f(x+h) - f(x-h))/(2*h)\n",
    "                parameter[ix] = original_value + h\n",
    "                gradplus = self.calculate_total_loss([x],[y])\n",
    "                parameter[ix] = original_value - h\n",
    "                gradminus = self.calculate_total_loss([x],[y])\n",
    "                estimated_gradient = (gradplus - gradminus)/(2*h)\n",
    "                # Reset parameter to original value\n",
    "                parameter[ix] = original_value\n",
    "                # The gradient for this parameter calculated using backpropagation\n",
    "                backprop_gradient = bptt_gradients[pidx][ix]\n",
    "                # calculate The relative error: (|x - y|/(|x| + |y|))\n",
    "                relative_error = np.abs(backprop_gradient - estimated_gradient)/(np.abs(backprop_gradient) + np.abs(estimated_gradient))\n",
    "                # If the error is to large fail the gradient check\n",
    "                if relative_error > error_threshold:\n",
    "                    print(\"Gradient Check ERROR: parameter=%s ix=%s\" % (pname, ix))\n",
    "                    print(\"+h Loss: %f\" % gradplus)\n",
    "                    print(\"-h Loss: %f\" % gradminus)\n",
    "                    print(\"Estimated_gradient: %f\" % estimated_gradient)\n",
    "                    print(\"Backpropagation gradient: %f\" % backprop_gradient)\n",
    "                    print(\"Relative Error: %f\" % relative_error)\n",
    "                    return\n",
    "                it.iternext()\n",
    "            print(\"Gradient check for parameter %s passed.\" % (pname))\n",
    "            \n",
    "            \n",
    "            # Performs one step of SGD.\n",
    "    def numpy_sdg_step(self, x, y, learning_rate):\n",
    "        # Calculate the gradients\n",
    "        dLdU, dLdV, dLdW = self.bptt(x, y)\n",
    "        # Change parameters according to gradients and learning rate\n",
    "        self.U -= learning_rate * dLdU\n",
    "        self.V -= learning_rate * dLdV\n",
    "        self.W -= learning_rate * dLdW\n",
    "\n",
    "    # Outer SGD Loop\n",
    "    # - model: The RNN model instance\n",
    "    # - X_train: The training data set\n",
    "    # - y_train: The training data labels\n",
    "    # - learning_rate: Initial learning rate for SGD\n",
    "    # - nepoch: Number of times to iterate through the complete dataset\n",
    "    # - evaluate_loss_after: Evaluate the loss after this many epochs\n",
    "def train_with_sgd(model, X_train, y_train, learning_rate=0.005, nepoch=100, evaluate_loss_after=5):\n",
    "    # We keep track of the losses so we can plot them later\n",
    "    losses = []\n",
    "    num_examples_seen = 0\n",
    "    for epoch in range(nepoch):\n",
    "        # Optionally evaluate the loss\n",
    "        if (epoch % evaluate_loss_after == 0):\n",
    "            loss = model.calculate_loss(X_train, y_train)\n",
    "            losses.append((num_examples_seen, loss))\n",
    "            time = datetime.datetime.now().strftime('%Y-%m-%d %H:%M:%S')\n",
    "            print(\"%s: Loss after num_examples_seen=%d epoch=%d: %f\" % (time, num_examples_seen, epoch, loss))\n",
    "            # Adjust the learning rate if loss increases\n",
    "            if (len(losses) > 1 and losses[-1][1] > losses[-2][1]):\n",
    "                learning_rate = learning_rate * 0.5 \n",
    "                print(\"Setting learning rate to %f\" % learning_rate)\n",
    "            sys.stdout.flush()\n",
    "        # For each training example...\n",
    "        for i in range(len(y_train)):\n",
    "            # One SGD step\n",
    "            model.numpy_sdg_step(X_train[i], y_train[i], learning_rate)\n",
    "            num_examples_seen += 1"
   ]
  },
  {
   "cell_type": "code",
   "execution_count": 134,
   "metadata": {
    "collapsed": true
   },
   "outputs": [],
   "source": [
    "model = RNNNumpy(600)"
   ]
  },
  {
   "cell_type": "code",
   "execution_count": 100,
   "metadata": {
    "collapsed": true
   },
   "outputs": [],
   "source": [
    "o, s = model.forward_propagation(X_train[10])"
   ]
  },
  {
   "cell_type": "code",
   "execution_count": 115,
   "metadata": {},
   "outputs": [
    {
     "name": "stdout",
     "output_type": "stream",
     "text": [
      "9.44 ms ± 394 µs per loop (mean ± std. dev. of 7 runs, 100 loops each)\n"
     ]
    }
   ],
   "source": [
    "np.random.seed(10)\n",
    "model = RNNNumpy(600)\n",
    "%timeit model.numpy_sdg_step(X_train[10], y_train[10], 0.005)"
   ]
  },
  {
   "cell_type": "code",
   "execution_count": 126,
   "metadata": {},
   "outputs": [
    {
     "data": {
      "text/plain": [
       "datetime.datetime(2018, 3, 27, 15, 56, 47, 301962)"
      ]
     },
     "execution_count": 126,
     "metadata": {},
     "output_type": "execute_result"
    }
   ],
   "source": [
    "datetime.datetime.now()"
   ]
  },
  {
   "cell_type": "code",
   "execution_count": 131,
   "metadata": {
    "collapsed": true
   },
   "outputs": [],
   "source": [
    "import sys"
   ]
  },
  {
   "cell_type": "code",
   "execution_count": 135,
   "metadata": {},
   "outputs": [
    {
     "name": "stdout",
     "output_type": "stream",
     "text": [
      "2018-03-27 15:57:52: Loss after num_examples_seen=0 epoch=0: 6.396039\n",
      "2018-03-27 15:57:53: Loss after num_examples_seen=100 epoch=1: 6.388924\n",
      "2018-03-27 15:57:54: Loss after num_examples_seen=200 epoch=2: 6.381335\n",
      "2018-03-27 15:57:54: Loss after num_examples_seen=300 epoch=3: 6.372757\n",
      "2018-03-27 15:57:55: Loss after num_examples_seen=400 epoch=4: 6.362445\n",
      "2018-03-27 15:57:56: Loss after num_examples_seen=500 epoch=5: 6.349079\n",
      "2018-03-27 15:57:57: Loss after num_examples_seen=600 epoch=6: 6.329474\n",
      "2018-03-27 15:57:57: Loss after num_examples_seen=700 epoch=7: 6.281106\n",
      "2018-03-27 15:57:58: Loss after num_examples_seen=800 epoch=8: 5.593299\n",
      "2018-03-27 15:57:59: Loss after num_examples_seen=900 epoch=9: 5.314968\n"
     ]
    }
   ],
   "source": [
    "losses = train_with_sgd(model, X_train[:100], y_train[:100], nepoch=10, evaluate_loss_after=1)"
   ]
  },
  {
   "cell_type": "code",
   "execution_count": null,
   "metadata": {
    "collapsed": true
   },
   "outputs": [],
   "source": []
  },
  {
   "cell_type": "code",
   "execution_count": null,
   "metadata": {
    "collapsed": true
   },
   "outputs": [],
   "source": []
  },
  {
   "cell_type": "code",
   "execution_count": null,
   "metadata": {
    "collapsed": true
   },
   "outputs": [],
   "source": []
  },
  {
   "cell_type": "code",
   "execution_count": null,
   "metadata": {
    "collapsed": true
   },
   "outputs": [],
   "source": []
  },
  {
   "cell_type": "code",
   "execution_count": null,
   "metadata": {
    "collapsed": true
   },
   "outputs": [],
   "source": []
  },
  {
   "cell_type": "code",
   "execution_count": null,
   "metadata": {
    "collapsed": true
   },
   "outputs": [],
   "source": []
  },
  {
   "cell_type": "code",
   "execution_count": 209,
   "metadata": {
    "collapsed": true
   },
   "outputs": [],
   "source": [
    "import nltk"
   ]
  },
  {
   "cell_type": "code",
   "execution_count": 223,
   "metadata": {
    "collapsed": true
   },
   "outputs": [],
   "source": [
    "text = all_df.loc[(all_df['album_id'] == 1) & (all_df['song_id'] == 18)]['lyrics'].values"
   ]
  },
  {
   "cell_type": "code",
   "execution_count": 226,
   "metadata": {
    "collapsed": true
   },
   "outputs": [],
   "source": [
    "test = 'This is a test. I test this becuase I\\'m not sure if this is a function i can call'"
   ]
  },
  {
   "cell_type": "code",
   "execution_count": null,
   "metadata": {
    "collapsed": true
   },
   "outputs": [],
   "source": []
  },
  {
   "cell_type": "code",
   "execution_count": null,
   "metadata": {
    "collapsed": true
   },
   "outputs": [],
   "source": []
  }
 ],
 "metadata": {
  "kernelspec": {
   "display_name": "Python 3",
   "language": "python",
   "name": "python3"
  },
  "language_info": {
   "codemirror_mode": {
    "name": "ipython",
    "version": 3
   },
   "file_extension": ".py",
   "mimetype": "text/x-python",
   "name": "python",
   "nbconvert_exporter": "python",
   "pygments_lexer": "ipython3",
   "version": "3.6.4"
  }
 },
 "nbformat": 4,
 "nbformat_minor": 2
}
