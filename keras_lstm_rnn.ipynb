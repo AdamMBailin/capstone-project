{
 "cells": [
  {
   "cell_type": "code",
   "execution_count": 223,
   "metadata": {
    "collapsed": true
   },
   "outputs": [],
   "source": [
    "import string\n",
    "from keras.preprocessing.text import Tokenizer\n",
    "from keras.preprocessing.sequence import pad_sequences\n",
    "import numpy as np\n",
    "from keras.utils import to_categorical\n",
    "from keras import Sequential\n",
    "from keras.layers import Dense, LSTM, Embedding, Dropout\n",
    "import pickle\n",
    "import pandas as pd"
   ]
  },
  {
   "cell_type": "code",
   "execution_count": 5,
   "metadata": {
    "collapsed": true
   },
   "outputs": [],
   "source": [
    "def load_data(filename='all_songs.csv',\n",
    "              col='album',\n",
    "              col_value='In the Aeroplane Over the Sea'):\n",
    "    \n",
    "    df    = pd.read_csv('all_songs.csv')\n",
    "    df    = df.loc[df[col] == col_value]\n",
    "    songs = df['lyrics'].values\n",
    "    return songs"
   ]
  },
  {
   "cell_type": "code",
   "execution_count": 6,
   "metadata": {
    "collapsed": true
   },
   "outputs": [],
   "source": [
    "def lyric_cleaner(songs):\n",
    "    lyric_tokens = []\n",
    "    for song in songs:\n",
    "        text = song.lower().replace(' n ', ' eol ').replace('[verse ', '[verse')\n",
    "        text = text.replace(\"'\", '').replace('-', ' ')\n",
    "        tokens = text.split()\n",
    "        table = str.maketrans('', '', string.punctuation)\n",
    "        tokens = [word.translate(table) for word in tokens]\n",
    "        lyric_tokens.append(tokens)\n",
    "    \n",
    "    return lyric_tokens"
   ]
  },
  {
   "cell_type": "code",
   "execution_count": 8,
   "metadata": {
    "collapsed": true
   },
   "outputs": [],
   "source": [
    "def join_song_lyrics(lyric_tokens):\n",
    "    \n",
    "    joined_songs = []\n",
    "    \n",
    "    for song in lyric_tokens:\n",
    "        lyrics = ' '.join(song)\n",
    "        joined_songs.append(lyrics)\n",
    "        \n",
    "    return joined_songs"
   ]
  },
  {
   "cell_type": "code",
   "execution_count": 9,
   "metadata": {
    "collapsed": true
   },
   "outputs": [],
   "source": [
    "def tokenizer(list_of_songs, tokenizer=Tokenizer()):\n",
    "    tokenizer = tokenizer\n",
    "    tokenizer.fit_on_texts(list_of_songs)\n",
    "    encoded_songs = tokenizer.texts_to_sequences(list_of_songs)\n",
    "    \n",
    "    return encoded_songs, tokenizer"
   ]
  },
  {
   "cell_type": "code",
   "execution_count": 10,
   "metadata": {
    "collapsed": true
   },
   "outputs": [],
   "source": [
    "def find_longest_song(encoded_songs):\n",
    "    longest_song_size = 0\n",
    "    for song in encoded_songs:\n",
    "        if len(song) > longest_song_size:\n",
    "            longest_song_size = len(song)\n",
    "    return longest_song_size"
   ]
  },
  {
   "cell_type": "code",
   "execution_count": 11,
   "metadata": {
    "collapsed": true
   },
   "outputs": [],
   "source": [
    "def index_to_word(tokenizer):\n",
    "    vocab_size = len(tokenizer.word_index) + 1\n",
    "    index_to_word_dict =  dict([(index, word) for word, index in tokenizer.word_index.items()])\n",
    "    return vocab_size, index_to_word_dict"
   ]
  },
  {
   "cell_type": "code",
   "execution_count": 13,
   "metadata": {
    "collapsed": true
   },
   "outputs": [],
   "source": [
    "def pad_data(encoded_songs, max_length):\n",
    "    padded_songs = pad_sequences(encoded_songs, maxlen=max_length, padding='post', truncating='post')\n",
    "    return padded_songs"
   ]
  },
  {
   "cell_type": "code",
   "execution_count": 44,
   "metadata": {
    "collapsed": true
   },
   "outputs": [],
   "source": [
    "def seqeuncer(padded_songs, length=seq_length):\n",
    "    sequences = []\n",
    "    output = []\n",
    "\n",
    "    for song in padded_songs:\n",
    "        for i in range(length, (len(song))):\n",
    "            seq = song[i - length: i]\n",
    "            out = song[i]\n",
    "            sequences.append(seq)\n",
    "            output.append(out)\n",
    "            \n",
    "    return np.array(sequences), output"
   ]
  },
  {
   "cell_type": "code",
   "execution_count": 231,
   "metadata": {
    "collapsed": true
   },
   "outputs": [],
   "source": [
    "def establish_model(vocab_size=vocab_size, seq_length=seq_length):\n",
    "    model = Sequential()\n",
    "    model.add(Embedding(vocab_size, 50, input_length=seq_length))\n",
    "    model.add(LSTM(100, return_sequences=True))\n",
    "    model.add(Dropout(0.2))\n",
    "    model.add(LSTM(100, return_sequences=False))\n",
    "    model.add(Dropout(0.2))\n",
    "    model.add(Dense(100, activation='relu'))\n",
    "    model.add(Dropout(0.2))\n",
    "    model.add(Dense(100, activation='relu'))\n",
    "    model.add(Dense(vocab_size, activation='softmax'))\n",
    "    model.compile(loss='categorical_crossentropy', optimizer='adam', metrics=['accuracy'])\n",
    "    return model"
   ]
  },
  {
   "cell_type": "code",
   "execution_count": 132,
   "metadata": {
    "collapsed": true
   },
   "outputs": [],
   "source": [
    "def gen_seed(seqs=sequences):\n",
    "    seed_text = seqs[np.random.randint(0,len(seqs))]\n",
    "    while seed_text.all() == np.array([  0, 0,  0, 0, 0, 0, 0, 0, 0, 0]).all():\n",
    "        seed_text = seqs[np.random.randint(0,len(seqs))]\n",
    "    return seed_text"
   ]
  },
  {
   "cell_type": "code",
   "execution_count": 237,
   "metadata": {
    "collapsed": true
   },
   "outputs": [],
   "source": [
    "def generate_seq(model,\n",
    "                 tokenizer,\n",
    "                 seq_length,\n",
    "                 seqs=sequences,\n",
    "                 n_words=1000):\n",
    "    \n",
    "    seed_text = gen_seed()\n",
    "    start = [reverse_dict[index] for index in seed_text]\n",
    "    print('start: ', start)\n",
    "    \n",
    "    result = []\n",
    "    \n",
    "    for _ in range(n_words):\n",
    "        encoded = pad_sequences([seed_text], maxlen=seq_length, truncating='pre')\n",
    "        yhat = model.predict_classes(encoded, verbose=0)\n",
    "        if yhat == 0:\n",
    "            pass\n",
    "        else:\n",
    "            word = reverse_dict[yhat[0]]\n",
    "        seed_text = np.append(seed_text, yhat)\n",
    "        seed_text = seed_text[-10:]\n",
    "        result.append(word)\n",
    "    return ' '.join(result)"
   ]
  },
  {
   "cell_type": "code",
   "execution_count": null,
   "metadata": {
    "collapsed": true
   },
   "outputs": [],
   "source": []
  },
  {
   "cell_type": "code",
   "execution_count": null,
   "metadata": {
    "collapsed": true
   },
   "outputs": [],
   "source": []
  },
  {
   "cell_type": "code",
   "execution_count": null,
   "metadata": {
    "collapsed": true
   },
   "outputs": [],
   "source": []
  },
  {
   "cell_type": "code",
   "execution_count": null,
   "metadata": {
    "collapsed": true
   },
   "outputs": [],
   "source": []
  },
  {
   "cell_type": "code",
   "execution_count": null,
   "metadata": {
    "collapsed": true
   },
   "outputs": [],
   "source": []
  },
  {
   "cell_type": "code",
   "execution_count": 203,
   "metadata": {
    "collapsed": true
   },
   "outputs": [],
   "source": [
    "seq_length = 8\n",
    "\n",
    "data = load_data()\n",
    "\n",
    "data = data[:11]\n",
    "\n",
    "lyric_tokens = lyric_cleaner(data)\n",
    "\n",
    "list_of_songs = join_song_lyrics(lyric_tokens)\n",
    "\n",
    "encoded_songs, toke = tokenizer(list_of_songs=list_of_songs)\n",
    "\n",
    "vocab_size, reverse_dict = index_to_word(tokenizer=toke)\n",
    "\n",
    "longest_song_size = find_longest_song(encoded_songs=encoded_songs)\n",
    "\n",
    "padded_songs = pad_data(encoded_songs, max_length=longest_song_size)\n",
    "\n",
    "X, y = seqeuncer(padded_songs=padded_songs, length=seq_length)\n",
    "\n",
    "X = np.array(X)\n",
    "\n",
    "y = to_categorical(y)"
   ]
  },
  {
   "cell_type": "code",
   "execution_count": 204,
   "metadata": {},
   "outputs": [
    {
     "name": "stdout",
     "output_type": "stream",
     "text": [
      "Epoch 1/100\n",
      "5973/5973 [==============================] - 6s 1ms/step - loss: 4.1911 - acc: 0.5707\n",
      "Epoch 2/100\n",
      "5973/5973 [==============================] - 4s 674us/step - loss: 2.3816 - acc: 0.5826\n",
      "Epoch 3/100\n",
      "5973/5973 [==============================] - 5s 798us/step - loss: 2.2883 - acc: 0.5826\n",
      "Epoch 4/100\n",
      "5973/5973 [==============================] - 4s 706us/step - loss: 2.2340 - acc: 0.6134\n",
      "Epoch 5/100\n",
      "5973/5973 [==============================] - 4s 682us/step - loss: 2.1952 - acc: 0.6322\n",
      "Epoch 6/100\n",
      "5973/5973 [==============================] - 4s 643us/step - loss: 2.1571 - acc: 0.6352\n",
      "Epoch 7/100\n",
      "5973/5973 [==============================] - 4s 641us/step - loss: 2.1119 - acc: 0.6387\n",
      "Epoch 8/100\n",
      "5973/5973 [==============================] - 3s 440us/step - loss: 2.0739 - acc: 0.6362\n",
      "Epoch 9/100\n",
      "5973/5973 [==============================] - 4s 656us/step - loss: 2.0306 - acc: 0.6374\n",
      "Epoch 10/100\n",
      "5973/5973 [==============================] - 4s 629us/step - loss: 1.9985 - acc: 0.6412\n",
      "Epoch 11/100\n",
      "5973/5973 [==============================] - 4s 630us/step - loss: 1.9756 - acc: 0.6412\n",
      "Epoch 12/100\n",
      "5973/5973 [==============================] - 4s 647us/step - loss: 1.9530 - acc: 0.6404\n",
      "Epoch 13/100\n",
      "5973/5973 [==============================] - 4s 655us/step - loss: 1.9270 - acc: 0.6426\n",
      "Epoch 14/100\n",
      "5973/5973 [==============================] - 4s 624us/step - loss: 1.9105 - acc: 0.6444\n",
      "Epoch 15/100\n",
      "5973/5973 [==============================] - 4s 683us/step - loss: 1.8829 - acc: 0.6457\n",
      "Epoch 16/100\n",
      "5973/5973 [==============================] - 4s 723us/step - loss: 1.8532 - acc: 0.6488\n",
      "Epoch 17/100\n",
      "5973/5973 [==============================] - 4s 703us/step - loss: 1.8235 - acc: 0.6501\n",
      "Epoch 18/100\n",
      "5973/5973 [==============================] - 4s 687us/step - loss: 1.8041 - acc: 0.6506\n",
      "Epoch 19/100\n",
      "5973/5973 [==============================] - 4s 697us/step - loss: 1.7810 - acc: 0.6526\n",
      "Epoch 20/100\n",
      "5973/5973 [==============================] - 4s 655us/step - loss: 1.7548 - acc: 0.6524\n",
      "Epoch 21/100\n",
      "5973/5973 [==============================] - 4s 667us/step - loss: 1.7333 - acc: 0.6524\n",
      "Epoch 22/100\n",
      "5973/5973 [==============================] - 5s 775us/step - loss: 1.7116 - acc: 0.6539\n",
      "Epoch 23/100\n",
      "5973/5973 [==============================] - 4s 636us/step - loss: 1.6957 - acc: 0.6560\n",
      "Epoch 24/100\n",
      "5973/5973 [==============================] - 5s 914us/step - loss: 1.6716 - acc: 0.6578\n",
      "Epoch 25/100\n",
      "5973/5973 [==============================] - 4s 648us/step - loss: 1.6493 - acc: 0.6595\n",
      "Epoch 26/100\n",
      "5973/5973 [==============================] - 4s 630us/step - loss: 1.6284 - acc: 0.6581\n",
      "Epoch 27/100\n",
      "5973/5973 [==============================] - 4s 627us/step - loss: 1.6043 - acc: 0.6568\n",
      "Epoch 28/100\n",
      "5973/5973 [==============================] - 5s 840us/step - loss: 1.5939 - acc: 0.6606\n",
      "Epoch 29/100\n",
      "5973/5973 [==============================] - 4s 714us/step - loss: 1.5709 - acc: 0.6623\n",
      "Epoch 30/100\n",
      "5973/5973 [==============================] - 4s 711us/step - loss: 1.5516 - acc: 0.6615\n",
      "Epoch 31/100\n",
      "5973/5973 [==============================] - 4s 753us/step - loss: 1.5416 - acc: 0.6650\n",
      "Epoch 32/100\n",
      "5973/5973 [==============================] - 4s 639us/step - loss: 1.5292 - acc: 0.6655\n",
      "Epoch 33/100\n",
      "5973/5973 [==============================] - 4s 686us/step - loss: 1.4973 - acc: 0.6673\n",
      "Epoch 34/100\n",
      "5973/5973 [==============================] - 4s 638us/step - loss: 1.4662 - acc: 0.6698\n",
      "Epoch 35/100\n",
      "5973/5973 [==============================] - 4s 726us/step - loss: 1.4370 - acc: 0.6714\n",
      "Epoch 36/100\n",
      "5973/5973 [==============================] - 4s 661us/step - loss: 1.4201 - acc: 0.6747\n",
      "Epoch 37/100\n",
      "5973/5973 [==============================] - 4s 631us/step - loss: 1.3992 - acc: 0.6769\n",
      "Epoch 38/100\n",
      "5973/5973 [==============================] - 4s 730us/step - loss: 1.3757 - acc: 0.6796\n",
      "Epoch 39/100\n",
      "5973/5973 [==============================] - 4s 630us/step - loss: 1.3619 - acc: 0.6806\n",
      "Epoch 40/100\n",
      "5973/5973 [==============================] - 4s 713us/step - loss: 1.3570 - acc: 0.6797\n",
      "Epoch 41/100\n",
      "5973/5973 [==============================] - 4s 692us/step - loss: 1.3267 - acc: 0.6846\n",
      "Epoch 42/100\n",
      "5973/5973 [==============================] - 4s 698us/step - loss: 1.2827 - acc: 0.6908\n",
      "Epoch 43/100\n",
      "5973/5973 [==============================] - 4s 649us/step - loss: 1.2545 - acc: 0.6928\n",
      "Epoch 44/100\n",
      "5973/5973 [==============================] - 4s 713us/step - loss: 1.2431 - acc: 0.6933\n",
      "Epoch 45/100\n",
      "5973/5973 [==============================] - 4s 621us/step - loss: 1.2122 - acc: 0.7003\n",
      "Epoch 46/100\n",
      "5973/5973 [==============================] - 4s 615us/step - loss: 1.1849 - acc: 0.7033\n",
      "Epoch 47/100\n",
      "5973/5973 [==============================] - 4s 680us/step - loss: 1.1582 - acc: 0.7065\n",
      "Epoch 48/100\n",
      "5973/5973 [==============================] - 4s 616us/step - loss: 1.1298 - acc: 0.7105\n",
      "Epoch 49/100\n",
      "5973/5973 [==============================] - 5s 779us/step - loss: 1.1010 - acc: 0.7174\n",
      "Epoch 50/100\n",
      "5973/5973 [==============================] - 5s 765us/step - loss: 1.0823 - acc: 0.7171\n",
      "Epoch 51/100\n",
      "5973/5973 [==============================] - 4s 747us/step - loss: 1.0516 - acc: 0.7241\n",
      "Epoch 52/100\n",
      "5973/5973 [==============================] - 5s 864us/step - loss: 1.0268 - acc: 0.7278\n",
      "Epoch 53/100\n",
      "5973/5973 [==============================] - 5s 908us/step - loss: 1.0066 - acc: 0.7289\n",
      "Epoch 54/100\n",
      "5973/5973 [==============================] - 5s 874us/step - loss: 0.9783 - acc: 0.7380\n",
      "Epoch 55/100\n",
      "5973/5973 [==============================] - 5s 797us/step - loss: 0.9580 - acc: 0.7423\n",
      "Epoch 56/100\n",
      "5973/5973 [==============================] - 5s 795us/step - loss: 0.9113 - acc: 0.7514\n",
      "Epoch 57/100\n",
      "5973/5973 [==============================] - 5s 808us/step - loss: 0.8835 - acc: 0.7606 0s - loss: 0.8679 - acc:\n",
      "Epoch 58/100\n",
      "5973/5973 [==============================] - 6s 931us/step - loss: 0.8730 - acc: 0.7613\n",
      "Epoch 59/100\n",
      "5973/5973 [==============================] - 5s 819us/step - loss: 0.8475 - acc: 0.7683\n",
      "Epoch 60/100\n",
      "5973/5973 [==============================] - 5s 768us/step - loss: 0.8143 - acc: 0.7743\n",
      "Epoch 61/100\n",
      "5973/5973 [==============================] - 5s 767us/step - loss: 0.7833 - acc: 0.7825\n",
      "Epoch 62/100\n",
      "5973/5973 [==============================] - 5s 760us/step - loss: 0.7624 - acc: 0.7917\n",
      "Epoch 63/100\n",
      "5973/5973 [==============================] - 5s 781us/step - loss: 0.7337 - acc: 0.7973\n",
      "Epoch 64/100\n",
      "5973/5973 [==============================] - 5s 776us/step - loss: 0.7212 - acc: 0.8013\n",
      "Epoch 65/100\n",
      "5973/5973 [==============================] - 5s 777us/step - loss: 0.7053 - acc: 0.8034\n",
      "Epoch 66/100\n",
      "5973/5973 [==============================] - 5s 763us/step - loss: 0.7029 - acc: 0.8046\n",
      "Epoch 67/100\n",
      "5973/5973 [==============================] - 5s 813us/step - loss: 0.6824 - acc: 0.8061\n",
      "Epoch 68/100\n",
      "5973/5973 [==============================] - 4s 682us/step - loss: 0.6520 - acc: 0.8178\n",
      "Epoch 69/100\n",
      "5973/5973 [==============================] - 4s 614us/step - loss: 0.6146 - acc: 0.8304\n",
      "Epoch 70/100\n",
      "5973/5973 [==============================] - 4s 612us/step - loss: 0.5946 - acc: 0.8384\n",
      "Epoch 71/100\n",
      "5973/5973 [==============================] - 4s 608us/step - loss: 0.5778 - acc: 0.8394\n",
      "Epoch 72/100\n",
      "5973/5973 [==============================] - 4s 614us/step - loss: 0.5610 - acc: 0.8500\n",
      "Epoch 73/100\n",
      "5973/5973 [==============================] - 4s 622us/step - loss: 0.5421 - acc: 0.8528\n",
      "Epoch 74/100\n",
      "5973/5973 [==============================] - 4s 618us/step - loss: 0.5453 - acc: 0.8480\n",
      "Epoch 75/100\n",
      "5973/5973 [==============================] - 4s 615us/step - loss: 0.5156 - acc: 0.8627\n",
      "Epoch 76/100\n",
      "5973/5973 [==============================] - 4s 614us/step - loss: 0.4942 - acc: 0.8669\n",
      "Epoch 77/100\n",
      "5973/5973 [==============================] - 6s 961us/step - loss: 0.4617 - acc: 0.8761\n",
      "Epoch 78/100\n",
      "5973/5973 [==============================] - 6s 995us/step - loss: 0.4542 - acc: 0.8768\n",
      "Epoch 79/100\n",
      "5973/5973 [==============================] - 5s 828us/step - loss: 0.4373 - acc: 0.8821\n",
      "Epoch 80/100\n",
      "5973/5973 [==============================] - 5s 799us/step - loss: 0.4268 - acc: 0.8892\n",
      "Epoch 81/100\n",
      "5973/5973 [==============================] - 5s 805us/step - loss: 0.4173 - acc: 0.8902\n"
     ]
    },
    {
     "name": "stdout",
     "output_type": "stream",
     "text": [
      "Epoch 82/100\n",
      "5973/5973 [==============================] - 4s 752us/step - loss: 0.4014 - acc: 0.8939\n",
      "Epoch 83/100\n",
      "5973/5973 [==============================] - 5s 799us/step - loss: 0.3854 - acc: 0.8975\n",
      "Epoch 84/100\n",
      "5973/5973 [==============================] - 5s 757us/step - loss: 0.3745 - acc: 0.9032\n",
      "Epoch 85/100\n",
      "5973/5973 [==============================] - 4s 708us/step - loss: 0.3617 - acc: 0.9081\n",
      "Epoch 86/100\n",
      "5973/5973 [==============================] - 4s 653us/step - loss: 0.3525 - acc: 0.9096\n",
      "Epoch 87/100\n",
      "5973/5973 [==============================] - 4s 654us/step - loss: 0.3346 - acc: 0.9150\n",
      "Epoch 88/100\n",
      "5973/5973 [==============================] - 4s 636us/step - loss: 0.3158 - acc: 0.9208\n",
      "Epoch 89/100\n",
      "5973/5973 [==============================] - 5s 761us/step - loss: 0.3096 - acc: 0.9205\n",
      "Epoch 90/100\n",
      "5973/5973 [==============================] - 4s 628us/step - loss: 0.3022 - acc: 0.9248\n",
      "Epoch 91/100\n",
      "5973/5973 [==============================] - 4s 602us/step - loss: 0.2925 - acc: 0.9273\n",
      "Epoch 92/100\n",
      "5973/5973 [==============================] - 4s 656us/step - loss: 0.2753 - acc: 0.9315\n",
      "Epoch 93/100\n",
      "5973/5973 [==============================] - 4s 640us/step - loss: 0.2691 - acc: 0.9349\n",
      "Epoch 94/100\n",
      "5973/5973 [==============================] - 4s 632us/step - loss: 0.2675 - acc: 0.9327\n",
      "Epoch 95/100\n",
      "5973/5973 [==============================] - 4s 642us/step - loss: 0.2560 - acc: 0.9392\n",
      "Epoch 96/100\n",
      "5973/5973 [==============================] - 4s 618us/step - loss: 0.2467 - acc: 0.9411\n",
      "Epoch 97/100\n",
      "5973/5973 [==============================] - 4s 622us/step - loss: 0.2387 - acc: 0.9392\n",
      "Epoch 98/100\n",
      "5973/5973 [==============================] - 4s 695us/step - loss: 0.2158 - acc: 0.9518\n",
      "Epoch 99/100\n",
      "5973/5973 [==============================] - 5s 788us/step - loss: 0.2098 - acc: 0.9538\n",
      "Epoch 100/100\n",
      "5973/5973 [==============================] - 4s 746us/step - loss: 0.1983 - acc: 0.9548\n"
     ]
    },
    {
     "data": {
      "text/plain": [
       "<keras.callbacks.History at 0x14157d940>"
      ]
     },
     "execution_count": 204,
     "metadata": {},
     "output_type": "execute_result"
    }
   ],
   "source": [
    "nmh_model = establish_model(seq_length=8)\n",
    "\n",
    "nmh_model.fit(X, y, batch_size=128, epochs=100)"
   ]
  },
  {
   "cell_type": "code",
   "execution_count": 222,
   "metadata": {
    "collapsed": true
   },
   "outputs": [],
   "source": [
    "# save model\n",
    "nmh_model.save('nmh_seq_len_8_batch_size_128_epochs_100_padded.h5')"
   ]
  },
  {
   "cell_type": "code",
   "execution_count": null,
   "metadata": {
    "collapsed": true
   },
   "outputs": [],
   "source": []
  },
  {
   "cell_type": "code",
   "execution_count": null,
   "metadata": {
    "collapsed": true
   },
   "outputs": [],
   "source": []
  },
  {
   "cell_type": "code",
   "execution_count": null,
   "metadata": {
    "collapsed": true
   },
   "outputs": [],
   "source": []
  },
  {
   "cell_type": "code",
   "execution_count": 220,
   "metadata": {},
   "outputs": [
    {
     "name": "stdout",
     "output_type": "stream",
     "text": [
      "start:  ['her', 'side', 'eol', 'and', 'only', 'weeks', 'before', 'the', 'guns', 'eol']\n"
     ]
    },
    {
     "data": {
      "text/plain": [
       "'that came world others the miracle eol afraid that she a eol will on all your licking we sweet eol when room eol dark eol you and this all this heart off exist brother twist on im you at machine verse2 eol mean and eol of what hed on that you the eol and a cloud an eol sounding mother that we you you in in doorway need eol need the sweet find find secret found me love i eol eol eol but all curious we friends your time me dee dee dee dee dee eol eol shit goldaline my dear all we comforting weeks dad in eol eol memory right 1945 right memory her sister with pretty bright drunk didnt eol eol that away the find asleep with lose eol eol she drink little every and so warm white in eol cloud agree only and roses some one eyes leave de eol mean i everyone bends eol one we live and now never in would shes eol to with longer pistons were spit wanting drenched drenched when fleshy wait eol oh be buried til here cry love exist that struggle she please so side rest make life the learn eol verse2 comely guess all eol this this eol tomatoes heart your that eol signals eol that eol heart your as could lay have heart in the bend ovaries soul for the the secret with no longer one sleep eol scene inside dissolve remember bullets wings the god that that the eol you with place heart you found all screams push and as fingers eol and make we life mine let eol say what the everything sleep to eol boy they your where you bridges that others eol sweet some now through filled dark notches for for soft world world you all and the the the on your the for eol sweet rest circling and all eol alive eol eol when that theyll her and and all flash your of a shell until take eol where on we its bridges save teeth inside leave her we we for ovaries choking watch spain theyd eol eol right daddys theyd your all with his pretty loved theres with the moved to your all eol all only standing them eol eol your and still have filled drain reason eol eol sweet eol that begin rings the all love medicine we your your with others could mean sweet eol eol eol eol my we your you drain reason in eol world says that we her the outro eol lalalala eol all all there all all it voice tongue has again eol verse2 eol and how pistons will mother circus point mine she and eol and until a we wished a listening that to of we around all let us of eol and we we holy could to sing mother some you that street eol now will around i on i eol verse2 eol eol eol that her the and movements head in in in you eol for and was standing your on where you in eol eol inside until we over through drain rolling eol in eol music into and and daughter one myself again can eol verse2 eol up and day a and the radio ladies eol will dad eol alone theyll theyll placing in when bubbly terrible eol that rings and his me throw we the tomatoes live shell forever on on eol verse2 chorus eol eol all is and im through those chest to to eol eol eol where all all go will songs that street eol keep what we sings teeth the with king and push place eol the eol our now we begin your reason in eol sweet eol eol need the the have your her and in place can eol and it sleeps your your we what eol chorus chorus screen empty dark the your round round round for tonight on eol eol goldaline my dear all away the holy and in eol clouds my through from ways eol undertow make we safe cars to guess all clouds in you born bin fly that now will hundred and holes and a sheets wont only did sea snow what and we we eol chorus alive this on eol fingers eol world it was and life rolling could eol inside the eol eol eol is head we you in just miracle eol that need eol the eol moves movements have falls here eol eol boy dear i we we her christ eol i i place strings mine love eol say eol eol leaves eol know hang eol all holy and a your your your its to soft eol eol empty eol eol eol put you when it as awe your could eol ringed day dad and speakers will could freeze sheets across to mine me sun eol and and we white warm a cloud make to everything you mine to eol inside eol eol of anything its chest me eol eol lalalala lalalala lalalala the stains ear eol eol boy hang the be myself thing with mine and eol eol eol and eol only eol some head head for sank just screams eol that that and while high a make you your eol keep sweet to eol lay you me dee eol you eol you dear is and we believed you moving eol verse2 chorus and that and tomatoes fingers she move eol make eol drink float to at different eol black eol eol and will she he found falls they eol chorus eol eol they buried and when christmas in that eol eol and twist eol a on you that others inside mean eol says we sound the eol chorus eol dear all brother your you that you piece eol eol eol is sleeves of see are still chest young youd wait there me me eol me eol forever eol to and sun eol eol is and white sings to sea to eol spine eol the everything that others'"
      ]
     },
     "execution_count": 220,
     "metadata": {},
     "output_type": "execute_result"
    }
   ],
   "source": [
    "generate_seq(model=nmh_model, tokenizer=toke, seq_length=seq_length)"
   ]
  },
  {
   "cell_type": "code",
   "execution_count": 221,
   "metadata": {},
   "outputs": [
    {
     "name": "stdout",
     "output_type": "stream",
     "text": [
      "start:  ['over', 'the', 'sea', 'eol', 'but', 'for', 'now', 'we', 'are', 'young']\n"
     ]
    },
    {
     "data": {
      "text/plain": [
       "'eol let us lay eol the sun eol and and every and live green forever eol your mouth to now eol can for the as we to mean curious a all all we put you it proclaiming bubbly that keep inside eol to water to things with eol when ear eol headed eol boy some im night thing me eol eol two verse3 dont and eol only and them them and that eol needle where was still that when mine secrets eol keep needed you eyes you in the letting there miracles on the the three eol chorus eol your he sun your your for undertow eol the and would brother your when you weed until up to you the with with eol everything the who you me eol eol eol now just and where i chest dog sing in in more dad and to shoulder anything to learn eol to guess eol with eol in all exist brother her only only standing them it it in still have that well tap chorus while her in she moves little doesnt ill will with eol now move we your your swim eol later will eol than fell across again eol and on eol eol she all the eol that was with with myself bubbly when that sister to eol the he placing all falls hollow eol be alive eol and she she fork believe her a now shes little little some memory rattlesnakes eol be faces just christ eol in the were spirals high a and holy roses everything water fingers eol eol but lalalala eol your as semen under mountain outro eol me me lalalala lalalala la la la la lalalala lalalala lalalala la la la la lalalala lalalala lalalala la la la la lalalala lalalala lalalala la la la la lalalala lalalala lalalala la la la la lalalala lalalala lalalala la la la la lalalala lalalala lalalala la la la la lalalala lalalala lalalala la la la la lalalala lalalala lalalala la la la la lalalala lalalala lalalala la la la la lalalala lalalala lalalala la la la la lalalala lalalala lalalala la la la la lalalala lalalala lalalala la la la la lalalala lalalala lalalala la la la la lalalala lalalala lalalala la la la la lalalala lalalala lalalala la la la la lalalala lalalala lalalala la la la la lalalala lalalala lalalala la la la la lalalala lalalala lalalala la la la la lalalala lalalala lalalala la la la la lalalala lalalala lalalala la la la la lalalala lalalala lalalala la la la la lalalala lalalala lalalala la la la la lalalala lalalala lalalala la la la la lalalala lalalala lalalala la la la la lalalala lalalala lalalala la la la la lalalala lalalala lalalala la la la la lalalala lalalala lalalala la la la la lalalala lalalala lalalala la la la la lalalala lalalala lalalala la la la la lalalala lalalala lalalala la la la la lalalala lalalala lalalala la la la la lalalala lalalala lalalala la la la la lalalala lalalala lalalala la la la la lalalala lalalala lalalala la la la la lalalala lalalala lalalala la la la la lalalala lalalala lalalala la la la la lalalala lalalala lalalala la la la la lalalala lalalala lalalala la la la la lalalala lalalala lalalala la la la la lalalala lalalala lalalala la la la la lalalala lalalala lalalala la la la la lalalala lalalala lalalala la la la la lalalala lalalala lalalala la la la la lalalala lalalala lalalala la la la la lalalala lalalala lalalala la la la la lalalala lalalala lalalala la la la la lalalala lalalala lalalala la la la la lalalala lalalala lalalala la la la la lalalala lalalala lalalala la la la la lalalala lalalala lalalala la la la la lalalala lalalala lalalala la la la la lalalala lalalala lalalala la la la la lalalala lalalala lalalala la la la la lalalala lalalala lalalala la la la la lalalala lalalala lalalala la la la la lalalala lalalala lalalala la la la la lalalala lalalala lalalala la la la la lalalala lalalala lalalala la la la la lalalala lalalala lalalala la la la la lalalala lalalala lalalala la la la la lalalala lalalala lalalala la la la la lalalala lalalala lalalala la la la la lalalala lalalala lalalala la la la la lalalala lalalala lalalala la la la la lalalala lalalala lalalala la la la la lalalala lalalala lalalala la la la la lalalala lalalala lalalala la la la la lalalala lalalala lalalala la la la la lalalala lalalala lalalala la la la la lalalala lalalala lalalala la la la la lalalala lalalala lalalala la la la la lalalala lalalala lalalala la la la la lalalala lalalala lalalala la la la la lalalala lalalala lalalala la la la la lalalala lalalala lalalala la la la la lalalala lalalala lalalala la la la la lalalala lalalala lalalala la la la la lalalala lalalala lalalala la la la la lalalala lalalala lalalala la la la la lalalala lalalala lalalala la la la la lalalala lalalala lalalala la la la la lalalala lalalala lalalala la la la la lalalala lalalala lalalala la la la la lalalala lalalala lalalala la la la la lalalala lalalala lalalala la la la la lalalala lalalala lalalala la la la la lalalala lalalala lalalala la la la la lalalala lalalala lalalala la la la la lalalala lalalala lalalala la la la la lalalala lalalala lalalala la la la la lalalala lalalala lalalala la la la la lalalala lalalala lalalala la la la la lalalala lalalala lalalala la la la la lalalala lalalala lalalala la la la la lalalala lalalala lalalala la la la la lalalala lalalala lalalala la la la la lalalala lalalala lalalala la la la la lalalala lalalala lalalala la la la la lalalala lalalala lalalala la la la la lalalala lalalala lalalala la la la la lalalala lalalala lalalala la la la la lalalala lalalala lalalala la la la la lalalala lalalala lalalala la la la'"
      ]
     },
     "execution_count": 221,
     "metadata": {},
     "output_type": "execute_result"
    }
   ],
   "source": [
    "generate_seq(model=nmh_model, tokenizer=toke, seq_length=seq_length)"
   ]
  },
  {
   "cell_type": "code",
   "execution_count": null,
   "metadata": {
    "collapsed": true
   },
   "outputs": [],
   "source": []
  },
  {
   "cell_type": "code",
   "execution_count": 225,
   "metadata": {
    "collapsed": true
   },
   "outputs": [],
   "source": [
    "# with dropout"
   ]
  },
  {
   "cell_type": "code",
   "execution_count": 232,
   "metadata": {},
   "outputs": [
    {
     "name": "stdout",
     "output_type": "stream",
     "text": [
      "Epoch 1/100\n",
      "5973/5973 [==============================] - 7s 1ms/step - loss: 4.0521 - acc: 0.5665\n",
      "Epoch 2/100\n",
      "5973/5973 [==============================] - 4s 713us/step - loss: 2.3534 - acc: 0.5826\n",
      "Epoch 3/100\n",
      "5973/5973 [==============================] - 4s 715us/step - loss: 2.2720 - acc: 0.5830\n",
      "Epoch 4/100\n",
      "5973/5973 [==============================] - 5s 830us/step - loss: 2.2369 - acc: 0.6099\n",
      "Epoch 5/100\n",
      "5973/5973 [==============================] - 5s 773us/step - loss: 2.2004 - acc: 0.6325\n",
      "Epoch 6/100\n",
      "5973/5973 [==============================] - 5s 770us/step - loss: 2.1750 - acc: 0.6339\n",
      "Epoch 7/100\n",
      "5973/5973 [==============================] - 4s 662us/step - loss: 2.1472 - acc: 0.6355\n",
      "Epoch 8/100\n",
      "5973/5973 [==============================] - 4s 666us/step - loss: 2.1246 - acc: 0.6372\n",
      "Epoch 9/100\n",
      "5973/5973 [==============================] - 5s 840us/step - loss: 2.0988 - acc: 0.6374\n",
      "Epoch 10/100\n",
      "5973/5973 [==============================] - 4s 747us/step - loss: 2.0653 - acc: 0.6375\n",
      "Epoch 11/100\n",
      "5973/5973 [==============================] - 4s 729us/step - loss: 2.0350 - acc: 0.6379\n",
      "Epoch 12/100\n",
      "5973/5973 [==============================] - 4s 742us/step - loss: 2.0170 - acc: 0.6385\n",
      "Epoch 13/100\n",
      "5973/5973 [==============================] - 5s 800us/step - loss: 1.9932 - acc: 0.6394\n",
      "Epoch 14/100\n",
      "5973/5973 [==============================] - 5s 757us/step - loss: 1.9681 - acc: 0.6451\n",
      "Epoch 15/100\n",
      "5973/5973 [==============================] - 5s 898us/step - loss: 1.9440 - acc: 0.6439\n",
      "Epoch 16/100\n",
      "5973/5973 [==============================] - 4s 685us/step - loss: 1.9219 - acc: 0.6476\n",
      "Epoch 17/100\n",
      "5973/5973 [==============================] - 4s 682us/step - loss: 1.8991 - acc: 0.6451\n",
      "Epoch 18/100\n",
      "5973/5973 [==============================] - 4s 701us/step - loss: 1.8849 - acc: 0.6462\n",
      "Epoch 19/100\n",
      "5973/5973 [==============================] - 4s 701us/step - loss: 1.8659 - acc: 0.6462\n",
      "Epoch 20/100\n",
      "5973/5973 [==============================] - 4s 673us/step - loss: 1.8370 - acc: 0.6494\n",
      "Epoch 21/100\n",
      "5973/5973 [==============================] - 4s 666us/step - loss: 1.8194 - acc: 0.6498\n",
      "Epoch 22/100\n",
      "5973/5973 [==============================] - 4s 683us/step - loss: 1.8029 - acc: 0.6501\n",
      "Epoch 23/100\n",
      "5973/5973 [==============================] - 4s 694us/step - loss: 1.7863 - acc: 0.6501\n",
      "Epoch 24/100\n",
      "5973/5973 [==============================] - 4s 729us/step - loss: 1.7649 - acc: 0.6506\n",
      "Epoch 25/100\n",
      "5973/5973 [==============================] - 4s 648us/step - loss: 1.7382 - acc: 0.6538\n",
      "Epoch 26/100\n",
      "5973/5973 [==============================] - 4s 682us/step - loss: 1.7192 - acc: 0.6508\n",
      "Epoch 27/100\n",
      "5973/5973 [==============================] - 4s 707us/step - loss: 1.7023 - acc: 0.6521\n",
      "Epoch 28/100\n",
      "5973/5973 [==============================] - 4s 683us/step - loss: 1.6836 - acc: 0.6551\n",
      "Epoch 29/100\n",
      "5973/5973 [==============================] - 4s 723us/step - loss: 1.6572 - acc: 0.6536\n",
      "Epoch 30/100\n",
      "5973/5973 [==============================] - 4s 707us/step - loss: 1.6387 - acc: 0.6546\n",
      "Epoch 31/100\n",
      "5973/5973 [==============================] - 5s 780us/step - loss: 1.6416 - acc: 0.6561\n",
      "Epoch 32/100\n",
      "5973/5973 [==============================] - 4s 691us/step - loss: 1.6057 - acc: 0.6610\n",
      "Epoch 33/100\n",
      "5973/5973 [==============================] - 5s 803us/step - loss: 1.5867 - acc: 0.6590\n",
      "Epoch 34/100\n",
      "5973/5973 [==============================] - 4s 670us/step - loss: 1.5721 - acc: 0.6650\n",
      "Epoch 35/100\n",
      "5973/5973 [==============================] - 4s 655us/step - loss: 1.5432 - acc: 0.6680\n",
      "Epoch 36/100\n",
      "5973/5973 [==============================] - 4s 647us/step - loss: 1.5302 - acc: 0.6717\n",
      "Epoch 37/100\n",
      "5973/5973 [==============================] - 4s 651us/step - loss: 1.4967 - acc: 0.6717\n",
      "Epoch 38/100\n",
      "5973/5973 [==============================] - 4s 747us/step - loss: 1.4715 - acc: 0.6752\n",
      "Epoch 39/100\n",
      "5973/5973 [==============================] - 5s 815us/step - loss: 1.4520 - acc: 0.6775\n",
      "Epoch 40/100\n",
      "5973/5973 [==============================] - 5s 770us/step - loss: 1.4394 - acc: 0.6775\n",
      "Epoch 41/100\n",
      "5973/5973 [==============================] - 6s 932us/step - loss: 1.4161 - acc: 0.6787\n",
      "Epoch 42/100\n",
      "5973/5973 [==============================] - 4s 751us/step - loss: 1.3880 - acc: 0.6847\n",
      "Epoch 43/100\n",
      "5973/5973 [==============================] - 4s 677us/step - loss: 1.3708 - acc: 0.6847\n",
      "Epoch 44/100\n",
      "5973/5973 [==============================] - 4s 700us/step - loss: 1.3400 - acc: 0.6876\n",
      "Epoch 45/100\n",
      "5973/5973 [==============================] - 5s 828us/step - loss: 1.3291 - acc: 0.6906\n",
      "Epoch 46/100\n",
      "5973/5973 [==============================] - 4s 739us/step - loss: 1.3076 - acc: 0.6903\n",
      "Epoch 47/100\n",
      "5973/5973 [==============================] - 4s 683us/step - loss: 1.2783 - acc: 0.6938\n",
      "Epoch 48/100\n",
      "5973/5973 [==============================] - 5s 759us/step - loss: 1.2687 - acc: 0.6955\n",
      "Epoch 49/100\n",
      "5973/5973 [==============================] - 5s 837us/step - loss: 1.2530 - acc: 0.6936\n",
      "Epoch 50/100\n",
      "5973/5973 [==============================] - 5s 830us/step - loss: 1.2399 - acc: 0.6978\n",
      "Epoch 51/100\n",
      "5973/5973 [==============================] - 5s 852us/step - loss: 1.2174 - acc: 0.6995\n",
      "Epoch 52/100\n",
      "5973/5973 [==============================] - 4s 648us/step - loss: 1.1933 - acc: 0.7087\n",
      "Epoch 53/100\n",
      "5973/5973 [==============================] - 4s 661us/step - loss: 1.1776 - acc: 0.7070\n",
      "Epoch 54/100\n",
      "5973/5973 [==============================] - 4s 728us/step - loss: 1.1543 - acc: 0.7104\n",
      "Epoch 55/100\n",
      "5973/5973 [==============================] - 5s 778us/step - loss: 1.1404 - acc: 0.7110\n",
      "Epoch 56/100\n",
      "5973/5973 [==============================] - 5s 814us/step - loss: 1.1263 - acc: 0.7132\n",
      "Epoch 57/100\n",
      "5973/5973 [==============================] - 5s 789us/step - loss: 1.1150 - acc: 0.7154\n",
      "Epoch 58/100\n",
      "5973/5973 [==============================] - 4s 739us/step - loss: 1.0828 - acc: 0.7174\n",
      "Epoch 59/100\n",
      "5973/5973 [==============================] - 5s 799us/step - loss: 1.0727 - acc: 0.7176\n",
      "Epoch 60/100\n",
      "5973/5973 [==============================] - 6s 1ms/step - loss: 1.0625 - acc: 0.7226\n",
      "Epoch 61/100\n",
      "5973/5973 [==============================] - 5s 917us/step - loss: 1.0436 - acc: 0.7254\n",
      "Epoch 62/100\n",
      "5973/5973 [==============================] - 5s 876us/step - loss: 1.0216 - acc: 0.7244 1s - loss: 1.0275 \n",
      "Epoch 63/100\n",
      "5973/5973 [==============================] - 5s 814us/step - loss: 1.0092 - acc: 0.7283\n",
      "Epoch 64/100\n",
      "5973/5973 [==============================] - 5s 825us/step - loss: 0.9965 - acc: 0.7306\n",
      "Epoch 65/100\n",
      "5973/5973 [==============================] - 5s 825us/step - loss: 0.9740 - acc: 0.7343 1s - loss: 0.9703\n",
      "Epoch 66/100\n",
      "5973/5973 [==============================] - 5s 823us/step - loss: 0.9737 - acc: 0.7341\n",
      "Epoch 67/100\n",
      "5973/5973 [==============================] - 5s 825us/step - loss: 0.9508 - acc: 0.7378\n",
      "Epoch 68/100\n",
      "5973/5973 [==============================] - 5s 819us/step - loss: 0.9273 - acc: 0.7437\n",
      "Epoch 69/100\n",
      "5973/5973 [==============================] - 5s 831us/step - loss: 0.9231 - acc: 0.7432\n",
      "Epoch 70/100\n",
      "5973/5973 [==============================] - 5s 822us/step - loss: 0.9136 - acc: 0.7449\n",
      "Epoch 71/100\n",
      "5973/5973 [==============================] - 5s 821us/step - loss: 0.9020 - acc: 0.7487 1s - loss: 0.8843 - a\n",
      "Epoch 72/100\n",
      "5973/5973 [==============================] - 5s 846us/step - loss: 0.8835 - acc: 0.7522\n",
      "Epoch 73/100\n",
      "5973/5973 [==============================] - 5s 919us/step - loss: 0.8662 - acc: 0.7522\n",
      "Epoch 74/100\n",
      "5973/5973 [==============================] - 6s 933us/step - loss: 0.8498 - acc: 0.7567\n",
      "Epoch 75/100\n",
      "5973/5973 [==============================] - 5s 908us/step - loss: 0.8520 - acc: 0.7582\n",
      "Epoch 76/100\n",
      "5973/5973 [==============================] - 6s 1ms/step - loss: 0.8379 - acc: 0.7564\n",
      "Epoch 77/100\n",
      "5973/5973 [==============================] - 5s 881us/step - loss: 0.8133 - acc: 0.7648\n",
      "Epoch 78/100\n",
      "5973/5973 [==============================] - 5s 843us/step - loss: 0.8170 - acc: 0.7621\n",
      "Epoch 79/100\n",
      "5973/5973 [==============================] - 5s 871us/step - loss: 0.7901 - acc: 0.7725\n",
      "Epoch 80/100\n",
      "5973/5973 [==============================] - 5s 855us/step - loss: 0.7734 - acc: 0.7700\n",
      "Epoch 81/100\n",
      "5973/5973 [==============================] - 5s 797us/step - loss: 0.7783 - acc: 0.7705 0s - loss: 0.7741 - acc:\n",
      "Epoch 82/100\n",
      "5973/5973 [==============================] - 5s 793us/step - loss: 0.7542 - acc: 0.7813\n",
      "Epoch 83/100\n",
      "5973/5973 [==============================] - 5s 781us/step - loss: 0.7491 - acc: 0.7795\n",
      "Epoch 84/100\n",
      "5973/5973 [==============================] - 6s 921us/step - loss: 0.7420 - acc: 0.7860\n",
      "Epoch 85/100\n",
      "5973/5973 [==============================] - 6s 931us/step - loss: 0.7340 - acc: 0.7834\n",
      "Epoch 86/100\n",
      "5973/5973 [==============================] - 5s 897us/step - loss: 0.7070 - acc: 0.7884\n",
      "Epoch 87/100\n",
      "5973/5973 [==============================] - 5s 855us/step - loss: 0.7027 - acc: 0.7899\n",
      "Epoch 88/100\n",
      "5973/5973 [==============================] - 5s 889us/step - loss: 0.6961 - acc: 0.7880\n",
      "Epoch 89/100\n",
      "5973/5973 [==============================] - 5s 883us/step - loss: 0.6863 - acc: 0.7917\n",
      "Epoch 90/100\n",
      "5973/5973 [==============================] - 5s 857us/step - loss: 0.6641 - acc: 0.8036\n",
      "Epoch 91/100\n",
      "5973/5973 [==============================] - 5s 805us/step - loss: 0.6582 - acc: 0.8038 0s - loss: 0.6533 - acc: 0.8\n",
      "Epoch 92/100\n",
      "5973/5973 [==============================] - 5s 842us/step - loss: 0.6420 - acc: 0.8083\n",
      "Epoch 93/100\n",
      "5973/5973 [==============================] - 6s 975us/step - loss: 0.6610 - acc: 0.7998\n",
      "Epoch 94/100\n",
      "5973/5973 [==============================] - 5s 911us/step - loss: 0.6442 - acc: 0.8045\n",
      "Epoch 95/100\n",
      "5973/5973 [==============================] - 5s 802us/step - loss: 0.6118 - acc: 0.8152\n",
      "Epoch 96/100\n",
      "5973/5973 [==============================] - 5s 912us/step - loss: 0.6241 - acc: 0.8090\n",
      "Epoch 97/100\n",
      "5973/5973 [==============================] - 5s 866us/step - loss: 0.6180 - acc: 0.8112\n",
      "Epoch 98/100\n",
      "5973/5973 [==============================] - 5s 814us/step - loss: 0.6041 - acc: 0.8138\n",
      "Epoch 99/100\n",
      "5973/5973 [==============================] - 5s 855us/step - loss: 0.6134 - acc: 0.8105\n",
      "Epoch 100/100\n",
      "5973/5973 [==============================] - 5s 817us/step - loss: 0.5788 - acc: 0.8214\n"
     ]
    },
    {
     "data": {
      "text/plain": [
       "<keras.callbacks.History at 0x135c61c88>"
      ]
     },
     "execution_count": 232,
     "metadata": {},
     "output_type": "execute_result"
    }
   ],
   "source": [
    "nmh_model = establish_model(seq_length=8)\n",
    "\n",
    "nmh_model.fit(X, y, batch_size=128, epochs=100)"
   ]
  },
  {
   "cell_type": "code",
   "execution_count": 238,
   "metadata": {},
   "outputs": [
    {
     "name": "stdout",
     "output_type": "stream",
     "text": [
      "start:  ['dissolve', 'and', 'drain', 'away', 'eol', 'the', 'world', 'it', 'goes', 'eol']\n"
     ]
    },
    {
     "data": {
      "text/plain": [
       "'and always waits eol dark on round the sun eol her and i until voice time again eol soft now day and on a break how lay aimed you on on do eol verse3 eol up and and is found flowers the guess eol and lay there there on eol rest how swim eol bends music music the with watching eye away eol here spine eol on and and little across fist eol in i will girl sparks eol need glass eol signals ghost that sun eol what you pulleys to choking with with to with her at mine for me eol i was life your have we silly it is fly eol music music world had eol and choking sweetness hands loved loved bright across eol so out around many that i is within boy still eol that silly keep when keep carrot young eol ring black eol we hate pick enough every eol two for moving eol each dream keep thought i have eol jesus weed water tumbling from the knew eol i love like pull be out away eol standing know with they thing know want shoes eol creating eol creek fork about machine her two spine eol moving eol wave could see the pull eol your own eol two they enemies least circus hollow ways eol verse3 eol and in sounds played eol will will breaking eol save we thunderclouds you dance to chest part again eol verse4 eol two enemies i curious carrot believed in chest eol but now shit must lay gets up to mountain tops eol mountain tops eol sparkle am outro eol dee dee dee dee dee dee dee dee dee dee dee dee dee dee dee dee dee dee dee dee dee dee dee dee dee dee dee dee dee dee dee dee dee dee dee dee dee dee dee dee dee dee dee dee dee dee dee dee dee dee dee dee dee dee dee dee dee dee dee dee dee dee dee dee dee dee dee dee dee dee dee dee dee dee dee dee dee dee dee dee dee dee dee dee dee dee dee dee dee dee dee dee dee dee dee dee dee dee dee dee dee dee dee dee dee dee dee dee dee dee dee dee dee dee dee dee dee dee dee dee dee dee dee dee dee dee dee dee dee dee dee dee dee dee dee dee dee dee dee dee dee dee dee dee dee dee dee dee dee dee dee dee dee dee dee dee dee dee dee dee dee dee dee dee dee dee dee dee dee dee dee dee dee dee dee dee dee dee dee dee dee dee dee dee dee dee dee dee dee dee dee dee dee dee dee dee dee dee dee dee dee dee dee dee dee dee dee dee dee dee dee dee dee dee dee dee dee dee dee dee dee dee dee dee dee dee dee dee dee dee dee dee dee dee dee dee dee dee dee dee dee dee dee dee dee dee dee dee dee dee dee dee dee dee dee dee dee dee dee dee dee dee dee dee dee dee dee dee dee dee dee dee dee dee dee dee dee dee dee dee dee dee dee dee dee dee dee dee dee dee dee dee dee dee dee dee dee dee dee dee dee dee dee dee dee dee dee dee dee dee dee dee dee dee dee dee dee dee dee dee dee dee dee dee dee dee dee dee dee dee dee dee dee dee dee dee dee dee dee dee dee dee dee dee dee dee dee dee dee dee dee dee dee dee dee dee dee dee dee dee dee dee dee dee dee dee dee dee dee dee dee dee dee dee dee dee dee dee dee dee dee dee dee dee dee dee dee dee dee dee dee dee dee dee dee dee dee dee dee dee dee dee dee dee dee dee dee dee dee dee dee dee dee dee dee dee dee dee dee dee dee dee dee dee dee dee dee dee dee dee dee dee dee dee dee dee dee dee dee dee dee dee dee dee dee dee dee dee dee dee dee dee dee dee dee dee dee dee dee dee dee dee dee dee dee dee dee dee dee dee dee dee dee dee dee dee dee dee dee dee dee dee dee dee dee dee dee dee dee dee dee dee dee dee dee dee dee dee dee dee dee dee dee dee dee dee dee dee dee dee dee dee dee dee dee dee dee dee dee dee dee dee dee dee dee dee dee dee dee dee dee dee dee dee dee dee dee dee dee dee dee dee dee dee dee dee dee dee dee dee dee dee dee dee dee dee dee dee dee dee dee dee dee dee dee dee dee dee dee dee dee dee dee dee dee dee dee dee dee dee dee dee dee dee dee dee dee dee dee dee dee dee dee dee dee dee dee dee dee dee dee dee dee dee dee dee dee dee dee dee dee dee dee dee dee dee dee dee dee dee dee dee dee dee dee dee dee dee dee dee dee dee dee dee dee dee dee dee dee dee dee dee dee dee dee dee dee dee dee dee dee dee dee dee dee dee dee dee dee dee dee dee dee dee dee dee dee dee dee dee dee dee dee dee dee dee dee dee dee dee dee dee dee dee dee dee dee dee dee dee dee dee dee dee dee dee dee dee dee dee dee dee dee dee dee dee dee dee dee dee dee dee dee dee dee dee dee dee dee dee dee dee dee dee dee dee dee dee dee dee'"
      ]
     },
     "execution_count": 238,
     "metadata": {},
     "output_type": "execute_result"
    }
   ],
   "source": [
    "generate_seq(model=nmh_model, tokenizer=toke, seq_length=seq_length)"
   ]
  },
  {
   "cell_type": "code",
   "execution_count": 239,
   "metadata": {},
   "outputs": [
    {
     "name": "stdout",
     "output_type": "stream",
     "text": [
      "start:  ['breaking', 'eol', 'everything', 'that', 'you', 'could', 'keep', 'inside', 'eol', 'now']\n"
     ]
    },
    {
     "data": {
      "text/plain": [
       "'your eyes aint moving eol now they just lay there in their climb eol verse3 eol two headed boy eol there on child flame eol the world it every we carrot for ringing eol over eol her will a all you white no shoes to make to when hear when muscles here eol ovaries world sheets eol bursting say 14 once bubbly enough me eol but alive their machine bright all days eol let it listening to want shoes eol it it to played and bright accordion terrible border eol left only were fleshy sunday shoes eol same eol the sounds to sparks pistons pistons wanting aeroplane when life stains stains to me eol and sound the i lazy the that dogs dissolve eol with with where anything to dead be go eol but comely we their faces pick carrot others eol that now bring playing playing head know eol on on and on eol world on eol and mouth all in grieve eol proves place place place the marriage is all your heres i hear love eol i am day and love eol how others miracle eol and mouth is to he played holy you thunderclouds round the ringed to it to know for for eol moving eol there sound the music the guess eol soothing the wave round daughter eol and others all me eol dont hear will will her different on eol but now now we her will eol dont headed heres we reason body it dog eol bristling a ugly ugly ugly bursting bursting thats placing to wanting semen eol let flies eol am fleshy want you sleep eol in undertow eol i top herself burning was blister no one shoulder her eol chorus eol up and lay all afternoon that sound eol i headed headed strange boy eol sounds in eol as doesnt white a child were ago youre i love to friends comets for eol ring your of a sunday her eol love you your life until i mountain go eol how your miracles aimed for on eol verse3 eol catching the smile we fetuses tore in sleeps eol and a mouth in is your your have found until round eol there hear lay we enough mine mine eol let love hear no carrot shoes eol soft love you to anything daddys here eol jar eol now lay we comets even dont to boy you you daddys her eol but now one hes no sister face eol and she her find and knows eol one float one i on eol i how your rest hear of your awe i love eol let enemies i as itself tops eol oh oohh oh oohh oh eol oh eol oh eol oh least to semen climb eol cheek eol verse3 eol i curious lay pulleys fell eol theyll eol music beneath music cant watched music that only cant with night sunday different eol and and you eol marriage will voice see eol but made sits bring a sunday drunk semen tap semen i you chest that semen eol hang and we sweet eol i am enemies and hold secrets sleep eol all you until where better spring be circus all you say eol outro eol miracles aimed lalala lalala lalala lalala lalala lalala dee dee dee dee dee dee dee dee dee dee dee dee dee dee dee dee dee dee dee dee dee dee dee dee dee dee dee dee dee dee dee dee dee dee dee dee dee dee dee dee dee dee dee dee dee dee dee dee dee dee dee dee dee dee dee dee dee dee dee dee dee dee dee dee dee dee dee dee dee dee dee dee dee dee dee dee dee dee dee dee dee dee dee dee dee dee dee dee dee dee dee dee dee dee dee dee dee dee dee dee dee dee dee dee dee dee dee dee dee dee dee dee dee dee dee dee dee dee dee dee dee dee dee dee dee dee dee dee dee dee dee dee dee dee dee dee dee dee dee dee dee dee dee dee dee dee dee dee dee dee dee dee dee dee dee dee dee dee dee dee dee dee dee dee dee dee dee dee dee dee dee dee dee dee dee dee dee dee dee dee dee dee dee dee dee dee dee dee dee dee dee dee dee dee dee dee dee dee dee dee dee dee dee dee dee dee dee dee dee dee dee dee dee dee dee dee dee dee dee dee dee dee dee dee dee dee dee dee dee dee dee dee dee dee dee dee dee dee dee dee dee dee dee dee dee dee dee dee dee dee dee dee dee dee dee dee dee dee dee dee dee dee dee dee dee dee dee dee dee dee dee dee dee dee dee dee dee dee dee dee dee dee dee dee dee dee dee dee dee dee dee dee dee dee dee dee dee dee dee dee dee dee dee dee dee dee dee dee dee dee dee dee dee dee dee dee dee dee dee dee dee dee dee dee dee dee dee dee dee dee dee dee dee dee dee dee dee dee dee dee dee dee dee dee dee dee dee dee dee dee dee dee dee dee dee dee dee dee dee dee dee dee dee dee dee dee dee dee dee dee dee dee dee dee dee dee dee dee dee dee dee dee dee dee dee dee dee dee dee dee dee dee dee dee dee dee dee dee dee dee dee dee dee dee dee dee dee dee dee dee dee dee dee dee dee dee dee dee dee dee dee dee dee dee dee dee dee dee dee dee dee dee dee dee dee dee dee dee dee dee dee dee dee dee dee dee dee dee dee dee dee dee dee dee'"
      ]
     },
     "execution_count": 239,
     "metadata": {},
     "output_type": "execute_result"
    }
   ],
   "source": [
    "generate_seq(model=nmh_model, tokenizer=toke, seq_length=seq_length)"
   ]
  },
  {
   "cell_type": "code",
   "execution_count": 240,
   "metadata": {
    "collapsed": true
   },
   "outputs": [],
   "source": [
    "nmh_model.save('nmh_seq_len_8_batch_size_128_epochs_100_padded_two_dense100_two_lstm100_3dropout2.h5')"
   ]
  },
  {
   "cell_type": "code",
   "execution_count": null,
   "metadata": {
    "collapsed": true
   },
   "outputs": [],
   "source": []
  }
 ],
 "metadata": {
  "kernelspec": {
   "display_name": "Python 3",
   "language": "python",
   "name": "python3"
  },
  "language_info": {
   "codemirror_mode": {
    "name": "ipython",
    "version": 3
   },
   "file_extension": ".py",
   "mimetype": "text/x-python",
   "name": "python",
   "nbconvert_exporter": "python",
   "pygments_lexer": "ipython3",
   "version": "3.6.4"
  }
 },
 "nbformat": 4,
 "nbformat_minor": 2
}
