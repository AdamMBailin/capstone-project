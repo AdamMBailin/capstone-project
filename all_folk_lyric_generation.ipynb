{
 "cells": [
  {
   "cell_type": "code",
   "execution_count": 136,
   "metadata": {},
   "outputs": [],
   "source": [
    "import string\n",
    "from keras.preprocessing.text import Tokenizer\n",
    "from keras.preprocessing.sequence import pad_sequences\n",
    "import numpy as np\n",
    "from keras.utils import to_categorical\n",
    "from keras import models\n",
    "from keras import Sequential\n",
    "from keras.layers import Dense, LSTM, Embedding, Dropout\n",
    "from keras.callbacks import ModelCheckpoint\n",
    "import pickle\n",
    "import pandas as pd\n",
    "import collections\n",
    "from nltk.corpus import words"
   ]
  },
  {
   "cell_type": "code",
   "execution_count": 2,
   "metadata": {
    "collapsed": true
   },
   "outputs": [],
   "source": [
    "folk_model_1  = models.load_model('all_folk_model_weights/weights-improvement-01-5.6964.hdf5')\n",
    "folk_model_10 = models.load_model('all_folk_model_weights/weights-improvement-10-4.4159.hdf5')\n",
    "folk_model_25 = models.load_model('all_folk_model_weights/weights-improvement-25-4.0081.hdf5')\n",
    "folk_model_89 = models.load_model('all_folk_model_weights/weights-improvement-89-3.6083.hdf5')"
   ]
  },
  {
   "cell_type": "code",
   "execution_count": 151,
   "metadata": {
    "collapsed": true
   },
   "outputs": [],
   "source": [
    "def input_cleaner(text_in):\n",
    "    text_in = text_in.lower().replace(' n ', ' eol ').replace('[verse ', '[verse')\n",
    "    text_in = text_in.replace(\"'\", '').replace('-', ' ')\n",
    "    tokens = text_in.split()\n",
    "    table = str.maketrans('', '', string.punctuation)\n",
    "    tokens = [word.translate(table) for word in tokens]\n",
    "    return tokens\n",
    "\n",
    "\n",
    "\n",
    "def generate_seed_text_from_input():\n",
    "    \n",
    "    input_text = input('Type what you want here.')\n",
    "    \n",
    "    print('Rendering text as lyrics...')\n",
    "    \n",
    "    seed_text = input_cleaner(input_text)\n",
    "    \n",
    "    seed_text = [word_to_index[word] if word in word_to_index else word_to_index['unknown'] for word in seed_text]\n",
    "    \n",
    "    seed_text = pad_sequences([seed_text], maxlen=20, value=2500)\n",
    "    \n",
    "    return seed_text, input_text\n",
    "\n",
    "\n",
    "\n",
    "def generate_song_from_input(model, seq_length, reverse_dictionary, n_words, seed_text):\n",
    "    \n",
    "    print('Writing new song')\n",
    "    \n",
    "    result = []\n",
    "    \n",
    "    seed_text = np.squeeze(seed_text, axis=0)\n",
    "    \n",
    "    for _ in range(n_words):\n",
    "        in_text = np.expand_dims(seed_text, axis=0)\n",
    "#         yhat = model.predict_classes(in_text)\n",
    "        predict_prob = model.predict_proba(in_text)\n",
    "        yhat = np.random.choice(range(10001), 1, p=predict_prob[0])\n",
    "        if yhat == 10000:\n",
    "            word = words.words()[np.random.randint(0,len(words.words()))]\n",
    "        else:\n",
    "            word = reverse_dictionary[yhat[0]]\n",
    "        seed_text = np.append(seed_text, yhat)\n",
    "        seed_text = seed_text[-seq_length:]\n",
    "        result.append(word)\n",
    "           \n",
    "    return ' '.join(result)\n",
    "\n",
    "def generate_new_song(model):\n",
    "    seq_length = 20\n",
    "    reverse_dictionary = index_to_word\n",
    "    n_words = int(input('How many words?'))\n",
    "    \n",
    "    seed_text, input_text = generate_seed_text_from_input()\n",
    "    \n",
    "    lyrics = generate_song_from_input(model, seq_length, reverse_dictionary, n_words, seed_text)\n",
    "    \n",
    "    lyrics = lyrics.replace(' eol ', ' \\n ').replace(' eos ', ' \\n\\n\\n ')\n",
    "    \n",
    "    complete_song = input_text + '\\n' + lyrics\n",
    "    \n",
    "    print('New song finished!')\n",
    "    \n",
    "    return complete_song\n",
    "\n",
    "\n",
    "\n",
    "def generate_song_from_text_seed(model, seq_length, reverse_dictionary, n_words, seed_text):\n",
    "    \n",
    "    print('Writing new song')\n",
    "    \n",
    "    result = []\n",
    "    \n",
    "    for _ in range(n_words):\n",
    "        in_text = np.expand_dims(seed_text, axis=0)\n",
    "#         yhat = model.predict_classes(in_text)\n",
    "        predict_prob = model.predict_proba(in_text)\n",
    "        yhat = np.random.choice(range(10001), 1, p=predict_prob[0])\n",
    "        if yhat == 10000:\n",
    "            word = words.words()[np.random.randint(0,len(words.words()))]\n",
    "        else:\n",
    "            word = reverse_dictionary[yhat[0]]\n",
    "        seed_text = np.append(seed_text, yhat)\n",
    "        seed_text = seed_text[-seq_length:]\n",
    "        result.append(word)\n",
    "           \n",
    "    return ' '.join(result)\n",
    "\n",
    "\n",
    "\n",
    "def generate_new_song_from_text_seed(model):\n",
    "\n",
    "    seq_length = 20\n",
    "    reverse_dictionary = index_to_word\n",
    "    n_words = 500\n",
    "    seed_text = np.array([  138,    42, 10000,     5, 10000,     0,  3519,     3,    13,\n",
    "           5,     1,   910,     9,   555,    64, 10000,    16,     1,\n",
    "         742,     9])\n",
    "    \n",
    "    input_text = [index_to_word[word] for word in seed_text]\n",
    "    \n",
    "    input_text = ' '.join(input_text)\n",
    "    \n",
    "    lyrics = generate_song_from_text_seed(model, seq_length, reverse_dictionary, n_words, seed_text)\n",
    "    \n",
    "    lyrics = lyrics.replace('eol ', ' \\n ').replace(' eol', ' \\n ')\n",
    "    \n",
    "    lyrics = lyrics.replace(' eol ', ' \\n ').replace(' eos ', ' \\n\\n\\n ')\n",
    "    \n",
    "    complete_song = lyrics\n",
    "    \n",
    "    print('New song finished!')\n",
    "    \n",
    "    return input_text, complete_song"
   ]
  },
  {
   "cell_type": "code",
   "execution_count": null,
   "metadata": {
    "collapsed": true
   },
   "outputs": [],
   "source": [
    "models = [folk_model_1, folk_model_10, folk_model_25, folk_model_89]"
   ]
  },
  {
   "cell_type": "code",
   "execution_count": 138,
   "metadata": {},
   "outputs": [
    {
     "data": {
      "text/plain": [
       "'unknown'"
      ]
     },
     "execution_count": 138,
     "metadata": {},
     "output_type": "execute_result"
    }
   ],
   "source": [
    "index_to_word[10000]"
   ]
  },
  {
   "cell_type": "code",
   "execution_count": 154,
   "metadata": {},
   "outputs": [
    {
     "ename": "UnpicklingError",
     "evalue": "invalid load key, 'H'.",
     "output_type": "error",
     "traceback": [
      "\u001b[0;31m---------------------------------------------------------------------------\u001b[0m",
      "\u001b[0;31mUnpicklingError\u001b[0m                           Traceback (most recent call last)",
      "\u001b[0;32m<ipython-input-154-84a46c59f439>\u001b[0m in \u001b[0;36m<module>\u001b[0;34m()\u001b[0m\n\u001b[0;32m----> 1\u001b[0;31m \u001b[0mpickle\u001b[0m\u001b[0;34m.\u001b[0m\u001b[0mload\u001b[0m\u001b[0;34m(\u001b[0m\u001b[0mopen\u001b[0m\u001b[0;34m(\u001b[0m\u001b[0;34m'model_checkpoints/weights-improvement-01-5.8760.hdf5'\u001b[0m\u001b[0;34m,\u001b[0m \u001b[0;34m'rb'\u001b[0m\u001b[0;34m)\u001b[0m\u001b[0;34m)\u001b[0m\u001b[0;34m\u001b[0m\u001b[0m\n\u001b[0m",
      "\u001b[0;31mUnpicklingError\u001b[0m: invalid load key, 'H'."
     ]
    }
   ],
   "source": [
    "pickle.load(open('model_checkpoints/weights-improvement-01-5.8760.hdf5', 'rb'))"
   ]
  },
  {
   "cell_type": "code",
   "execution_count": 7,
   "metadata": {},
   "outputs": [],
   "source": [
    "word_to_index = pickle.load(open('all_folk_word_to_index.pkl', 'rb'))\n",
    "\n",
    "index_to_word = pickle.load(open('all_folk_index_to_word.pkl', 'rb'))"
   ]
  },
  {
   "cell_type": "code",
   "execution_count": 5,
   "metadata": {
    "collapsed": true
   },
   "outputs": [],
   "source": [
    "seed_text = ['It', 'was', 'a', 'white', 'crane', 'eos', 'It', 'was', 'a', 'helpless', 'thing']"
   ]
  },
  {
   "cell_type": "code",
   "execution_count": 10,
   "metadata": {},
   "outputs": [],
   "source": [
    "seed_text = np.array([  91,   76,  289,   96,   96,   50, 3139,    0,   43,    4, 1470,\n",
    "                   10,   74,    5, 2113, 3139,    0,   36,   34, 4894])"
   ]
  },
  {
   "cell_type": "code",
   "execution_count": null,
   "metadata": {},
   "outputs": [],
   "source": []
  },
  {
   "cell_type": "code",
   "execution_count": 134,
   "metadata": {},
   "outputs": [
    {
     "name": "stdout",
     "output_type": "stream",
     "text": [
      "Writing new song\n",
      "New song finished!\n"
     ]
    }
   ],
   "source": [
    "in_seed, song = generate_new_song_from_text_seed(folk_model_89)"
   ]
  },
  {
   "cell_type": "code",
   "execution_count": 135,
   "metadata": {},
   "outputs": [
    {
     "name": "stdout",
     "output_type": "stream",
     "text": [
      "him from unknown to unknown eol onward and on to the ends of reason where unknown is the means of\n",
      "the right \n",
      " oh where seen is hesitation \n",
      " when they smell your prayed tree \n",
      " find it all by your side \n",
      " see things is made it all my mind \n",
      " swim to you get out for name \n",
      " i’m at all the time youve heard \n",
      "\n",
      "\n",
      " help you wake up row see in my head \n",
      " leave you too come back back bring off i take so low \n",
      " its pretty tryin to come home \n",
      " until we were just always the last \n",
      "\n",
      "\n",
      " they were stoned to a wise day \n",
      " that lately im seventeen \n",
      " i will always feel times deep down to black brigade \n",
      " crying inside truth brother do not open too much old love too \n",
      " just a fact of enjoyableness you were an stomachfully to the beat out of rhyme \n",
      " well ninety water a song in white ladies midnight \n",
      " it was more young land \n",
      " it was mistle like they will stand in \n",
      " you gonna first up i looked to do \n",
      " but it seemed is a gastaldo while i figure up \n",
      " verse4 \n",
      " soffit cross the rear green \n",
      "\n",
      "\n",
      " give me its all alone \n",
      " im blinded and begorry \n",
      " building filling \n",
      " those pictures in my mind \n",
      " losing your fears \n",
      " seen me still \n",
      " all the war came \n",
      " you really am accused \n",
      " to make to get me under you when youre strong \n",
      " you were seeing cover of all \n",
      " brush \n",
      " thought is filled the spirits and the pew \n",
      " i dont want to gain and sleep stand with your name \n",
      " put it out i was some lord \n",
      "\n",
      "\n",
      " but it was the form of me \n",
      " a whisper with the sun is bruised \n",
      " and my escape heart \n",
      " i tossed you hear these twenty king of the place one is just wooden \n",
      " theyre been here on the hills and the way that green bright of us \n",
      " where the skin a mirror stood and alas the rivers \n",
      " where you called every night that we started to roam \n",
      " and i was chewing a sound and we paid this night \n",
      " the tide fucked a backs down she working in the rain \n",
      " on a second most for something all more \n",
      " an answer but ill make me hungry in your fright \n",
      " throw it home baby oh please come hold by our eyes out behind \n",
      " in my minds love love and falling back youre too easy \n",
      "\n",
      "\n",
      " we just will hold and twist in their car \n",
      " and a lonely mountain on here in the sea \n",
      " or if youre gonna drift around you all body breathing \n",
      " there are anything for the time \n",
      " hook \n",
      " instrumental \n",
      " god all things mean again \n",
      " we had to lay back on his mind \n",
      " if you loved coming outside beyond tight \n",
      " he lays under the kitchen song \n",
      " they got close by the sea\n"
     ]
    }
   ],
   "source": [
    "print(in_seed)\n",
    "print(song)"
   ]
  },
  {
   "cell_type": "code",
   "execution_count": 150,
   "metadata": {},
   "outputs": [
    {
     "name": "stdout",
     "output_type": "stream",
     "text": [
      "How many words?500\n",
      "Type what you want here.swag\n",
      "Rendering text as lyrics...\n",
      "Writing new song\n",
      "New song finished!\n",
      "swag\n",
      "eol \n",
      " eol i i dont dont dont why why i wont no when i \n",
      " is all one thing i can feel the hell so leave \n",
      "\n",
      "\n",
      " please let ol house and bone \n",
      " watched mud \n",
      " jimmy end nice up now \n",
      " admission \n",
      "\n",
      "\n",
      " he said the devil came across the garbage through the rain \n",
      " all the old heliolatrous undine dancing but with she has probably more around \n",
      " he hates to think an outlet for you \n",
      " and all of us grabbing of \n",
      " like lovers \n",
      " our oath \n",
      " just pool shines \n",
      " a shadow of the shadow will be one scene deep as a road \n",
      " children all ever lost the ugly \n",
      " i see beautiful this year \n",
      " still quiet on his heartbeat names \n",
      " ran on it grounds \n",
      " my hands said with a shiny stop \n",
      " but now once  silly pays to be freed \n",
      " and i could questions youll make magic easier i dont want to ever leave you sober and we didn’t care so cast the clubs who are born \n",
      " refrain \n",
      " oh in the healing life \n",
      " in its side of the dancing self two \n",
      " i could be hiding to south your own friends \n",
      "\n",
      "\n",
      " goodnight \n",
      " well my means said strange \n",
      " heart overhead on the wire \n",
      " he asked she made me stuck in a river \n",
      " in the payee an hour down \n",
      " i headed hands to her verse \n",
      " well you cant understand \n",
      " all the bitter through the lake \n",
      " verse2 \n",
      " shes a diamond in my codicilic jeans \n",
      " to enter fry soothing that fall sleeping for love to blizzard deep california and as you treated me from the shadows \n",
      " hes a pile of coffee and then i could only hear too \n",
      " as here in the rise of your cage to chase how i knew were the best fading fast bound \n",
      " and the undepravedness that may make you hang out \n",
      " where im tired from one another \n",
      " i can take no faith \n",
      " i think its so far down \n",
      " i last tapiroid theres one pentaspherical \n",
      " i kiss your back \n",
      " and if ever will hold \n",
      " la more long lonely \n",
      " will you love how ah about the moon \n",
      " and my fool has is a touch of leaving \n",
      " i live squark in the palm of my face \n",
      " all things be remind everything your father used to be \n",
      " chorus 3 \n",
      " again me \n",
      " verse4 \n",
      " theyll always float for he tattered a ride \n",
      " thinking in every heart that i love you \n",
      " well maybe later day loud \n",
      " my slender glissade found me away \n",
      " does he slipped his hand and i tried to see you doing the things i started on \n",
      " i could get what the back of my mind \n",
      " gather the words of well know \n",
      " let your last hands say so fast eol\n"
     ]
    }
   ],
   "source": [
    "print(generate_new_song(folk_model_89))"
   ]
  },
  {
   "cell_type": "code",
   "execution_count": 152,
   "metadata": {},
   "outputs": [
    {
     "name": "stdout",
     "output_type": "stream",
     "text": [
      "How many words?500\n",
      "Type what you want here.To my dear, dearest shayma, I love you\n",
      "Rendering text as lyrics...\n",
      "Writing new song\n",
      "New song finished!\n",
      "To my dear, dearest shayma, I love you\n",
      "displace solo of carissa \n",
      " ridding out of the bathtub out and like my heart in your time its a bride dream \n",
      " im yours i left loves me its god to be mean \n",
      " but its here i dont know \n",
      " that they wont know \n",
      " its not the word they you told \n",
      " i know youd like it to me \n",
      " i cant hear you with you \n",
      " verse1 \n",
      " there are nothing wrong just done was gone \n",
      " dont know how i feel a star \n",
      " check into heaven sleeping \n",
      " i stood in the road all cities to his feet \n",
      " breathing hands clinging to the leaves and easy \n",
      " and god piled aint through gold \n",
      " in the summer missing the tall skin of mind \n",
      " my hearts not caught up \n",
      " you can rise the river close i sink \n",
      " hook \n",
      " now ill be old \n",
      " i dont think of me for you \n",
      " verse2 \n",
      " and the summer wind seemed \n",
      "\n",
      "\n",
      " now claim i get out \n",
      " hes made not up \n",
      " i been seeing my teeth \n",
      " the hard face he said ive brought my hair away \n",
      " you gotta seek one desert singe up the trees \n",
      " theres a sister that that \n",
      " all the bars he burn \n",
      " down there to lie \n",
      " you reached the power \n",
      " above earths july \n",
      " it could praise each thirty smaller on the positivist of the day \n",
      " the but that she lives my backs all thin \n",
      " not to be the silvery death end \n",
      " colyonic bee can’t be say when we stand \n",
      " love always about me \n",
      " colors were water walks \n",
      " sinking unmulcted \n",
      " unhinged outmost \n",
      " thats coming low \n",
      " the movements below the lane \n",
      " how i worked the room off a razor \n",
      " i think i felt your name \n",
      " with the boss up watch me shine oh \n",
      " or pinned to never follow me i will all be gentle through night \n",
      " its the sweetest ive clipped white day pray that the sky broke \n",
      " rain to the hatch you took to this calling \n",
      " are you up too hard for trouble get tired \n",
      " and in the lion lair in your time \n",
      " i laid as my bass took tetrose runtishly \n",
      " theres a letter on the old logging kings \n",
      " come home again \n",
      " are want up herself \n",
      " and the bother rose \n",
      " downtown mutton street \n",
      " were no audience \n",
      " and if you are galloping \n",
      " the ropes and i saw my coffee \n",
      " i was ever not a while \n",
      " i never wanted to use as wagonette \n",
      " now were young as a bird of wing \n",
      " and city comes cross to me \n",
      " black and clear saturn \n",
      " steaming to play \n",
      " toward the perfect wrestling are wide \n",
      " this city beast is a friend \n",
      " ulteriorly stuck spent butch swept – girl \n",
      " things is real good\n"
     ]
    }
   ],
   "source": [
    "print(generate_new_song(folk_model_89))"
   ]
  },
  {
   "cell_type": "code",
   "execution_count": null,
   "metadata": {},
   "outputs": [],
   "source": []
  },
  {
   "cell_type": "code",
   "execution_count": 160,
   "metadata": {},
   "outputs": [
    {
     "data": {
      "text/plain": [
       "10000"
      ]
     },
     "execution_count": 160,
     "metadata": {},
     "output_type": "execute_result"
    }
   ],
   "source": [
    "len(index_to_word)"
   ]
  },
  {
   "cell_type": "code",
   "execution_count": 159,
   "metadata": {},
   "outputs": [
    {
     "data": {
      "text/plain": [
       "array([6177, 6520, 7721,  563, 3529, 3225, 5970, 3530, 8796, 1600, 8312,\n",
       "       1850, 1457, 5649, 8785, 8441, 6035, 1996,  951, 9471])"
      ]
     },
     "execution_count": 159,
     "metadata": {},
     "output_type": "execute_result"
    }
   ],
   "source": [
    "np.random.choice(range(10000), 20)"
   ]
  },
  {
   "cell_type": "code",
   "execution_count": null,
   "metadata": {
    "collapsed": true
   },
   "outputs": [],
   "source": []
  }
 ],
 "metadata": {
  "kernelspec": {
   "display_name": "Python 3",
   "language": "python",
   "name": "python3"
  },
  "language_info": {
   "codemirror_mode": {
    "name": "ipython",
    "version": 3
   },
   "file_extension": ".py",
   "mimetype": "text/x-python",
   "name": "python",
   "nbconvert_exporter": "python",
   "pygments_lexer": "ipython3",
   "version": "3.6.4"
  }
 },
 "nbformat": 4,
 "nbformat_minor": 2
}
