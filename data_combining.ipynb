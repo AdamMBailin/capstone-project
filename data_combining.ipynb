{
 "cells": [
  {
   "cell_type": "code",
   "execution_count": 7,
   "metadata": {
    "collapsed": true
   },
   "outputs": [],
   "source": [
    "import pandas as pd\n",
    "import numpy as np"
   ]
  },
  {
   "cell_type": "code",
   "execution_count": 12,
   "metadata": {
    "collapsed": true
   },
   "outputs": [],
   "source": [
    "def read_lyrics(file):\n",
    "    return pd.read_csv(file, sep='|', header=None, error_bad_lines=False)"
   ]
  },
  {
   "cell_type": "code",
   "execution_count": 13,
   "metadata": {},
   "outputs": [
    {
     "name": "stderr",
     "output_type": "stream",
     "text": [
      "b'Skipping line 1157: expected 9 fields, saw 10\\nSkipping line 1158: expected 9 fields, saw 10\\nSkipping line 1159: expected 9 fields, saw 10\\nSkipping line 1160: expected 9 fields, saw 10\\nSkipping line 1161: expected 9 fields, saw 10\\nSkipping line 1162: expected 9 fields, saw 10\\nSkipping line 1163: expected 9 fields, saw 10\\nSkipping line 1164: expected 9 fields, saw 10\\nSkipping line 1166: expected 9 fields, saw 17\\nSkipping line 1906: expected 9 fields, saw 10\\nSkipping line 7590: expected 9 fields, saw 10\\nSkipping line 7601: expected 9 fields, saw 89\\nSkipping line 12820: expected 9 fields, saw 15\\nSkipping line 12938: expected 9 fields, saw 51\\nSkipping line 13082: expected 9 fields, saw 14\\n'\n",
      "b'Skipping line 2237: expected 9 fields, saw 10\\n'\n",
      "b'Skipping line 12297: expected 9 fields, saw 19\\nSkipping line 18442: expected 9 fields, saw 11\\n'\n"
     ]
    }
   ],
   "source": [
    "alt_country_df       = read_lyrics('songs/alt_countrysong_lyrics.psv')\n",
    "alt_rock_df          = read_lyrics('songs/alt_rocksong_lyrics.psv')\n",
    "experimental_rock_df = read_lyrics('songs/experimental_rocksong_lyrics.psv')\n",
    "hip_hop_df           = read_lyrics('songs/hip_hipsong_lyrics.psv')\n",
    "pop_songs_df         = read_lyrics('songs/popsong_lyrics.psv')\n",
    "rock_songs_df        = read_lyrics('songs/Rocksong_lyrics.psv')"
   ]
  },
  {
   "cell_type": "code",
   "execution_count": 36,
   "metadata": {
    "collapsed": true
   },
   "outputs": [],
   "source": [
    "list_of_dfs = [alt_country_df, alt_rock_df, experimental_rock_df, hip_hop_df, pop_songs_df, rock_songs_df]\n",
    "list_of_names = ['alt_country', 'alt_rock', 'experimental_rock', 'hip_hop', 'pop_songs', 'rock_songs']"
   ]
  },
  {
   "cell_type": "code",
   "execution_count": 37,
   "metadata": {
    "collapsed": true
   },
   "outputs": [],
   "source": [
    "def is_genre(cell):\n",
    "    return 1"
   ]
  },
  {
   "cell_type": "code",
   "execution_count": 41,
   "metadata": {
    "collapsed": true
   },
   "outputs": [],
   "source": [
    "for count, df in enumerate(list_of_dfs):\n",
    "    name = list_of_names[count]\n",
    "    df['is_' + name] = df[3].apply(is_genre)"
   ]
  },
  {
   "cell_type": "code",
   "execution_count": 43,
   "metadata": {
    "collapsed": true
   },
   "outputs": [],
   "source": [
    "df1 = list_of_dfs[0]\n",
    "for next_df in list_of_dfs[1:]:\n",
    "    df1 = pd.concat((df1, next_df))"
   ]
  },
  {
   "cell_type": "code",
   "execution_count": 44,
   "metadata": {},
   "outputs": [
    {
     "data": {
      "text/plain": [
       "(48897, 15)"
      ]
     },
     "execution_count": 44,
     "metadata": {},
     "output_type": "execute_result"
    }
   ],
   "source": [
    "df1.shape"
   ]
  },
  {
   "cell_type": "code",
   "execution_count": 45,
   "metadata": {
    "collapsed": true
   },
   "outputs": [],
   "source": [
    "folk = read_lyrics('data/song_lyrics.psv')"
   ]
  },
  {
   "cell_type": "code",
   "execution_count": 46,
   "metadata": {
    "scrolled": true
   },
   "outputs": [
    {
     "data": {
      "text/plain": [
       "(5942, 12)"
      ]
     },
     "execution_count": 46,
     "metadata": {},
     "output_type": "execute_result"
    }
   ],
   "source": [
    "folk.shape"
   ]
  },
  {
   "cell_type": "code",
   "execution_count": null,
   "metadata": {
    "collapsed": true
   },
   "outputs": [],
   "source": []
  },
  {
   "cell_type": "code",
   "execution_count": 47,
   "metadata": {},
   "outputs": [
    {
     "name": "stderr",
     "output_type": "stream",
     "text": [
      "/anaconda3/lib/python3.6/site-packages/pandas/core/indexes/api.py:77: RuntimeWarning: '<' not supported between instances of 'int' and 'str', sort order is undefined for incomparable objects\n",
      "  result = result.union(other)\n"
     ]
    }
   ],
   "source": [
    "df = pd.concat((folk, df1))"
   ]
  },
  {
   "cell_type": "code",
   "execution_count": 50,
   "metadata": {
    "collapsed": true
   },
   "outputs": [],
   "source": [
    "df.fillna(0, inplace=True)"
   ]
  },
  {
   "cell_type": "code",
   "execution_count": 51,
   "metadata": {
    "collapsed": true
   },
   "outputs": [],
   "source": [
    "df.to_csv('all_songs.csv', index=False)"
   ]
  },
  {
   "cell_type": "code",
   "execution_count": null,
   "metadata": {
    "collapsed": true
   },
   "outputs": [],
   "source": []
  },
  {
   "cell_type": "code",
   "execution_count": 215,
   "metadata": {
    "collapsed": true
   },
   "outputs": [],
   "source": [
    "import sys\n",
    "from keras.models import Sequential\n",
    "from keras.layers import LSTM, Dense, TimeDistributed, Activation, Dropout\n",
    "from keras.utils import to_categorical\n",
    "from keras.preprocessing.sequence import pad_sequences\n",
    "from keras.callbacks import ModelCheckpoint\n",
    "import collections"
   ]
  },
  {
   "cell_type": "code",
   "execution_count": 166,
   "metadata": {},
   "outputs": [
    {
     "data": {
      "text/plain": [
       "0       [hook] n I've been to a minor place n And I ca...\n",
       "1       Today was one where, lost in thought n I reall...\n",
       "2       Well you're my friend n (That's what you told ...\n",
       "3       I like to have a good time n Any of my friends...\n",
       "4       I am here, right here n Where God puts non asu...\n",
       "5       Fire-burned and blew out flowers n Showing me ...\n",
       "6       Sing a song of madeleine-mary n A tune that al...\n",
       "7       Your little feet n Your sharp teeth n The way ...\n",
       "8       Tonight my eyes were hurting much n As I had s...\n",
       "9       Black, you are my enemy n And I cannot get clo...\n",
       "10      Darling n I can stay awake all night n And I w...\n",
       "11      [Verse 1] n When you were young, you were the ...\n",
       "12      Part Two n [Verse 1] n I love you, Jesus Chris...\n",
       "13      [Verse 1] n What a beautiful face n I have fou...\n",
       "14      [Verse 1] n Two headed boy n All floating in g...\n",
       "15                                         [Instrumental]\n",
       "16      [Verse 1] n The only girl I've ever loved n Wa...\n",
       "17      [Intro] n One n [Verse] n Sweet communist, the...\n",
       "18      [Verse 1] n Oh comely, I will be with you when...\n",
       "19      [Verse 1] n Ghost, ghost, I know you live with...\n",
       "20                                         [Instrumental]\n",
       "21      [Verse 1] n Daddy, please hear this song that ...\n",
       "22      Downtown n My darling dime store thief n In th...\n",
       "23      Rousseau walks on trumpet paths n Safaris to t...\n",
       "24      The big man arrives n Disco dancers greet him ...\n",
       "25      Don't interrupt the sorrow n Darn right n In f...\n",
       "26      Out of the fire like Catholic saints n Comes S...\n",
       "27      He bought her a diamond for her throat n He pu...\n",
       "28      Down in the cellar in the Boho zone n I went l...\n",
       "29      Heatwaves on the runway n As the wheels set do...\n",
       "                              ...                        \n",
       "5912    No one here n Believes in suicide n You can't ...\n",
       "5913    [Spoken:] n You alright? n Hmm n (Foreign lang...\n",
       "5914    [Verse 1] n A soft wise of [?] n In the air ho...\n",
       "5915    [Verse 1] n Ozzie Smith was born on my birthda...\n",
       "5916    [Verse 1] n Driftin’ pairs to my bedroom windo...\n",
       "5917    [Verse 1] n I’ll be with you right up until th...\n",
       "5918                                       [Instrumental]\n",
       "5919                                       [Instrumental]\n",
       "5920                                       [Instrumental]\n",
       "5921    [Chorus] n Behind the airport mirror n Masturb...\n",
       "5922    [Verse 1] n See him through the green field n ...\n",
       "5923    Before you know there’s goes his ghost again n...\n",
       "5924    Don’t tell me ten things that you know n Don’t...\n",
       "5925    Rain came down twelve-oh-one n New Year’s Eve ...\n",
       "5926    What do you want with my heart? n What do you ...\n",
       "5927    Clouds sweep down from the heavens to the whea...\n",
       "5928    This is the last time, this time I know I'm do...\n",
       "5929    [Instrumental] n [Verse 1] n You should blame ...\n",
       "5930    [Chorus] n You have amazing eyes n The right o...\n",
       "5931    Maybe tomorrow the storm will blow over n And ...\n",
       "5932    CHORUS: n That's the last I'll compromise n Be...\n",
       "5933    Walking into the night n I would take nothing ...\n",
       "5934    When you're at the top n You put yourself abov...\n",
       "5935    I look away and you're gone n Less than a day ...\n",
       "5936    How long How long n Can you keep it going? n Y...\n",
       "5937    CHORUS: n If you love me n Don't you let me go...\n",
       "5938    Pain, pain isn't everything n I'm not into suf...\n",
       "5939    I won't be running away n I know how it looks ...\n",
       "5940    Dreaming of her eyes n We pretend there's so m...\n",
       "5941    [Intro] n [Verse 1] n There’s a man at home nu...\n",
       "Name: 7, Length: 5942, dtype: object"
      ]
     },
     "execution_count": 166,
     "metadata": {},
     "output_type": "execute_result"
    }
   ],
   "source": [
    "folk[7]"
   ]
  },
  {
   "cell_type": "code",
   "execution_count": 168,
   "metadata": {
    "collapsed": true,
    "scrolled": true
   },
   "outputs": [],
   "source": [
    "longest = 0\n",
    "for line in nmh_lyrics[0]:\n",
    "    if len(line.split()) > longest:\n",
    "        longest = len(line.split())"
   ]
  },
  {
   "cell_type": "code",
   "execution_count": 169,
   "metadata": {},
   "outputs": [
    {
     "data": {
      "text/plain": [
       "17"
      ]
     },
     "execution_count": 169,
     "metadata": {},
     "output_type": "execute_result"
    }
   ],
   "source": []
  },
  {
   "cell_type": "code",
   "execution_count": null,
   "metadata": {
    "collapsed": true
   },
   "outputs": [],
   "source": []
  },
  {
   "cell_type": "code",
   "execution_count": null,
   "metadata": {
    "collapsed": true
   },
   "outputs": [],
   "source": []
  },
  {
   "cell_type": "code",
   "execution_count": 62,
   "metadata": {
    "collapsed": true
   },
   "outputs": [],
   "source": [
    "nmh_lyrics = pd.read_table('nmh_lyrics.txt', header=None)"
   ]
  },
  {
   "cell_type": "code",
   "execution_count": 171,
   "metadata": {
    "collapsed": true
   },
   "outputs": [],
   "source": [
    "data = []\n",
    "\n",
    "for line in nmh_lyrics[0]:\n",
    "    x = ((line.lower() + '<eos>').split())\n",
    "    for word in x:\n",
    "        data.append(word)\n",
    "\n",
    "counter = collections.Counter(data)\n",
    "\n",
    "count_paris = sorted(counter.items(), key=lambda x: (-x[1], x[0]))\n",
    "\n",
    "words, counts = list(zip(*count_paris))\n",
    "\n",
    "word_to_id = dict(zip(words, range(len(words))))\n",
    "\n",
    "word_to_vec = [word_to_id[word] if word in word_to_id else word_to_id['unknown'] for word in data]\n",
    "\n",
    "reverse_dict = dict(zip(range(len(words)), words))"
   ]
  },
  {
   "cell_type": "code",
   "execution_count": 194,
   "metadata": {
    "collapsed": true
   },
   "outputs": [],
   "source": [
    "n_vocab = len(word_to_id)"
   ]
  },
  {
   "cell_type": "code",
   "execution_count": 296,
   "metadata": {},
   "outputs": [
    {
     "data": {
      "text/plain": [
       "[42, 0, 29, 7, 51, 668, 7, 51, 2, 476, 15, 359, 144, 0, 1, 37, 7, 351, 11, 640]"
      ]
     },
     "execution_count": 296,
     "metadata": {},
     "output_type": "execute_result"
    }
   ],
   "source": [
    "dataX[1]"
   ]
  },
  {
   "cell_type": "code",
   "execution_count": 304,
   "metadata": {
    "collapsed": true
   },
   "outputs": [],
   "source": [
    "X = np.zeros((n_patterns, seq_length, n_vocab), dtype=np.bool)\n",
    "y = np.zeros((n_patterns, n_vocab), dtype=np.bool)\n",
    "\n",
    "for i, sentence in enumerate(dataX):\n",
    "    for t, word in enumerate(sentence):\n",
    "        X[i, t, word] = 1\n",
    "    y[i, word] = 1"
   ]
  },
  {
   "cell_type": "code",
   "execution_count": 311,
   "metadata": {
    "collapsed": true
   },
   "outputs": [],
   "source": [
    "model_0 = Sequential()\n",
    "model_0.add(LSTM(512, return_sequences=True, input_shape=(seq_length, n_vocab)))\n",
    "model_0.add(Dropout(0.2))\n",
    "model_0.add(LSTM(512, return_sequences=False))\n",
    "model_0.add(Dropout(0.2))\n",
    "model_0.add(Dense(len(words)))\n",
    "#model.add(Dense(1000))\n",
    "model_0.add(Activation('softmax'))\n",
    "\n",
    "model_0.compile(loss='categorical_crossentropy', optimizer='rmsprop')"
   ]
  },
  {
   "cell_type": "code",
   "execution_count": 313,
   "metadata": {},
   "outputs": [
    {
     "name": "stdout",
     "output_type": "stream",
     "text": [
      "Epoch 1/20\n",
      "2519/2519 [==============================] - 52s 20ms/step - loss: 5.8090\n",
      "Epoch 2/20\n",
      "2519/2519 [==============================] - 48s 19ms/step - loss: 5.4257\n",
      "Epoch 3/20\n",
      "2519/2519 [==============================] - 51s 20ms/step - loss: 5.4018\n",
      "Epoch 4/20\n",
      "2519/2519 [==============================] - 55s 22ms/step - loss: 5.3087\n",
      "Epoch 5/20\n",
      "2519/2519 [==============================] - 49s 19ms/step - loss: 5.2217\n",
      "Epoch 6/20\n",
      "2519/2519 [==============================] - 48s 19ms/step - loss: 5.0233\n",
      "Epoch 7/20\n",
      "2519/2519 [==============================] - 54s 21ms/step - loss: 4.8431\n",
      "Epoch 8/20\n",
      "2519/2519 [==============================] - 49s 19ms/step - loss: 4.7970\n",
      "Epoch 9/20\n",
      "2519/2519 [==============================] - 48s 19ms/step - loss: 4.5731\n",
      "Epoch 10/20\n",
      "2519/2519 [==============================] - 56s 22ms/step - loss: 4.4187\n",
      "Epoch 11/20\n",
      "2519/2519 [==============================] - 51s 20ms/step - loss: 4.2697\n",
      "Epoch 12/20\n",
      "2519/2519 [==============================] - 53s 21ms/step - loss: 4.1347\n",
      "Epoch 13/20\n",
      "2519/2519 [==============================] - 56s 22ms/step - loss: 3.9886\n",
      "Epoch 14/20\n",
      "2519/2519 [==============================] - 61s 24ms/step - loss: 3.8488\n",
      "Epoch 15/20\n",
      "2519/2519 [==============================] - 81s 32ms/step - loss: 3.6922\n",
      "Epoch 16/20\n",
      "2519/2519 [==============================] - 68s 27ms/step - loss: 3.5424\n",
      "Epoch 17/20\n",
      "2519/2519 [==============================] - 66s 26ms/step - loss: 3.3752\n",
      "Epoch 18/20\n",
      "2519/2519 [==============================] - 64s 26ms/step - loss: 3.2330\n",
      "Epoch 19/20\n",
      "2519/2519 [==============================] - 70s 28ms/step - loss: 3.0786\n",
      "Epoch 20/20\n",
      "2519/2519 [==============================] - 74s 30ms/step - loss: 2.9065\n"
     ]
    },
    {
     "data": {
      "text/plain": [
       "<keras.callbacks.History at 0x14ca03dd8>"
      ]
     },
     "execution_count": 313,
     "metadata": {},
     "output_type": "execute_result"
    }
   ],
   "source": [
    "model_0.fit(X, y, batch_size=64, epochs=20)"
   ]
  },
  {
   "cell_type": "code",
   "execution_count": 319,
   "metadata": {},
   "outputs": [
    {
     "data": {
      "text/plain": [
       "[500,\n",
       " 129,\n",
       " 411,\n",
       " 16,\n",
       " 4,\n",
       " 319,\n",
       " 6,\n",
       " 24,\n",
       " 0,\n",
       " 38,\n",
       " 400,\n",
       " 113,\n",
       " 182,\n",
       " 61,\n",
       " 9,\n",
       " 0,\n",
       " 12,\n",
       " 43,\n",
       " 0,\n",
       " 84]"
      ]
     },
     "execution_count": 319,
     "metadata": {},
     "output_type": "execute_result"
    }
   ],
   "source": [
    "word_to_vec[start : start + seq_length]"
   ]
  },
  {
   "cell_type": "code",
   "execution_count": 321,
   "metadata": {},
   "outputs": [
    {
     "data": {
      "text/plain": [
       "array([[[False, False, False, ..., False, False, False],\n",
       "        [False, False, False, ..., False, False, False],\n",
       "        [False, False, False, ..., False, False, False],\n",
       "        ...,\n",
       "        [False, False, False, ..., False, False, False],\n",
       "        [ True, False, False, ..., False, False, False],\n",
       "        [False, False, False, ..., False, False, False]]])"
      ]
     },
     "execution_count": 321,
     "metadata": {},
     "output_type": "execute_result"
    }
   ],
   "source": [
    "X"
   ]
  },
  {
   "cell_type": "code",
   "execution_count": null,
   "metadata": {
    "collapsed": true
   },
   "outputs": [],
   "source": [
    "np.random.multinomial()"
   ]
  },
  {
   "cell_type": "code",
   "execution_count": 463,
   "metadata": {
    "collapsed": true
   },
   "outputs": [],
   "source": [
    "def sample(a, temperature=1.0):\n",
    "    # helper function to sample an index from a probability array\n",
    "    a = np.log(a) / temperature \n",
    "    dist = np.exp(a)/np.sum(np.exp(a))\n",
    "    choices = range(len(a))\n",
    "    return np.random.choice(choices, p=dist)"
   ]
  },
  {
   "cell_type": "code",
   "execution_count": 417,
   "metadata": {},
   "outputs": [
    {
     "data": {
      "text/plain": [
       "0.8"
      ]
     },
     "execution_count": 417,
     "metadata": {},
     "output_type": "execute_result"
    }
   ],
   "source": [
    "diversity"
   ]
  },
  {
   "cell_type": "code",
   "execution_count": 464,
   "metadata": {},
   "outputs": [
    {
     "data": {
      "text/plain": [
       "16"
      ]
     },
     "execution_count": 464,
     "metadata": {},
     "output_type": "execute_result"
    }
   ],
   "source": [
    "sample(prediction, diversity)"
   ]
  },
  {
   "cell_type": "code",
   "execution_count": 465,
   "metadata": {
    "collapsed": true
   },
   "outputs": [],
   "source": [
    "a = np.log(prediction) / 0.5"
   ]
  },
  {
   "cell_type": "code",
   "execution_count": 466,
   "metadata": {},
   "outputs": [
    {
     "data": {
      "text/plain": [
       "array([6.53131690e-04, 5.55962979e-05, 9.02604071e-08, 3.86624288e-06,\n",
       "       5.30146508e-07, 7.02805468e-04, 7.17938086e-03, 8.40821955e-03,\n",
       "       2.56992585e-04, 1.97417159e-02, 2.16304846e-02, 3.09778952e-05,\n",
       "       7.87159879e-05, 6.61110831e-03, 1.54129963e-03, 4.44625365e-03,\n",
       "       7.12144226e-02, 1.20266880e-10, 2.19411158e-05, 8.03195894e-01,\n",
       "       1.01471981e-02, 3.33660835e-04, 3.08025996e-08, 1.29190274e-03,\n",
       "       1.54217158e-03, 3.35111167e-06, 7.65299701e-05, 4.70081065e-03,\n",
       "       1.16665710e-09, 2.74047488e-05, 1.67125722e-06, 2.47383285e-02,\n",
       "       2.30033681e-09, 6.02489490e-06, 2.24850117e-03, 5.45946423e-05,\n",
       "       6.65408395e-10, 1.53375618e-06, 4.12991783e-03, 1.44990736e-06,\n",
       "       1.49358530e-05, 1.20103417e-03, 1.58571683e-13, 4.09333373e-15,\n",
       "       5.07414134e-16, 3.32181284e-04, 1.39484030e-07, 7.15201995e-11,\n",
       "       8.96081986e-07, 1.33885888e-11, 1.10832634e-05, 9.04682849e-04,\n",
       "       1.96313849e-07, 5.15196065e-04, 1.01146470e-05, 2.35795161e-10,\n",
       "       5.45336650e-14, 2.95548034e-07, 4.92056751e-09, 7.97057749e-15,\n",
       "       2.40858295e-04, 5.94423145e-05, 5.70131355e-08, 2.31675571e-17,\n",
       "       1.07666926e-06, 7.50283724e-10, 1.62518500e-05, 3.51272843e-06,\n",
       "       1.30125921e-09, 2.75048505e-14, 7.24759417e-08, 7.57783637e-05,\n",
       "       1.23850687e-03, 2.61252899e-05, 2.31449556e-16, 1.17192826e-07,\n",
       "       2.09669904e-09, 1.83697724e-10, 7.40874702e-06, 1.39474121e-08,\n",
       "       1.53975532e-09, 2.93719671e-09, 6.32343608e-06, 1.26540911e-09,\n",
       "       2.20988627e-11, 9.04596504e-08, 3.48623835e-05, 4.34005898e-09,\n",
       "       3.28134147e-15, 3.78261049e-08, 5.44588641e-09, 3.49101924e-07,\n",
       "       3.13705641e-07, 9.90214761e-16, 8.40025338e-16, 1.31073028e-16,\n",
       "       4.56832709e-07, 1.31367264e-10, 3.11978638e-08, 2.64069399e-07,\n",
       "       1.81888588e-10, 2.82277868e-09, 5.63900903e-06, 1.00243808e-14,\n",
       "       2.48237650e-12, 1.26178736e-06, 4.89600915e-10, 3.68537462e-14,\n",
       "       5.99108204e-16, 4.74432090e-06, 5.09267117e-08, 1.19372544e-15,\n",
       "       1.01409690e-12, 5.41304501e-10, 5.68929506e-13, 4.80173449e-17,\n",
       "       2.13677296e-16, 1.84905639e-13, 3.34912327e-16, 5.35486863e-11,\n",
       "       5.14062959e-11, 2.09950965e-15, 7.76577735e-09, 5.99833285e-08,\n",
       "       1.31653575e-12, 7.81925369e-09, 3.90745036e-08, 1.01403681e-16,\n",
       "       5.72041074e-07, 1.65515332e-04, 5.52119559e-07, 1.37717018e-06,\n",
       "       3.20749677e-06, 2.93879782e-10, 1.05207583e-07, 8.04543151e-12,\n",
       "       6.44216939e-13, 1.19147037e-09, 6.92743196e-10, 6.77279738e-13,\n",
       "       3.12227771e-10, 1.03572347e-05, 3.46652601e-16, 7.17103489e-07,\n",
       "       2.97559533e-10, 1.17198237e-10, 1.17953778e-06, 1.61566156e-08,\n",
       "       5.94641005e-16, 2.77975754e-09, 3.90805357e-12, 6.83079157e-12,\n",
       "       6.16826036e-15, 2.74231999e-13, 2.99115421e-09, 1.55643497e-13,\n",
       "       7.48473106e-09, 1.16136519e-11, 3.53681971e-12, 4.83589668e-10,\n",
       "       4.12177598e-10, 1.32700734e-06, 5.59613559e-17, 4.26373939e-15,\n",
       "       1.26735705e-11, 3.75023970e-12, 6.13102776e-16, 3.94226214e-11,\n",
       "       9.27269195e-09, 1.46531121e-11, 9.63975655e-09, 3.21042080e-07,\n",
       "       2.37636383e-10, 1.84695054e-11, 3.00354275e-09, 4.62849253e-15,\n",
       "       6.17190778e-08, 4.41347750e-13, 4.00196001e-08, 2.65163358e-09,\n",
       "       9.78004550e-07, 8.27387289e-15, 1.01331983e-08, 2.47971621e-09,\n",
       "       7.84675880e-09, 1.98896770e-14, 5.32851374e-10, 1.12564136e-09,\n",
       "       3.15605508e-16, 1.43076901e-08, 9.78230410e-16, 2.68463652e-16,\n",
       "       2.85231330e-16, 1.89183478e-08, 5.04315305e-11, 7.81582373e-13,\n",
       "       3.55182724e-12, 8.00149409e-16, 7.92001187e-10, 6.74819714e-16,\n",
       "       8.81117332e-11, 3.69073113e-16, 3.03138714e-09, 1.01287624e-10,\n",
       "       1.17026126e-12, 2.80368034e-10, 1.56443088e-11, 3.26536161e-13,\n",
       "       4.08460731e-11, 1.70261075e-07, 4.24221036e-15, 5.58567308e-06,\n",
       "       1.74330009e-10, 2.56651339e-10, 5.17637187e-16, 3.49431629e-11,\n",
       "       3.93169663e-11, 9.72251790e-09, 3.83125674e-17, 1.62832131e-15,\n",
       "       4.51145333e-15, 5.63899266e-06, 5.92246003e-08, 1.00858998e-15,\n",
       "       1.83537111e-16, 6.33743783e-15, 1.32231150e-08, 1.56098374e-13,\n",
       "       3.64013290e-14, 1.90416571e-11, 4.16542851e-16, 1.39873009e-07,\n",
       "       7.16091977e-11, 6.08457266e-15, 2.81487995e-13, 9.34137663e-12,\n",
       "       1.27425301e-11, 1.08095688e-09, 6.00066770e-08, 5.26709969e-13,\n",
       "       1.50468509e-11, 5.28618386e-16, 2.34475597e-15, 1.08276063e-16,\n",
       "       6.90730184e-09, 1.07846397e-07, 3.25860649e-12, 9.02130124e-17,\n",
       "       1.00558911e-16, 3.48608364e-06, 2.06415521e-07, 8.75117134e-09,\n",
       "       4.44162083e-07, 7.73755138e-13, 3.60621770e-13, 1.11071805e-10,\n",
       "       8.00607913e-11, 1.66036118e-15, 1.82626865e-11, 4.84564097e-16,\n",
       "       1.22277369e-10, 1.29464949e-16, 1.23514621e-09, 2.93874730e-10,\n",
       "       1.29108422e-08, 2.81214436e-16, 9.21620627e-11, 5.00084468e-07,\n",
       "       1.80675809e-12, 2.34875563e-09, 1.44348422e-09, 3.01147891e-11,\n",
       "       1.16138842e-13, 1.27757159e-16, 1.83115521e-15, 1.40137825e-12,\n",
       "       8.31101477e-14, 8.66355720e-07, 1.03304735e-12, 2.15137703e-08,\n",
       "       3.79163870e-16, 9.19649946e-12, 6.41601439e-09, 1.22585835e-14,\n",
       "       8.43940716e-12, 3.73214926e-09, 5.75932588e-16, 1.65998472e-07,\n",
       "       4.05191366e-16, 3.10012851e-08, 2.24313271e-06, 1.85007052e-15,\n",
       "       9.00407837e-09, 1.59041249e-16, 2.81953445e-16, 6.38158646e-16,\n",
       "       4.32232250e-09, 1.19362442e-09, 5.18842131e-12, 1.80169621e-08,\n",
       "       4.10770481e-17, 1.77785581e-11, 5.21511992e-16, 1.41652920e-16,\n",
       "       1.00464407e-12, 4.37215292e-10, 2.90756391e-10, 6.54354657e-16,\n",
       "       9.36337605e-11, 8.87283754e-17, 1.69986041e-13, 4.99991584e-16,\n",
       "       2.64825371e-08, 1.50387012e-11, 5.62131941e-09, 1.08784044e-16,\n",
       "       3.69299166e-12, 2.24276001e-12, 1.31165391e-11, 2.94279919e-16,\n",
       "       1.34226086e-09, 2.77198655e-08, 1.23147627e-13, 4.29592084e-10,\n",
       "       1.85987573e-10, 7.19639556e-11, 2.33224606e-10, 3.18753745e-16,\n",
       "       1.19190552e-11, 9.24455096e-11, 1.38966083e-09, 7.95991661e-10,\n",
       "       4.88113473e-11, 3.24807455e-13, 1.36315765e-15, 2.97957868e-16,\n",
       "       2.22051116e-16, 3.18814546e-16, 2.24144691e-16, 3.29624587e-15,\n",
       "       3.93982969e-13, 9.80812378e-16, 3.79929773e-16, 1.06221915e-16,\n",
       "       1.14525989e-09, 3.94592747e-10, 9.62829805e-15, 2.03611712e-16,\n",
       "       5.33494543e-16, 1.55841992e-16, 2.74754913e-10, 3.05430102e-16,\n",
       "       2.04144456e-16, 1.79232235e-15, 3.57005370e-10, 7.21763760e-10,\n",
       "       7.54794532e-15, 2.18789563e-16, 3.85515404e-13, 3.52253977e-16,\n",
       "       1.61728988e-15, 6.31291962e-16, 1.30065906e-16, 6.76732526e-16,\n",
       "       1.66860832e-16, 9.02291686e-10, 8.39896761e-17, 1.59225174e-16,\n",
       "       1.31400713e-08, 5.07245449e-17, 5.68088836e-14, 2.03962421e-15,\n",
       "       4.03890678e-15, 2.59879054e-12, 4.82143393e-15, 4.35580459e-14,\n",
       "       2.82880409e-13, 1.25848939e-16, 1.14951085e-15, 4.94351837e-10,\n",
       "       1.17079252e-12, 8.12610428e-16, 2.66503551e-12, 9.53250561e-16,\n",
       "       7.75304543e-10, 1.23052354e-16, 2.15175700e-17, 9.38987945e-15,\n",
       "       2.05040824e-12, 2.51530907e-09, 9.53864845e-17, 7.99694327e-17,\n",
       "       1.99525030e-16, 5.48600282e-13, 8.80829992e-11, 2.30507756e-15,\n",
       "       3.99770766e-13, 1.08433121e-16, 1.00474476e-10, 5.07854259e-10,\n",
       "       2.89382748e-13, 7.70021646e-09, 2.78495235e-17, 1.53978323e-11,\n",
       "       3.64218211e-10, 4.06991258e-17, 5.36044245e-13, 2.80896004e-16,\n",
       "       9.66931570e-12, 4.42026346e-15, 3.20820112e-13, 4.44215151e-12,\n",
       "       6.65069822e-17, 1.52556894e-16, 7.42906225e-13, 1.12724292e-11,\n",
       "       5.09347393e-13, 3.00835162e-10, 1.82871995e-10, 9.66722607e-17,\n",
       "       4.85169890e-12, 8.80999267e-12, 5.56504232e-10, 5.29350911e-16,\n",
       "       1.29955890e-11, 2.60335920e-16, 4.94143636e-17, 3.77758960e-17,\n",
       "       3.61983088e-15, 1.89920245e-16, 3.17703619e-09, 4.41331610e-10,\n",
       "       5.54040298e-08, 1.18250865e-14, 1.46859790e-16, 5.49973567e-10,\n",
       "       1.47984110e-14, 1.45037092e-15, 5.65165899e-16, 2.54052328e-15,\n",
       "       2.52877425e-16, 1.27181821e-10, 1.74259469e-07, 1.99107817e-14,\n",
       "       2.53964989e-16, 3.36180960e-15, 1.94843571e-16, 2.55665342e-14,\n",
       "       1.54444123e-16, 8.04228645e-12, 4.42655691e-15, 2.72103320e-15,\n",
       "       4.59772925e-16, 5.21916765e-13, 6.45563843e-13, 4.95871934e-15,\n",
       "       3.16036807e-16, 1.14241967e-16, 5.94949536e-16, 1.05510103e-13,\n",
       "       1.19644214e-12, 9.16885708e-13, 9.38377501e-11, 2.52967157e-16,\n",
       "       3.30722525e-17, 2.07394713e-10, 9.06553305e-12, 4.59648743e-11,\n",
       "       8.37701688e-17, 1.58840354e-11, 3.74733328e-10, 1.83441211e-16,\n",
       "       3.49772544e-10, 1.74932037e-16, 1.21338065e-10, 5.70569945e-11,\n",
       "       6.50303510e-16, 6.15500387e-15, 2.63524591e-10, 1.62518471e-11,\n",
       "       6.28890464e-17, 4.37473353e-16, 3.13351012e-11, 1.08537785e-13,\n",
       "       2.69415761e-08, 9.33607289e-11, 3.59603840e-13, 6.12218400e-08,\n",
       "       1.94697525e-09, 1.11876552e-14, 2.62347033e-10, 1.86764382e-09,\n",
       "       1.62721406e-10, 4.52859278e-11, 4.77911634e-11, 1.37227458e-12,\n",
       "       7.60516340e-17, 5.65478613e-16, 3.82439738e-15, 1.76221104e-11,\n",
       "       1.93940356e-16, 1.22595599e-15, 1.29946776e-10, 4.78787491e-15,\n",
       "       9.26993599e-16, 7.36510808e-09, 4.95608824e-16, 1.17436947e-07,\n",
       "       7.06854024e-17, 1.65135388e-11, 4.29371538e-11, 3.79623958e-13,\n",
       "       2.31166430e-15, 7.12714054e-11, 7.98109582e-17, 9.42217258e-15,\n",
       "       1.04146804e-11, 2.63070971e-11, 9.84669768e-09, 7.60781299e-11,\n",
       "       2.16668974e-10, 5.81307531e-15, 1.96904323e-16, 1.32944839e-15,\n",
       "       1.24902888e-09, 6.19851696e-17, 4.16289746e-11, 3.49288870e-12,\n",
       "       1.09728460e-16, 5.93291735e-12, 1.79124354e-10, 3.35116807e-16,\n",
       "       1.42000269e-16, 1.77598708e-16, 4.69691352e-09, 4.81608503e-11,\n",
       "       6.51434505e-12, 2.61049637e-11, 5.76884706e-16, 1.88812220e-15,\n",
       "       4.98473754e-16, 1.55704733e-16, 9.38016553e-10, 3.11759104e-12,\n",
       "       1.29423471e-16, 1.64907421e-12, 1.27696645e-10, 6.35835274e-17,\n",
       "       1.55915896e-14, 3.90850069e-12, 1.48134356e-14, 2.50088786e-15,\n",
       "       2.82394776e-16, 6.02638772e-10, 1.61213599e-13, 7.45586348e-09,\n",
       "       1.09144847e-16, 1.34619243e-15, 5.89957474e-15, 1.37126693e-16,\n",
       "       3.59974939e-10, 7.74313051e-17, 9.85612765e-17, 1.91247232e-14,\n",
       "       2.26736896e-14, 3.34753697e-10, 3.63597325e-12, 3.90158357e-11,\n",
       "       5.91052221e-15, 3.77860415e-14, 7.02451041e-17, 6.92786689e-14,\n",
       "       9.03673180e-17, 8.95834074e-09, 1.92942086e-11, 3.44587932e-16,\n",
       "       7.46906030e-16, 2.35320362e-13, 6.56802648e-17, 1.13450256e-16,\n",
       "       4.36902207e-12, 4.36831613e-11, 1.03612431e-11, 1.55493896e-10,\n",
       "       2.58977941e-16, 6.81264995e-13, 8.66141547e-17, 5.73254407e-15,\n",
       "       1.23451590e-15, 1.67683504e-14, 4.96890438e-16, 6.87455370e-15,\n",
       "       2.29240520e-16, 4.18952172e-13, 1.66861247e-11, 3.30255534e-09,\n",
       "       1.03178121e-12, 7.42069895e-15, 7.63089339e-14, 1.97997234e-16,\n",
       "       1.14109134e-12, 1.38792945e-15, 4.35001943e-17, 4.63242901e-16,\n",
       "       4.46175822e-12, 2.94393676e-10, 1.09120730e-08, 6.54765825e-11,\n",
       "       4.06191920e-12, 6.12391851e-17, 9.68191194e-10, 2.81568681e-16,\n",
       "       3.19368310e-09, 3.31521681e-12, 1.61271726e-13, 1.00830413e-10,\n",
       "       1.01046888e-16, 4.75162772e-16, 2.92940653e-14, 9.00824198e-15,\n",
       "       2.64587657e-11, 4.18343882e-16, 8.28780404e-15, 9.30732254e-15,\n",
       "       1.01782482e-09, 8.13547533e-15, 9.22117309e-13, 9.79145324e-12,\n",
       "       1.99119086e-15, 7.36713312e-16, 1.08515844e-13, 1.05684220e-11,\n",
       "       3.94827779e-13, 3.63217179e-10, 7.77510601e-15, 2.52076105e-16,\n",
       "       7.93669904e-12, 1.56370805e-16, 2.45469725e-15, 1.27942813e-11,\n",
       "       5.39515518e-16, 5.98194784e-16, 3.28209258e-15, 7.21040005e-10,\n",
       "       1.61043092e-16, 8.99988719e-17, 5.29723123e-14, 9.12774615e-17,\n",
       "       5.85087100e-12, 3.05280334e-09, 3.24464587e-12, 6.56460495e-14,\n",
       "       6.39118546e-16, 9.25029065e-17, 2.53815163e-10, 3.99131487e-17,\n",
       "       3.66907091e-16, 4.26655154e-16, 8.64696981e-10, 1.30735557e-07,\n",
       "       4.26252020e-11, 8.09029120e-15, 1.93160071e-11, 3.49456730e-16,\n",
       "       8.05333134e-10, 1.63963246e-10, 2.83270490e-11, 1.66364400e-09,\n",
       "       3.31998111e-16], dtype=float32)"
      ]
     },
     "execution_count": 466,
     "metadata": {},
     "output_type": "execute_result"
    }
   ],
   "source": [
    "np.exp(a)/np.sum(np.exp(a))"
   ]
  },
  {
   "cell_type": "code",
   "execution_count": 467,
   "metadata": {},
   "outputs": [
    {
     "ename": "ValueError",
     "evalue": "sum(pvals[:-1]) > 1.0",
     "output_type": "error",
     "traceback": [
      "\u001b[0;31m---------------------------------------------------------------------------\u001b[0m",
      "\u001b[0;31mValueError\u001b[0m                                Traceback (most recent call last)",
      "\u001b[0;32m<ipython-input-467-7bcf7664a8eb>\u001b[0m in \u001b[0;36m<module>\u001b[0;34m()\u001b[0m\n\u001b[0;32m----> 1\u001b[0;31m \u001b[0mnp\u001b[0m\u001b[0;34m.\u001b[0m\u001b[0mrandom\u001b[0m\u001b[0;34m.\u001b[0m\u001b[0mmultinomial\u001b[0m\u001b[0;34m(\u001b[0m\u001b[0;36m1\u001b[0m\u001b[0;34m,\u001b[0m \u001b[0mnp\u001b[0m\u001b[0;34m.\u001b[0m\u001b[0mexp\u001b[0m\u001b[0;34m(\u001b[0m\u001b[0ma\u001b[0m\u001b[0;34m)\u001b[0m\u001b[0;34m/\u001b[0m\u001b[0mnp\u001b[0m\u001b[0;34m.\u001b[0m\u001b[0msum\u001b[0m\u001b[0;34m(\u001b[0m\u001b[0mnp\u001b[0m\u001b[0;34m.\u001b[0m\u001b[0mexp\u001b[0m\u001b[0;34m(\u001b[0m\u001b[0ma\u001b[0m\u001b[0;34m)\u001b[0m\u001b[0;34m)\u001b[0m\u001b[0;34m,\u001b[0m \u001b[0;36m1\u001b[0m\u001b[0;34m)\u001b[0m\u001b[0;34m\u001b[0m\u001b[0m\n\u001b[0m",
      "\u001b[0;32mmtrand.pyx\u001b[0m in \u001b[0;36mmtrand.RandomState.multinomial\u001b[0;34m()\u001b[0m\n",
      "\u001b[0;31mValueError\u001b[0m: sum(pvals[:-1]) > 1.0"
     ]
    }
   ],
   "source": [
    "np.random.multinomial(1, np.exp(a)/np.sum(np.exp(a)), 1)"
   ]
  },
  {
   "cell_type": "code",
   "execution_count": null,
   "metadata": {
    "collapsed": true
   },
   "outputs": [],
   "source": []
  },
  {
   "cell_type": "code",
   "execution_count": 373,
   "metadata": {},
   "outputs": [
    {
     "data": {
      "text/plain": [
       "19"
      ]
     },
     "execution_count": 373,
     "metadata": {},
     "output_type": "execute_result"
    }
   ],
   "source": [
    "sample(prediction, 0.8)"
   ]
  },
  {
   "cell_type": "code",
   "execution_count": 458,
   "metadata": {},
   "outputs": [
    {
     "data": {
      "text/plain": [
       "0.2"
      ]
     },
     "execution_count": 458,
     "metadata": {},
     "output_type": "execute_result"
    }
   ],
   "source": [
    "np.random.choice([0.2, 1.0])"
   ]
  },
  {
   "cell_type": "code",
   "execution_count": 468,
   "metadata": {},
   "outputs": [
    {
     "name": "stdout",
     "output_type": "stream",
     "text": [
      "the life we used to love <eos> just to keep ourselves <eos> at least enough to carry on <eos> [verse\n",
      "[versewillisleftsongsateveryladoallyouryouryouryourwillbodyagoherheraayouyouyouyouyouyouyouyouyouyoui[verseyouyouyouyouyouyousheyouyouiiyouryouryouryourweyouyouthatyouyouyouyouiwillyouryourwilli'mlayallalliyouryourinlalalawho'sheremeforinin[versewillisdo,measyouyou[verseyoudeedeewithdeeshe[versethethetheyourthatboyforyouyouyouwillwillwilldohereasherheryouyouyouyouwill[versewillwould[instrumental]<eos>fetusesdeeiyouryouryouryouraherboymewewithitototototoamyonlyuntilmeher[verseiweawillyouracouldwill[verse[verseyouyouyouawillyouryourbeaparttotothetheyourwill[versetotoyouyouyouyouyouthatthethewillpluckbendwithwith<eos><eos><eos><eos><eos>youryourbeearthboymeininyouryouryouryourawillaherfromsongdoinallallallyouryourwilldon'tleftforwiththethethethethethewillheadleftforall<eos><eos><eos><eos>thatwewouldwouldwouldwhereallallwithyouryour[versewillayouryour[versewassingrosestotothatyouyouyouryouryouryouryourawillwillweweyouryourwillsoagreeawaybeher[verseandandandand[versecouldholecareeningtototoyouyouyouyousheheaaandandyouyouyouyouwillcouldfindyou'reourher[verse[verse[versewillwithwheresototoatototoyouyouyouyouyouyouyouyouyouyouyouyouyouyouyoucouldwillwill[verse[verse[versewillwillcouldyouyouyouyouyouyouyouyouyouyouyouyouyouyouyouyouyouyouyouyouyouyouyouyouyouyouyouyouwilldeeitonsomeyouyouwithiwithkeeplivewayswith<eos><eos><eos><eos><eos><eos><eos><eos>yourthatthatweyouyouyouyouyouwillyouwilldeescreamswithinwith<eos><eos><eos><eos><eos>toyouwewewewillwilldeeeverydee<eos><eos><eos><eos><eos>youryourkeepboxesofinall<eos><eos><eos><eos><eos>weiswouldkeepallallallalldeelaherselfevertheirsoftdoasherto<eos><eos><eos><eos><eos><eos><eos><eos><eos><eos>deedeeyouyouyouyouryourwillyou,insideforyou[verseyouyouyou[verseiwillcouldgreenmyonall<eos><eos><eos><eos>youdon'tsomewrappedgoyouryouryouryourwebornjustofon<eos><eos><eos><eos><eos><eos>webe[verseyoudeeis[versethe[versesoplaceaimedbeautifulheryouyouyouyouwillwillasenoughwithwithyouyouyouyouyouyouyouyouyouyouyouyoudeewethatyouyouyouyouyouyouyouyouyoudeeyouyouii[verse<eos><eos><eos><eos><eos><eos><eos><eos><eos>youryouryourcouldno-onewastotoyouryouryouryourbe1]mewherewithyouryourwillsunagainonyouyouyouyou[versecouldwillyouyouyouyou[versethe[versebeautifulourmeanleftyouiinyouryourtobeflowersinsideononyouryourayoushekeep[verse[verseyouyouyouyouyouyouyouyouyouyouyouyouyouyouyouyouyouyouyouyouyouyouyouyouyouyouyouyouyouyouyouyouyou[verse[versedeesleepmetotowillwillknowwe'llwith<eos><eos><eos><eos><eos><eos>[versecould3]outoutourheryouyouwitha[verseyouyouyouyouis[verseyouyouyouyouyouyouyouyouyouyouyouhercouldwillyouareareyouyouyouyouyou[versewillsomeflowmethattothetheisunaimedfromfromdo,wedeealltowewillweweyouyouwillwillwillsomelalalalaiswith<eos><eos><eos><eos><eos><eos><eos><eos>yourwewillwillsomeacrossuntillahowdeethatyouthatyouryouryourweplayedoutrosesforwithwithwewewekeepbeheryouyouiyouryour[versesomecomely,ourselvesareher[verse[versewillistakebrightforisdeeyouyouyouyouryourweholecomely,foryouyouyouyouryouryouryourwelovedlayformeononwiththatwillwillyouyouyou<eos><eos><eos>yourcouldpushwaitboyfrommei<eos><eos><eos><eos><eos><eos><eos><eos><eos><eos>wekeepdooagainweredeeourdeewithiiwithiswereherbutonyou[verse[verse[versewithkeepsheallwithyouryouryourwillsoshe'llrosesmemeyouryouryourwillshoestowardsforwith<eos><eos><eos><eos><eos><eos>youryouryouryourwilluntilwetowithcouldmyburiedoutlaforyouyouyouyou[verse[versecouldsillydo,dee,lamemeallyouyouyou[verse[versewillbeacrosswhere<eos><eos>withyouryourdeedaydeeallalliyourthewillthereneedfromtherearedododoyouyou[versethethethewillmouthwereallallall<eos><eos><eos>"
     ]
    }
   ],
   "source": [
    "start = np.random.randint(0, len(word_to_vec) - 1)\n",
    "pattern = word_to_vec[start:start + seq_length]\n",
    "\n",
    "print(' '.join([reverse_dict[x] for x in pattern]))\n",
    "\n",
    "\n",
    "for i in range(1000):\n",
    "    x = np.zeros((1, len(pattern), 669))\n",
    "    for c, word in enumerate(pattern):\n",
    "        x[0, c, word] = 1\n",
    "    \n",
    "    prediction = model_0.predict(x, verbose=0)[0]\n",
    "    \n",
    "    \n",
    "    \n",
    "    index = sample(prediction, diversity)\n",
    "    \n",
    "    result = reverse_dict[index]\n",
    "    with open('512_hidden_two_LTSM_layers_first_attempt.txt', 'a+') as f:\n",
    "        print(result, file=f)\n",
    "    sys.stdout.write(result)\n",
    "    pattern.append(index)\n",
    "    pattern = pattern[1:len(pattern)]"
   ]
  },
  {
   "cell_type": "code",
   "execution_count": 460,
   "metadata": {},
   "outputs": [
    {
     "ename": "SyntaxError",
     "evalue": "invalid syntax (<ipython-input-460-b078200f612c>, line 1)",
     "output_type": "error",
     "traceback": [
      "\u001b[0;36m  File \u001b[0;32m\"<ipython-input-460-b078200f612c>\"\u001b[0;36m, line \u001b[0;32m1\u001b[0m\n\u001b[0;31m    a = np.log(a) / temperature dist\u001b[0m\n\u001b[0m                                   ^\u001b[0m\n\u001b[0;31mSyntaxError\u001b[0m\u001b[0;31m:\u001b[0m invalid syntax\n"
     ]
    }
   ],
   "source": [
    "a = np.log(a) / temperature dist \n",
    "a = np.exp(a)/np.sum(np.exp(a))\n",
    "choices = range(len(a))\n",
    "return np.random.choice(choices, p=dist)"
   ]
  },
  {
   "cell_type": "code",
   "execution_count": null,
   "metadata": {
    "collapsed": true
   },
   "outputs": [],
   "source": []
  },
  {
   "cell_type": "code",
   "execution_count": null,
   "metadata": {
    "collapsed": true
   },
   "outputs": [],
   "source": []
  },
  {
   "cell_type": "code",
   "execution_count": null,
   "metadata": {
    "collapsed": true
   },
   "outputs": [],
   "source": []
  },
  {
   "cell_type": "code",
   "execution_count": 288,
   "metadata": {},
   "outputs": [
    {
     "data": {
      "text/plain": [
       "(2519, 20, 1)"
      ]
     },
     "execution_count": 288,
     "metadata": {},
     "output_type": "execute_result"
    }
   ],
   "source": [
    "X.shape"
   ]
  },
  {
   "cell_type": "code",
   "execution_count": null,
   "metadata": {
    "collapsed": true
   },
   "outputs": [],
   "source": []
  },
  {
   "cell_type": "code",
   "execution_count": 286,
   "metadata": {
    "collapsed": true
   },
   "outputs": [],
   "source": [
    "seq_length = 20\n",
    "dataX, dataY = [], []\n",
    "for i in range(0, len(data) - seq_length, 1):\n",
    "    seq_in = word_to_vec[i:i + seq_length]\n",
    "    seq_out = word_to_vec[i + seq_length]\n",
    "    dataX.append(seq_in)\n",
    "    dataY.append(seq_out)\n",
    "n_patterns = len(dataX)"
   ]
  },
  {
   "cell_type": "code",
   "execution_count": 287,
   "metadata": {
    "collapsed": true
   },
   "outputs": [],
   "source": [
    "X = np.reshape(dataX, (n_patterns, seq_length, 1))\n",
    "X = X / n_vocab\n",
    "y = to_categorical(dataY)"
   ]
  },
  {
   "cell_type": "code",
   "execution_count": 271,
   "metadata": {
    "collapsed": true
   },
   "outputs": [],
   "source": [
    "model = Sequential()\n",
    "# model.add(Embedding(vocabulary, hidden_size, input_length=num_steps))\n",
    "model.add(LSTM(256, input_shape=(X.shape[1], X.shape[2]), return_sequences=True))\n",
    "# model.add(Dropout(0.2))\n",
    "model.add(LSTM(256))\n",
    "# model.add(Dropout(0.2))\n",
    "# model.add(TimeDistributed(Dense(669)))\n",
    "model.add(Dense(y.shape[1], activation='softmax'))\n",
    "\n",
    "model.compile(loss='categorical_crossentropy', optimizer='adam', metrics=['categorical_accuracy'])"
   ]
  },
  {
   "cell_type": "code",
   "execution_count": 272,
   "metadata": {
    "collapsed": true
   },
   "outputs": [],
   "source": [
    "filepath=\"weights-improvement-{epoch:02d}-{loss:.4f}.hdf5\"\n",
    "checkpoint = ModelCheckpoint(filepath, monitor='loss', verbose=1, save_best_only=True, mode='min')\n",
    "callbacks_list = [checkpoint]"
   ]
  },
  {
   "cell_type": "code",
   "execution_count": 273,
   "metadata": {},
   "outputs": [
    {
     "name": "stdout",
     "output_type": "stream",
     "text": [
      "Epoch 1/20\n",
      "2514/2514 [==============================] - 16s 6ms/step - loss: 5.7712 - categorical_accuracy: 0.1289\n",
      "\n",
      "Epoch 00001: loss improved from inf to 5.77121, saving model to weights-improvement-01-5.7712.hdf5\n",
      "Epoch 2/20\n",
      "2514/2514 [==============================] - 16s 6ms/step - loss: 5.4073 - categorical_accuracy: 0.1313\n",
      "\n",
      "Epoch 00002: loss improved from 5.77121 to 5.40726, saving model to weights-improvement-02-5.4073.hdf5\n",
      "Epoch 3/20\n",
      "2514/2514 [==============================] - 16s 7ms/step - loss: 5.3686 - categorical_accuracy: 0.1313\n",
      "\n",
      "Epoch 00003: loss improved from 5.40726 to 5.36857, saving model to weights-improvement-03-5.3686.hdf5\n",
      "Epoch 4/20\n",
      "2514/2514 [==============================] - 14s 6ms/step - loss: 5.3650 - categorical_accuracy: 0.1313\n",
      "\n",
      "Epoch 00004: loss improved from 5.36857 to 5.36503, saving model to weights-improvement-04-5.3650.hdf5\n",
      "Epoch 5/20\n",
      "2514/2514 [==============================] - 15s 6ms/step - loss: 5.3575 - categorical_accuracy: 0.1313\n",
      "\n",
      "Epoch 00005: loss improved from 5.36503 to 5.35753, saving model to weights-improvement-05-5.3575.hdf5\n",
      "Epoch 6/20\n",
      "2514/2514 [==============================] - 16s 6ms/step - loss: 5.3536 - categorical_accuracy: 0.1313\n",
      "\n",
      "Epoch 00006: loss improved from 5.35753 to 5.35360, saving model to weights-improvement-06-5.3536.hdf5\n",
      "Epoch 7/20\n",
      "2514/2514 [==============================] - 16s 6ms/step - loss: 5.3523 - categorical_accuracy: 0.1313\n",
      "\n",
      "Epoch 00007: loss improved from 5.35360 to 5.35225, saving model to weights-improvement-07-5.3523.hdf5\n",
      "Epoch 8/20\n",
      "2514/2514 [==============================] - 15s 6ms/step - loss: 5.3503 - categorical_accuracy: 0.1313\n",
      "\n",
      "Epoch 00008: loss improved from 5.35225 to 5.35026, saving model to weights-improvement-08-5.3503.hdf5\n",
      "Epoch 9/20\n",
      "2514/2514 [==============================] - 15s 6ms/step - loss: 5.3481 - categorical_accuracy: 0.1313\n",
      "\n",
      "Epoch 00009: loss improved from 5.35026 to 5.34811, saving model to weights-improvement-09-5.3481.hdf5\n",
      "Epoch 10/20\n",
      "2514/2514 [==============================] - 14s 6ms/step - loss: 5.3439 - categorical_accuracy: 0.1313\n",
      "\n",
      "Epoch 00010: loss improved from 5.34811 to 5.34387, saving model to weights-improvement-10-5.3439.hdf5\n",
      "Epoch 11/20\n",
      "2514/2514 [==============================] - 14s 6ms/step - loss: 5.3424 - categorical_accuracy: 0.1313\n",
      "\n",
      "Epoch 00011: loss improved from 5.34387 to 5.34239, saving model to weights-improvement-11-5.3424.hdf5\n",
      "Epoch 12/20\n",
      "2514/2514 [==============================] - 14s 6ms/step - loss: 5.3426 - categorical_accuracy: 0.1313\n",
      "\n",
      "Epoch 00012: loss did not improve\n",
      "Epoch 13/20\n",
      "2514/2514 [==============================] - 14s 6ms/step - loss: 5.3411 - categorical_accuracy: 0.1313\n",
      "\n",
      "Epoch 00013: loss improved from 5.34239 to 5.34110, saving model to weights-improvement-13-5.3411.hdf5\n",
      "Epoch 14/20\n",
      "2514/2514 [==============================] - 15s 6ms/step - loss: 5.3350 - categorical_accuracy: 0.1313\n",
      "\n",
      "Epoch 00014: loss improved from 5.34110 to 5.33503, saving model to weights-improvement-14-5.3350.hdf5\n",
      "Epoch 15/20\n",
      "2514/2514 [==============================] - 14s 6ms/step - loss: 5.3372 - categorical_accuracy: 0.1313\n",
      "\n",
      "Epoch 00015: loss did not improve\n",
      "Epoch 16/20\n",
      "2514/2514 [==============================] - 14s 6ms/step - loss: 5.3302 - categorical_accuracy: 0.1313\n",
      "\n",
      "Epoch 00016: loss improved from 5.33503 to 5.33017, saving model to weights-improvement-16-5.3302.hdf5\n",
      "Epoch 17/20\n",
      "2514/2514 [==============================] - 14s 6ms/step - loss: 5.3283 - categorical_accuracy: 0.1313\n",
      "\n",
      "Epoch 00017: loss improved from 5.33017 to 5.32835, saving model to weights-improvement-17-5.3283.hdf5\n",
      "Epoch 18/20\n",
      "2514/2514 [==============================] - 14s 6ms/step - loss: 5.3247 - categorical_accuracy: 0.1313\n",
      "\n",
      "Epoch 00018: loss improved from 5.32835 to 5.32468, saving model to weights-improvement-18-5.3247.hdf5\n",
      "Epoch 19/20\n",
      "2514/2514 [==============================] - 15s 6ms/step - loss: 5.3207 - categorical_accuracy: 0.1313\n",
      "\n",
      "Epoch 00019: loss improved from 5.32468 to 5.32069, saving model to weights-improvement-19-5.3207.hdf5\n",
      "Epoch 20/20\n",
      "2514/2514 [==============================] - 14s 6ms/step - loss: 5.3112 - categorical_accuracy: 0.1313\n",
      "\n",
      "Epoch 00020: loss improved from 5.32069 to 5.31119, saving model to weights-improvement-20-5.3112.hdf5\n"
     ]
    },
    {
     "data": {
      "text/plain": [
       "<keras.callbacks.History at 0x1491f4da0>"
      ]
     },
     "execution_count": 273,
     "metadata": {},
     "output_type": "execute_result"
    }
   ],
   "source": [
    "model.fit(X, y, epochs=20, batch_size=64, callbacks=callbacks_list)"
   ]
  },
  {
   "cell_type": "code",
   "execution_count": 274,
   "metadata": {},
   "outputs": [
    {
     "name": "stdout",
     "output_type": "stream",
     "text": [
      "<eos><eos><eos><eos><eos><eos><eos><eos><eos><eos><eos><eos><eos><eos><eos><eos><eos><eos><eos><eos><eos><eos><eos><eos><eos><eos><eos><eos><eos><eos><eos><eos><eos><eos><eos><eos><eos><eos><eos><eos><eos><eos><eos><eos><eos><eos><eos><eos><eos><eos><eos><eos><eos><eos><eos><eos><eos><eos><eos><eos><eos><eos><eos><eos><eos><eos><eos><eos><eos><eos><eos><eos><eos><eos><eos><eos><eos><eos><eos><eos><eos><eos><eos><eos><eos><eos><eos><eos><eos><eos><eos><eos><eos><eos><eos><eos><eos><eos><eos><eos><eos><eos><eos><eos><eos><eos><eos><eos><eos><eos><eos><eos><eos><eos><eos><eos><eos><eos><eos><eos><eos><eos><eos><eos><eos><eos><eos><eos><eos><eos><eos><eos><eos><eos><eos><eos><eos><eos><eos><eos><eos><eos><eos><eos><eos><eos><eos><eos><eos><eos><eos><eos><eos><eos><eos><eos><eos><eos><eos><eos><eos><eos><eos><eos><eos><eos><eos><eos><eos><eos><eos><eos><eos><eos><eos><eos><eos><eos><eos><eos><eos><eos><eos><eos><eos><eos><eos><eos><eos><eos><eos><eos><eos><eos><eos><eos><eos><eos><eos><eos><eos><eos><eos><eos><eos><eos><eos><eos><eos><eos><eos><eos><eos><eos><eos><eos><eos><eos><eos><eos><eos><eos><eos><eos><eos><eos><eos><eos><eos><eos><eos><eos><eos><eos><eos><eos><eos><eos><eos><eos><eos><eos><eos><eos><eos><eos><eos><eos><eos><eos><eos><eos><eos><eos><eos><eos><eos><eos><eos><eos><eos><eos><eos><eos><eos><eos><eos><eos><eos><eos><eos><eos><eos><eos><eos><eos><eos><eos><eos><eos><eos><eos><eos><eos><eos><eos><eos><eos><eos><eos><eos><eos><eos><eos><eos><eos><eos><eos><eos><eos><eos><eos><eos><eos><eos><eos><eos><eos><eos><eos><eos><eos><eos><eos><eos><eos><eos><eos><eos><eos><eos><eos><eos><eos><eos><eos><eos><eos><eos><eos><eos><eos><eos><eos><eos><eos><eos><eos><eos><eos><eos><eos><eos><eos><eos><eos><eos><eos><eos><eos><eos><eos><eos><eos><eos><eos><eos><eos><eos><eos><eos><eos><eos><eos><eos><eos><eos><eos><eos><eos><eos><eos><eos><eos><eos><eos><eos><eos><eos><eos><eos><eos><eos><eos><eos><eos><eos><eos><eos><eos><eos><eos><eos><eos><eos><eos><eos><eos><eos><eos><eos><eos><eos><eos><eos><eos><eos><eos><eos><eos><eos><eos><eos><eos><eos><eos><eos><eos><eos><eos><eos><eos><eos><eos><eos><eos><eos><eos><eos><eos><eos><eos><eos><eos><eos><eos><eos><eos><eos><eos><eos><eos><eos><eos><eos><eos><eos><eos><eos><eos><eos><eos><eos><eos><eos><eos><eos><eos><eos><eos><eos><eos><eos><eos><eos><eos><eos><eos><eos><eos><eos><eos><eos><eos><eos><eos><eos><eos><eos><eos><eos><eos><eos><eos><eos><eos><eos><eos><eos><eos><eos><eos><eos><eos><eos><eos><eos><eos><eos><eos><eos><eos><eos><eos><eos><eos><eos><eos><eos><eos><eos><eos><eos><eos><eos><eos><eos><eos><eos><eos><eos><eos><eos><eos><eos><eos><eos><eos><eos><eos><eos><eos><eos><eos><eos><eos><eos><eos><eos><eos><eos><eos><eos><eos><eos><eos><eos><eos><eos><eos><eos><eos><eos><eos><eos><eos><eos><eos><eos><eos><eos><eos><eos><eos><eos><eos><eos><eos><eos><eos><eos><eos><eos><eos><eos><eos><eos><eos><eos><eos><eos><eos><eos><eos><eos><eos><eos><eos><eos><eos><eos><eos><eos><eos><eos><eos><eos><eos><eos><eos><eos><eos><eos><eos><eos><eos><eos><eos><eos><eos><eos><eos><eos><eos><eos><eos><eos><eos><eos><eos><eos><eos><eos><eos><eos><eos><eos><eos><eos><eos><eos><eos><eos><eos><eos><eos><eos><eos><eos><eos><eos><eos><eos><eos><eos><eos><eos><eos><eos><eos><eos><eos><eos><eos><eos><eos><eos><eos><eos><eos><eos><eos><eos><eos><eos><eos><eos><eos><eos><eos><eos><eos><eos><eos><eos><eos><eos><eos><eos><eos><eos><eos><eos><eos><eos><eos><eos><eos><eos><eos><eos><eos><eos><eos><eos><eos><eos><eos><eos><eos><eos><eos><eos><eos><eos><eos><eos><eos><eos><eos><eos><eos><eos><eos><eos><eos><eos><eos><eos><eos><eos><eos><eos><eos><eos><eos><eos><eos><eos><eos><eos><eos><eos><eos><eos><eos><eos><eos><eos><eos><eos><eos><eos><eos><eos><eos><eos><eos><eos><eos><eos><eos><eos><eos><eos><eos><eos><eos><eos><eos><eos><eos><eos><eos><eos><eos><eos><eos><eos><eos><eos><eos><eos><eos><eos><eos><eos><eos><eos><eos><eos><eos><eos><eos><eos><eos><eos><eos><eos><eos><eos><eos><eos><eos><eos><eos><eos><eos><eos><eos><eos><eos><eos><eos><eos><eos><eos><eos><eos><eos><eos><eos><eos><eos><eos><eos><eos><eos><eos><eos><eos><eos><eos><eos><eos><eos><eos><eos><eos><eos><eos><eos><eos><eos><eos><eos><eos><eos><eos><eos><eos><eos><eos><eos><eos><eos><eos><eos><eos><eos><eos><eos><eos><eos><eos><eos><eos><eos><eos><eos><eos><eos><eos><eos><eos><eos><eos><eos><eos><eos><eos><eos><eos><eos><eos><eos><eos><eos><eos><eos><eos><eos><eos><eos><eos><eos><eos><eos><eos><eos><eos><eos><eos><eos><eos><eos><eos><eos><eos><eos><eos><eos><eos><eos><eos><eos><eos><eos><eos><eos><eos><eos><eos><eos><eos><eos><eos><eos><eos><eos><eos><eos><eos><eos><eos><eos><eos><eos><eos><eos><eos><eos><eos><eos><eos><eos><eos><eos><eos><eos><eos><eos><eos><eos><eos><eos><eos><eos><eos><eos><eos><eos><eos><eos><eos><eos><eos><eos><eos><eos><eos><eos><eos><eos><eos><eos><eos><eos><eos><eos><eos><eos><eos><eos><eos><eos><eos><eos><eos><eos><eos><eos><eos><eos><eos><eos><eos><eos><eos><eos><eos><eos><eos><eos><eos><eos><eos><eos><eos><eos>"
     ]
    }
   ],
   "source": [
    "start = np.random.randint(0, len(dataX) - 1)\n",
    "pattern = dataX[start]\n",
    "\n",
    "\n",
    "for i in range(1000):\n",
    "    x = np.reshape(pattern, (1, len(pattern), 1))\n",
    "    x = x/669\n",
    "    prediction = model.predict(x, verbose=0)\n",
    "    index = np.argmax(prediction)\n",
    "    result = reverse_dict[index]\n",
    "#     with open('fourth_attempt.txt', 'a+') as f:\n",
    "#         print(result, file=f)\n",
    "    sys.stdout.write(result)\n",
    "    pattern.append(index)\n",
    "    pattern = pattern[1:len(pattern)]"
   ]
  },
  {
   "cell_type": "code",
   "execution_count": 259,
   "metadata": {},
   "outputs": [
    {
     "data": {
      "text/plain": [
       "[3, 3, 3, 3, 3, 3, 3, 3, 3, 3, 3, 3, 3, 3, 3]"
      ]
     },
     "execution_count": 259,
     "metadata": {},
     "output_type": "execute_result"
    }
   ],
   "source": [
    "pattern"
   ]
  },
  {
   "cell_type": "code",
   "execution_count": 260,
   "metadata": {},
   "outputs": [
    {
     "data": {
      "text/plain": [
       "423"
      ]
     },
     "execution_count": 260,
     "metadata": {},
     "output_type": "execute_result"
    }
   ],
   "source": [
    "start"
   ]
  },
  {
   "cell_type": "code",
   "execution_count": 261,
   "metadata": {},
   "outputs": [
    {
     "data": {
      "text/plain": [
       "[14, 22, 139, 0, 1, 54, 316, 22, 145, 27, 2, 303, 87, 2, 562, 0]"
      ]
     },
     "execution_count": 261,
     "metadata": {},
     "output_type": "execute_result"
    }
   ],
   "source": [
    "dataX[start]"
   ]
  },
  {
   "cell_type": "code",
   "execution_count": null,
   "metadata": {
    "collapsed": true
   },
   "outputs": [],
   "source": []
  },
  {
   "cell_type": "code",
   "execution_count": null,
   "metadata": {
    "collapsed": true
   },
   "outputs": [],
   "source": []
  },
  {
   "cell_type": "code",
   "execution_count": 145,
   "metadata": {},
   "outputs": [
    {
     "name": "stdout",
     "output_type": "stream",
     "text": [
      "Epoch 1/100\n",
      "1/1 [==============================] - 17s 17s/step - loss: 6.5098 - categorical_accuracy: 3.9386e-04\n",
      "Epoch 2/100\n",
      "1/1 [==============================] - 16s 16s/step - loss: 6.4637 - categorical_accuracy: 0.0087\n",
      "Epoch 3/100\n",
      "1/1 [==============================] - 17s 17s/step - loss: 6.4146 - categorical_accuracy: 0.1315\n",
      "Epoch 4/100\n",
      "1/1 [==============================] - 16s 16s/step - loss: 6.3596 - categorical_accuracy: 0.1315\n",
      "Epoch 5/100\n",
      "1/1 [==============================] - 16s 16s/step - loss: 6.2979 - categorical_accuracy: 0.1315\n",
      "Epoch 6/100\n",
      "1/1 [==============================] - 17s 17s/step - loss: 6.2310 - categorical_accuracy: 0.1315\n",
      "Epoch 7/100\n",
      "1/1 [==============================] - 16s 16s/step - loss: 6.1612 - categorical_accuracy: 0.1315\n",
      "Epoch 8/100\n",
      "1/1 [==============================] - 16s 16s/step - loss: 6.0902 - categorical_accuracy: 0.1315\n",
      "Epoch 9/100\n",
      "1/1 [==============================] - 16s 16s/step - loss: 6.0194 - categorical_accuracy: 0.1315\n",
      "Epoch 10/100\n",
      "1/1 [==============================] - 16s 16s/step - loss: 5.9490 - categorical_accuracy: 0.1315\n",
      "Epoch 11/100\n",
      "1/1 [==============================] - 16s 16s/step - loss: 5.8793 - categorical_accuracy: 0.1315\n",
      "Epoch 12/100\n",
      "1/1 [==============================] - 16s 16s/step - loss: 5.8110 - categorical_accuracy: 0.1315\n",
      "Epoch 13/100\n",
      "1/1 [==============================] - 16s 16s/step - loss: 5.7437 - categorical_accuracy: 0.1315\n",
      "Epoch 14/100\n",
      "1/1 [==============================] - 17s 17s/step - loss: 5.6772 - categorical_accuracy: 0.1315\n",
      "Epoch 15/100\n",
      "1/1 [==============================] - 16s 16s/step - loss: 5.6119 - categorical_accuracy: 0.1315\n",
      "Epoch 16/100\n",
      "1/1 [==============================] - 17s 17s/step - loss: 5.5493 - categorical_accuracy: 0.1315\n",
      "Epoch 17/100\n",
      "1/1 [==============================] - 16s 16s/step - loss: 5.4914 - categorical_accuracy: 0.1315\n",
      "Epoch 18/100\n",
      "1/1 [==============================] - 16s 16s/step - loss: 5.4411 - categorical_accuracy: 0.1315\n",
      "Epoch 19/100\n",
      "1/1 [==============================] - 17s 17s/step - loss: 5.4012 - categorical_accuracy: 0.1315\n",
      "Epoch 20/100\n",
      "1/1 [==============================] - 16s 16s/step - loss: 5.3724 - categorical_accuracy: 0.1315\n",
      "Epoch 21/100\n",
      "1/1 [==============================] - 18s 18s/step - loss: 5.3544 - categorical_accuracy: 0.1315\n",
      "Epoch 22/100\n",
      "1/1 [==============================] - 19s 19s/step - loss: 5.3452 - categorical_accuracy: 0.1315\n",
      "Epoch 23/100\n",
      "1/1 [==============================] - 17s 17s/step - loss: 5.3414 - categorical_accuracy: 0.1315\n",
      "Epoch 24/100\n",
      "1/1 [==============================] - 16s 16s/step - loss: 5.3402 - categorical_accuracy: 0.1315\n",
      "Epoch 25/100\n",
      "1/1 [==============================] - 16s 16s/step - loss: 5.3394 - categorical_accuracy: 0.1315\n",
      "Epoch 26/100\n",
      "1/1 [==============================] - 17s 17s/step - loss: 5.3381 - categorical_accuracy: 0.1315\n",
      "Epoch 27/100\n",
      "1/1 [==============================] - 18s 18s/step - loss: 5.3359 - categorical_accuracy: 0.1315\n",
      "Epoch 28/100\n",
      "1/1 [==============================] - 18s 18s/step - loss: 5.3329 - categorical_accuracy: 0.1315\n",
      "Epoch 29/100\n",
      "1/1 [==============================] - 17s 17s/step - loss: 5.3294 - categorical_accuracy: 0.1315\n",
      "Epoch 30/100\n",
      "1/1 [==============================] - 16s 16s/step - loss: 5.3258 - categorical_accuracy: 0.1315\n",
      "Epoch 31/100\n",
      "1/1 [==============================] - 17s 17s/step - loss: 5.3223 - categorical_accuracy: 0.1315\n",
      "Epoch 32/100\n",
      "1/1 [==============================] - 19s 19s/step - loss: 5.3190 - categorical_accuracy: 0.1315\n",
      "Epoch 33/100\n",
      "1/1 [==============================] - 19s 19s/step - loss: 5.3161 - categorical_accuracy: 0.1315\n",
      "Epoch 34/100\n",
      "1/1 [==============================] - 21s 21s/step - loss: 5.3137 - categorical_accuracy: 0.1315\n",
      "Epoch 35/100\n",
      "1/1 [==============================] - 18s 18s/step - loss: 5.3115 - categorical_accuracy: 0.1315\n",
      "Epoch 36/100\n",
      "1/1 [==============================] - 17s 17s/step - loss: 5.3097 - categorical_accuracy: 0.1315\n",
      "Epoch 37/100\n",
      "1/1 [==============================] - 17s 17s/step - loss: 5.3081 - categorical_accuracy: 0.1315\n",
      "Epoch 38/100\n",
      "1/1 [==============================] - 16s 16s/step - loss: 5.3067 - categorical_accuracy: 0.1315\n",
      "Epoch 39/100\n",
      "1/1 [==============================] - 17s 17s/step - loss: 5.3053 - categorical_accuracy: 0.1315\n",
      "Epoch 40/100\n",
      "1/1 [==============================] - 17s 17s/step - loss: 5.3039 - categorical_accuracy: 0.1315\n",
      "Epoch 41/100\n",
      "1/1 [==============================] - 17s 17s/step - loss: 5.3024 - categorical_accuracy: 0.1315\n",
      "Epoch 42/100\n",
      "1/1 [==============================] - 16s 16s/step - loss: 5.3008 - categorical_accuracy: 0.1315\n",
      "Epoch 43/100\n",
      "1/1 [==============================] - 16s 16s/step - loss: 5.2992 - categorical_accuracy: 0.1315\n",
      "Epoch 44/100\n",
      "1/1 [==============================] - 17s 17s/step - loss: 5.2976 - categorical_accuracy: 0.1315\n",
      "Epoch 45/100\n",
      "1/1 [==============================] - 17s 17s/step - loss: 5.2959 - categorical_accuracy: 0.1315\n",
      "Epoch 46/100\n",
      "1/1 [==============================] - 17s 17s/step - loss: 5.2942 - categorical_accuracy: 0.1315\n",
      "Epoch 47/100\n",
      "1/1 [==============================] - 16s 16s/step - loss: 5.2924 - categorical_accuracy: 0.1315\n",
      "Epoch 48/100\n",
      "1/1 [==============================] - 16s 16s/step - loss: 5.2907 - categorical_accuracy: 0.1315\n",
      "Epoch 49/100\n",
      "1/1 [==============================] - 16s 16s/step - loss: 5.2892 - categorical_accuracy: 0.1315\n",
      "Epoch 50/100\n",
      "1/1 [==============================] - 17s 17s/step - loss: 5.2879 - categorical_accuracy: 0.1315\n",
      "Epoch 51/100\n",
      "1/1 [==============================] - 17s 17s/step - loss: 5.2866 - categorical_accuracy: 0.1315\n",
      "Epoch 52/100\n",
      "1/1 [==============================] - 16s 16s/step - loss: 5.2848 - categorical_accuracy: 0.1315\n",
      "Epoch 53/100\n",
      "1/1 [==============================] - 17s 17s/step - loss: 5.2831 - categorical_accuracy: 0.1315\n",
      "Epoch 54/100\n",
      "1/1 [==============================] - 16s 16s/step - loss: 5.2813 - categorical_accuracy: 0.1315\n",
      "Epoch 55/100\n",
      "1/1 [==============================] - 17s 17s/step - loss: 5.2797 - categorical_accuracy: 0.1315\n",
      "Epoch 56/100\n",
      "1/1 [==============================] - 17s 17s/step - loss: 5.2780 - categorical_accuracy: 0.1315\n",
      "Epoch 57/100\n",
      "1/1 [==============================] - 20s 20s/step - loss: 5.2762 - categorical_accuracy: 0.1315\n",
      "Epoch 58/100\n",
      "1/1 [==============================] - 17s 17s/step - loss: 5.2743 - categorical_accuracy: 0.1315\n",
      "Epoch 59/100\n",
      "1/1 [==============================] - 17s 17s/step - loss: 5.2721 - categorical_accuracy: 0.1315\n",
      "Epoch 60/100\n",
      "1/1 [==============================] - 16s 16s/step - loss: 5.2696 - categorical_accuracy: 0.1315\n",
      "Epoch 61/100\n",
      "1/1 [==============================] - 16s 16s/step - loss: 5.2673 - categorical_accuracy: 0.1315\n",
      "Epoch 62/100\n",
      "1/1 [==============================] - 16s 16s/step - loss: 5.2649 - categorical_accuracy: 0.1315\n",
      "Epoch 63/100\n",
      "1/1 [==============================] - 16s 16s/step - loss: 5.2622 - categorical_accuracy: 0.1315\n",
      "Epoch 64/100\n",
      "1/1 [==============================] - 16s 16s/step - loss: 5.2592 - categorical_accuracy: 0.1315\n",
      "Epoch 65/100\n",
      "1/1 [==============================] - 16s 16s/step - loss: 5.2564 - categorical_accuracy: 0.1315\n",
      "Epoch 66/100\n",
      "1/1 [==============================] - 16s 16s/step - loss: 5.2534 - categorical_accuracy: 0.1315\n",
      "Epoch 67/100\n",
      "1/1 [==============================] - 16s 16s/step - loss: 5.2501 - categorical_accuracy: 0.1315\n",
      "Epoch 68/100\n",
      "1/1 [==============================] - 17s 17s/step - loss: 5.2470 - categorical_accuracy: 0.1315\n",
      "Epoch 69/100\n",
      "1/1 [==============================] - 17s 17s/step - loss: 5.2438 - categorical_accuracy: 0.1315\n",
      "Epoch 70/100\n",
      "1/1 [==============================] - 16s 16s/step - loss: 5.2403 - categorical_accuracy: 0.1315\n",
      "Epoch 71/100\n",
      "1/1 [==============================] - 16s 16s/step - loss: 5.2367 - categorical_accuracy: 0.1315\n",
      "Epoch 72/100\n",
      "1/1 [==============================] - 16s 16s/step - loss: 5.2329 - categorical_accuracy: 0.1315\n",
      "Epoch 73/100\n",
      "1/1 [==============================] - 16s 16s/step - loss: 5.2291 - categorical_accuracy: 0.1315\n",
      "Epoch 74/100\n",
      "1/1 [==============================] - 17s 17s/step - loss: 5.2253 - categorical_accuracy: 0.1315\n"
     ]
    },
    {
     "name": "stdout",
     "output_type": "stream",
     "text": [
      "Epoch 75/100\n",
      "1/1 [==============================] - 17s 17s/step - loss: 5.2214 - categorical_accuracy: 0.1315\n",
      "Epoch 76/100\n",
      "1/1 [==============================] - 16s 16s/step - loss: 5.2174 - categorical_accuracy: 0.1315\n",
      "Epoch 77/100\n",
      "1/1 [==============================] - 17s 17s/step - loss: 5.2131 - categorical_accuracy: 0.1315\n",
      "Epoch 78/100\n",
      "1/1 [==============================] - 18s 18s/step - loss: 5.2086 - categorical_accuracy: 0.1315\n",
      "Epoch 79/100\n",
      "1/1 [==============================] - 17s 17s/step - loss: 5.2040 - categorical_accuracy: 0.1315\n",
      "Epoch 80/100\n",
      "1/1 [==============================] - 16s 16s/step - loss: 5.1992 - categorical_accuracy: 0.1315\n",
      "Epoch 81/100\n",
      "1/1 [==============================] - 17s 17s/step - loss: 5.1942 - categorical_accuracy: 0.1315\n",
      "Epoch 82/100\n",
      "1/1 [==============================] - 17s 17s/step - loss: 5.1892 - categorical_accuracy: 0.1315\n",
      "Epoch 83/100\n",
      "1/1 [==============================] - 16s 16s/step - loss: 5.1840 - categorical_accuracy: 0.1315\n",
      "Epoch 84/100\n",
      "1/1 [==============================] - 16s 16s/step - loss: 5.1787 - categorical_accuracy: 0.1315\n",
      "Epoch 85/100\n",
      "1/1 [==============================] - 17s 17s/step - loss: 5.1734 - categorical_accuracy: 0.1315\n",
      "Epoch 86/100\n",
      "1/1 [==============================] - 17s 17s/step - loss: 5.1682 - categorical_accuracy: 0.1315\n",
      "Epoch 87/100\n",
      "1/1 [==============================] - 17s 17s/step - loss: 5.1630 - categorical_accuracy: 0.1315\n",
      "Epoch 88/100\n",
      "1/1 [==============================] - 17s 17s/step - loss: 5.1578 - categorical_accuracy: 0.1315\n",
      "Epoch 89/100\n",
      "1/1 [==============================] - 16s 16s/step - loss: 5.1526 - categorical_accuracy: 0.1315\n",
      "Epoch 90/100\n",
      "1/1 [==============================] - 16s 16s/step - loss: 5.1474 - categorical_accuracy: 0.1315\n",
      "Epoch 91/100\n",
      "1/1 [==============================] - 17s 17s/step - loss: 5.1423 - categorical_accuracy: 0.1315\n",
      "Epoch 92/100\n",
      "1/1 [==============================] - 17s 17s/step - loss: 5.1372 - categorical_accuracy: 0.1315\n",
      "Epoch 93/100\n",
      "1/1 [==============================] - 16s 16s/step - loss: 5.1321 - categorical_accuracy: 0.1315\n",
      "Epoch 94/100\n",
      "1/1 [==============================] - 16s 16s/step - loss: 5.1269 - categorical_accuracy: 0.1315\n",
      "Epoch 95/100\n",
      "1/1 [==============================] - 17s 17s/step - loss: 5.1217 - categorical_accuracy: 0.1315\n",
      "Epoch 96/100\n",
      "1/1 [==============================] - 17s 17s/step - loss: 5.1165 - categorical_accuracy: 0.1315\n",
      "Epoch 97/100\n",
      "1/1 [==============================] - 18s 18s/step - loss: 5.1112 - categorical_accuracy: 0.1315\n",
      "Epoch 98/100\n",
      "1/1 [==============================] - 16s 16s/step - loss: 5.1059 - categorical_accuracy: 0.1406\n",
      "Epoch 99/100\n",
      "1/1 [==============================] - 17s 17s/step - loss: 5.1008 - categorical_accuracy: 0.1430\n",
      "Epoch 100/100\n",
      "1/1 [==============================] - 16s 16s/step - loss: 5.0958 - categorical_accuracy: 0.1442\n"
     ]
    }
   ],
   "source": [
    "history = model.fit(x, y, epochs=100)"
   ]
  },
  {
   "cell_type": "code",
   "execution_count": 152,
   "metadata": {},
   "outputs": [
    {
     "data": {
      "text/plain": [
       "array([[[12]]])"
      ]
     },
     "execution_count": 152,
     "metadata": {},
     "output_type": "execute_result"
    }
   ],
   "source": [
    "test = [12]\n",
    "np.reshape(test, (1, len(test), 1))"
   ]
  },
  {
   "cell_type": "code",
   "execution_count": 153,
   "metadata": {},
   "outputs": [
    {
     "ename": "ValueError",
     "evalue": "Error when checking : expected lstm_16_input to have shape (2539, 1) but got array with shape (1, 1)",
     "output_type": "error",
     "traceback": [
      "\u001b[0;31m---------------------------------------------------------------------------\u001b[0m",
      "\u001b[0;31mValueError\u001b[0m                                Traceback (most recent call last)",
      "\u001b[0;32m<ipython-input-153-80e45e69f61f>\u001b[0m in \u001b[0;36m<module>\u001b[0;34m()\u001b[0m\n\u001b[1;32m      4\u001b[0m     \u001b[0mx\u001b[0m \u001b[0;34m=\u001b[0m \u001b[0mnp\u001b[0m\u001b[0;34m.\u001b[0m\u001b[0mreshape\u001b[0m\u001b[0;34m(\u001b[0m\u001b[0mpattern\u001b[0m\u001b[0;34m,\u001b[0m \u001b[0;34m(\u001b[0m\u001b[0;36m1\u001b[0m\u001b[0;34m,\u001b[0m \u001b[0mlen\u001b[0m\u001b[0;34m(\u001b[0m\u001b[0mpattern\u001b[0m\u001b[0;34m)\u001b[0m\u001b[0;34m,\u001b[0m \u001b[0;36m1\u001b[0m\u001b[0;34m)\u001b[0m\u001b[0;34m)\u001b[0m\u001b[0;34m\u001b[0m\u001b[0m\n\u001b[1;32m      5\u001b[0m     \u001b[0mx\u001b[0m \u001b[0;34m=\u001b[0m \u001b[0mx\u001b[0m\u001b[0;34m/\u001b[0m\u001b[0;36m669\u001b[0m\u001b[0;34m\u001b[0m\u001b[0m\n\u001b[0;32m----> 6\u001b[0;31m     \u001b[0mprediction\u001b[0m \u001b[0;34m=\u001b[0m \u001b[0mmodel\u001b[0m\u001b[0;34m.\u001b[0m\u001b[0mpredict\u001b[0m\u001b[0;34m(\u001b[0m\u001b[0mx\u001b[0m\u001b[0;34m,\u001b[0m \u001b[0mverbose\u001b[0m\u001b[0;34m=\u001b[0m\u001b[0;36m0\u001b[0m\u001b[0;34m)\u001b[0m\u001b[0;34m\u001b[0m\u001b[0m\n\u001b[0m\u001b[1;32m      7\u001b[0m     \u001b[0mindex\u001b[0m \u001b[0;34m=\u001b[0m \u001b[0mnp\u001b[0m\u001b[0;34m.\u001b[0m\u001b[0margmax\u001b[0m\u001b[0;34m(\u001b[0m\u001b[0mprediction\u001b[0m\u001b[0;34m)\u001b[0m\u001b[0;34m\u001b[0m\u001b[0m\n\u001b[1;32m      8\u001b[0m     \u001b[0mresult\u001b[0m \u001b[0;34m=\u001b[0m \u001b[0mreverse_dict\u001b[0m\u001b[0;34m[\u001b[0m\u001b[0mindex\u001b[0m\u001b[0;34m]\u001b[0m\u001b[0;34m\u001b[0m\u001b[0m\n",
      "\u001b[0;32m/anaconda3/lib/python3.6/site-packages/keras/models.py\u001b[0m in \u001b[0;36mpredict\u001b[0;34m(self, x, batch_size, verbose, steps)\u001b[0m\n\u001b[1;32m   1023\u001b[0m             \u001b[0mself\u001b[0m\u001b[0;34m.\u001b[0m\u001b[0mbuild\u001b[0m\u001b[0;34m(\u001b[0m\u001b[0;34m)\u001b[0m\u001b[0;34m\u001b[0m\u001b[0m\n\u001b[1;32m   1024\u001b[0m         return self.model.predict(x, batch_size=batch_size, verbose=verbose,\n\u001b[0;32m-> 1025\u001b[0;31m                                   steps=steps)\n\u001b[0m\u001b[1;32m   1026\u001b[0m \u001b[0;34m\u001b[0m\u001b[0m\n\u001b[1;32m   1027\u001b[0m     \u001b[0;32mdef\u001b[0m \u001b[0mpredict_on_batch\u001b[0m\u001b[0;34m(\u001b[0m\u001b[0mself\u001b[0m\u001b[0;34m,\u001b[0m \u001b[0mx\u001b[0m\u001b[0;34m)\u001b[0m\u001b[0;34m:\u001b[0m\u001b[0;34m\u001b[0m\u001b[0m\n",
      "\u001b[0;32m/anaconda3/lib/python3.6/site-packages/keras/engine/training.py\u001b[0m in \u001b[0;36mpredict\u001b[0;34m(self, x, batch_size, verbose, steps)\u001b[0m\n\u001b[1;32m   1822\u001b[0m         x = _standardize_input_data(x, self._feed_input_names,\n\u001b[1;32m   1823\u001b[0m                                     \u001b[0mself\u001b[0m\u001b[0;34m.\u001b[0m\u001b[0m_feed_input_shapes\u001b[0m\u001b[0;34m,\u001b[0m\u001b[0;34m\u001b[0m\u001b[0m\n\u001b[0;32m-> 1824\u001b[0;31m                                     check_batch_axis=False)\n\u001b[0m\u001b[1;32m   1825\u001b[0m         \u001b[0;32mif\u001b[0m \u001b[0mself\u001b[0m\u001b[0;34m.\u001b[0m\u001b[0mstateful\u001b[0m\u001b[0;34m:\u001b[0m\u001b[0;34m\u001b[0m\u001b[0m\n\u001b[1;32m   1826\u001b[0m             \u001b[0;32mif\u001b[0m \u001b[0mx\u001b[0m\u001b[0;34m[\u001b[0m\u001b[0;36m0\u001b[0m\u001b[0;34m]\u001b[0m\u001b[0;34m.\u001b[0m\u001b[0mshape\u001b[0m\u001b[0;34m[\u001b[0m\u001b[0;36m0\u001b[0m\u001b[0;34m]\u001b[0m \u001b[0;34m>\u001b[0m \u001b[0mbatch_size\u001b[0m \u001b[0;32mand\u001b[0m \u001b[0mx\u001b[0m\u001b[0;34m[\u001b[0m\u001b[0;36m0\u001b[0m\u001b[0;34m]\u001b[0m\u001b[0;34m.\u001b[0m\u001b[0mshape\u001b[0m\u001b[0;34m[\u001b[0m\u001b[0;36m0\u001b[0m\u001b[0;34m]\u001b[0m \u001b[0;34m%\u001b[0m \u001b[0mbatch_size\u001b[0m \u001b[0;34m!=\u001b[0m \u001b[0;36m0\u001b[0m\u001b[0;34m:\u001b[0m\u001b[0;34m\u001b[0m\u001b[0m\n",
      "\u001b[0;32m/anaconda3/lib/python3.6/site-packages/keras/engine/training.py\u001b[0m in \u001b[0;36m_standardize_input_data\u001b[0;34m(data, names, shapes, check_batch_axis, exception_prefix)\u001b[0m\n\u001b[1;32m    121\u001b[0m                             \u001b[0;34m': expected '\u001b[0m \u001b[0;34m+\u001b[0m \u001b[0mnames\u001b[0m\u001b[0;34m[\u001b[0m\u001b[0mi\u001b[0m\u001b[0;34m]\u001b[0m \u001b[0;34m+\u001b[0m \u001b[0;34m' to have shape '\u001b[0m \u001b[0;34m+\u001b[0m\u001b[0;34m\u001b[0m\u001b[0m\n\u001b[1;32m    122\u001b[0m                             \u001b[0mstr\u001b[0m\u001b[0;34m(\u001b[0m\u001b[0mshape\u001b[0m\u001b[0;34m)\u001b[0m \u001b[0;34m+\u001b[0m \u001b[0;34m' but got array with shape '\u001b[0m \u001b[0;34m+\u001b[0m\u001b[0;34m\u001b[0m\u001b[0m\n\u001b[0;32m--> 123\u001b[0;31m                             str(data_shape))\n\u001b[0m\u001b[1;32m    124\u001b[0m     \u001b[0;32mreturn\u001b[0m \u001b[0mdata\u001b[0m\u001b[0;34m\u001b[0m\u001b[0m\n\u001b[1;32m    125\u001b[0m \u001b[0;34m\u001b[0m\u001b[0m\n",
      "\u001b[0;31mValueError\u001b[0m: Error when checking : expected lstm_16_input to have shape (2539, 1) but got array with shape (1, 1)"
     ]
    }
   ],
   "source": [
    "pattern = [12]\n",
    "\n",
    "for i in range(100):\n",
    "    x = np.reshape(pattern, (1, len(pattern), 1))\n",
    "    x = x/669\n",
    "    prediction = model.predict(x, verbose=0)\n",
    "    index = np.argmax(prediction)\n",
    "    result = reverse_dict[index]\n",
    "    pattern.append(index)\n",
    "    pattern = pattern[1:len(pattern)]"
   ]
  },
  {
   "cell_type": "code",
   "execution_count": 3,
   "metadata": {},
   "outputs": [],
   "source": [
    "df = pd.read_csv('all_songs.csv')"
   ]
  },
  {
   "cell_type": "code",
   "execution_count": 17,
   "metadata": {},
   "outputs": [
    {
     "data": {
      "text/html": [
       "<div>\n",
       "<style>\n",
       "    .dataframe thead tr:only-child th {\n",
       "        text-align: right;\n",
       "    }\n",
       "\n",
       "    .dataframe thead th {\n",
       "        text-align: left;\n",
       "    }\n",
       "\n",
       "    .dataframe tbody tr th {\n",
       "        vertical-align: top;\n",
       "    }\n",
       "</style>\n",
       "<table border=\"1\" class=\"dataframe\">\n",
       "  <thead>\n",
       "    <tr style=\"text-align: right;\">\n",
       "      <th></th>\n",
       "      <th>0</th>\n",
       "      <th>1</th>\n",
       "      <th>2</th>\n",
       "      <th>3</th>\n",
       "      <th>4</th>\n",
       "      <th>5</th>\n",
       "      <th>6</th>\n",
       "      <th>7</th>\n",
       "      <th>8</th>\n",
       "      <th>9</th>\n",
       "      <th>10</th>\n",
       "      <th>11</th>\n",
       "      <th>is_alt_country</th>\n",
       "      <th>is_alt_rock</th>\n",
       "      <th>is_experimental_rock</th>\n",
       "      <th>is_hip_hop</th>\n",
       "      <th>is_pop_songs</th>\n",
       "      <th>is_rock_songs</th>\n",
       "    </tr>\n",
       "  </thead>\n",
       "  <tbody>\n",
       "    <tr>\n",
       "      <th>0</th>\n",
       "      <td>0</td>\n",
       "      <td>0</td>\n",
       "      <td>Bonnie 'Prince' Billy</td>\n",
       "      <td>I See a Darkness</td>\n",
       "      <td>https://genius.com/albums/Bonnie-Prince-Billy/...</td>\n",
       "      <td>A Minor Place</td>\n",
       "      <td>1.0</td>\n",
       "      <td>[hook] n I've been to a minor place n And I ca...</td>\n",
       "      <td>https://genius.com/Bonnie-prince-billy-a-minor...</td>\n",
       "      <td>1.0</td>\n",
       "      <td>0.0</td>\n",
       "      <td>1.0</td>\n",
       "      <td>0.0</td>\n",
       "      <td>0.0</td>\n",
       "      <td>0.0</td>\n",
       "      <td>0.0</td>\n",
       "      <td>0.0</td>\n",
       "      <td>0.0</td>\n",
       "    </tr>\n",
       "  </tbody>\n",
       "</table>\n",
       "</div>"
      ],
      "text/plain": [
       "   0  1                      2                 3  \\\n",
       "0  0  0  Bonnie 'Prince' Billy  I See a Darkness   \n",
       "\n",
       "                                                   4              5    6  \\\n",
       "0  https://genius.com/albums/Bonnie-Prince-Billy/...  A Minor Place  1.0   \n",
       "\n",
       "                                                   7  \\\n",
       "0  [hook] n I've been to a minor place n And I ca...   \n",
       "\n",
       "                                                   8    9   10   11  \\\n",
       "0  https://genius.com/Bonnie-prince-billy-a-minor...  1.0  0.0  1.0   \n",
       "\n",
       "   is_alt_country  is_alt_rock  is_experimental_rock  is_hip_hop  \\\n",
       "0             0.0          0.0                   0.0         0.0   \n",
       "\n",
       "   is_pop_songs  is_rock_songs  \n",
       "0           0.0            0.0  "
      ]
     },
     "execution_count": 17,
     "metadata": {},
     "output_type": "execute_result"
    }
   ],
   "source": [
    "df.head(1)"
   ]
  },
  {
   "cell_type": "code",
   "execution_count": 18,
   "metadata": {},
   "outputs": [],
   "source": [
    "df.columns = ['song_id', 'album_id', 'artist', 'album', 'album_href', 'song', 'track_count', 'lyrics',\n",
    "              'song_href', 'is_folk', 'is_folk_rock', 'is_indie_folk', 'is_alt_country', 'is_alt_rock',\n",
    "              'is_experimental_rock', 'is_hip_hop', 'is_pop_songs', 'is_rock_songs']"
   ]
  },
  {
   "cell_type": "code",
   "execution_count": null,
   "metadata": {},
   "outputs": [],
   "source": []
  },
  {
   "cell_type": "code",
   "execution_count": 28,
   "metadata": {
    "collapsed": true
   },
   "outputs": [],
   "source": [
    "df['song_id'] = df.index"
   ]
  },
  {
   "cell_type": "code",
   "execution_count": 29,
   "metadata": {},
   "outputs": [],
   "source": [
    "df.to_csv('all_songs.csv', index=False)"
   ]
  },
  {
   "cell_type": "code",
   "execution_count": 30,
   "metadata": {
    "collapsed": true
   },
   "outputs": [],
   "source": [
    "df = pd.read_csv('all_songs.csv')"
   ]
  },
  {
   "cell_type": "code",
   "execution_count": 33,
   "metadata": {},
   "outputs": [
    {
     "data": {
      "text/html": [
       "<div>\n",
       "<style>\n",
       "    .dataframe thead tr:only-child th {\n",
       "        text-align: right;\n",
       "    }\n",
       "\n",
       "    .dataframe thead th {\n",
       "        text-align: left;\n",
       "    }\n",
       "\n",
       "    .dataframe tbody tr th {\n",
       "        vertical-align: top;\n",
       "    }\n",
       "</style>\n",
       "<table border=\"1\" class=\"dataframe\">\n",
       "  <thead>\n",
       "    <tr style=\"text-align: right;\">\n",
       "      <th></th>\n",
       "      <th>song_id</th>\n",
       "      <th>album_id</th>\n",
       "      <th>artist</th>\n",
       "      <th>album</th>\n",
       "      <th>album_href</th>\n",
       "      <th>song</th>\n",
       "      <th>track_count</th>\n",
       "      <th>lyrics</th>\n",
       "      <th>song_href</th>\n",
       "      <th>is_folk</th>\n",
       "      <th>is_folk_rock</th>\n",
       "      <th>is_indie_folk</th>\n",
       "      <th>is_alt_country</th>\n",
       "      <th>is_alt_rock</th>\n",
       "      <th>is_experimental_rock</th>\n",
       "      <th>is_hip_hop</th>\n",
       "      <th>is_pop_songs</th>\n",
       "      <th>is_rock_songs</th>\n",
       "    </tr>\n",
       "  </thead>\n",
       "  <tbody>\n",
       "    <tr>\n",
       "      <th>0</th>\n",
       "      <td>0</td>\n",
       "      <td>0</td>\n",
       "      <td>Bonnie 'Prince' Billy</td>\n",
       "      <td>I See a Darkness</td>\n",
       "      <td>https://genius.com/albums/Bonnie-Prince-Billy/...</td>\n",
       "      <td>A Minor Place</td>\n",
       "      <td>1.0</td>\n",
       "      <td>[hook] n I've been to a minor place n And I ca...</td>\n",
       "      <td>https://genius.com/Bonnie-prince-billy-a-minor...</td>\n",
       "      <td>1.0</td>\n",
       "      <td>0.0</td>\n",
       "      <td>1.0</td>\n",
       "      <td>0.0</td>\n",
       "      <td>0.0</td>\n",
       "      <td>0.0</td>\n",
       "      <td>0.0</td>\n",
       "      <td>0.0</td>\n",
       "      <td>0.0</td>\n",
       "    </tr>\n",
       "  </tbody>\n",
       "</table>\n",
       "</div>"
      ],
      "text/plain": [
       "   song_id  album_id                 artist             album  \\\n",
       "0        0         0  Bonnie 'Prince' Billy  I See a Darkness   \n",
       "\n",
       "                                          album_href           song  \\\n",
       "0  https://genius.com/albums/Bonnie-Prince-Billy/...  A Minor Place   \n",
       "\n",
       "   track_count                                             lyrics  \\\n",
       "0          1.0  [hook] n I've been to a minor place n And I ca...   \n",
       "\n",
       "                                           song_href  is_folk  is_folk_rock  \\\n",
       "0  https://genius.com/Bonnie-prince-billy-a-minor...      1.0           0.0   \n",
       "\n",
       "   is_indie_folk  is_alt_country  is_alt_rock  is_experimental_rock  \\\n",
       "0            1.0             0.0          0.0                   0.0   \n",
       "\n",
       "   is_hip_hop  is_pop_songs  is_rock_songs  \n",
       "0         0.0           0.0            0.0  "
      ]
     },
     "execution_count": 33,
     "metadata": {},
     "output_type": "execute_result"
    }
   ],
   "source": [
    "df.head(1)"
   ]
  },
  {
   "cell_type": "code",
   "execution_count": 8,
   "metadata": {
    "collapsed": true
   },
   "outputs": [],
   "source": [
    "from io import StringIO "
   ]
  },
  {
   "cell_type": "code",
   "execution_count": 10,
   "metadata": {},
   "outputs": [],
   "source": [
    "a = StringIO('all_songs.csv', )"
   ]
  },
  {
   "cell_type": "code",
   "execution_count": 37,
   "metadata": {},
   "outputs": [
    {
     "ename": "ValueError",
     "evalue": "Some errors were detected !\n    Line #27374 (got 2 columns instead of 1)\n    Line #27375 (got 9 columns instead of 1)\n    Line #27376 (got 9 columns instead of 1)\n    Line #27377 (got 9 columns instead of 1)\n    Line #27378 (got 9 columns instead of 1)\n    Line #27379 (got 9 columns instead of 1)\n    Line #27380 (got 9 columns instead of 1)\n    Line #27381 (got 9 columns instead of 1)\n    Line #27382 (got 9 columns instead of 1)\n    Line #27383 (got 9 columns instead of 1)\n    Line #27384 (got 9 columns instead of 1)\n    Line #27385 (got 9 columns instead of 1)\n    Line #27386 (got 9 columns instead of 1)\n    Line #27387 (got 9 columns instead of 1)\n    Line #27388 (got 9 columns instead of 1)\n    Line #27389 (got 9 columns instead of 1)\n    Line #27390 (got 9 columns instead of 1)\n    Line #27391 (got 9 columns instead of 1)\n    Line #27392 (got 9 columns instead of 1)\n    Line #27393 (got 9 columns instead of 1)\n    Line #27394 (got 9 columns instead of 1)\n    Line #27395 (got 9 columns instead of 1)\n    Line #27396 (got 9 columns instead of 1)\n    Line #27397 (got 9 columns instead of 1)\n    Line #27398 (got 9 columns instead of 1)\n    Line #27399 (got 9 columns instead of 1)\n    Line #27400 (got 9 columns instead of 1)\n    Line #27401 (got 9 columns instead of 1)\n    Line #27402 (got 9 columns instead of 1)\n    Line #27403 (got 9 columns instead of 1)\n    Line #27404 (got 9 columns instead of 1)\n    Line #27405 (got 9 columns instead of 1)\n    Line #27406 (got 9 columns instead of 1)\n    Line #27407 (got 9 columns instead of 1)\n    Line #27408 (got 9 columns instead of 1)\n    Line #27409 (got 9 columns instead of 1)\n    Line #27410 (got 9 columns instead of 1)\n    Line #27411 (got 9 columns instead of 1)\n    Line #27412 (got 9 columns instead of 1)\n    Line #27413 (got 9 columns instead of 1)\n    Line #27414 (got 9 columns instead of 1)\n    Line #27415 (got 9 columns instead of 1)\n    Line #27416 (got 9 columns instead of 1)\n    Line #27417 (got 9 columns instead of 1)\n    Line #27418 (got 9 columns instead of 1)\n    Line #27419 (got 9 columns instead of 1)\n    Line #27420 (got 9 columns instead of 1)\n    Line #27421 (got 9 columns instead of 1)\n    Line #27422 (got 9 columns instead of 1)\n    Line #27423 (got 8 columns instead of 1)\n    Line #31810 (got 2 columns instead of 1)\n    Line #31811 (got 9 columns instead of 1)\n    Line #31812 (got 9 columns instead of 1)\n    Line #31813 (got 9 columns instead of 1)\n    Line #31814 (got 9 columns instead of 1)\n    Line #31815 (got 9 columns instead of 1)\n    Line #31816 (got 9 columns instead of 1)\n    Line #31817 (got 9 columns instead of 1)\n    Line #31818 (got 9 columns instead of 1)\n    Line #31819 (got 9 columns instead of 1)\n    Line #31820 (got 9 columns instead of 1)\n    Line #31821 (got 9 columns instead of 1)\n    Line #31822 (got 9 columns instead of 1)\n    Line #31823 (got 9 columns instead of 1)\n    Line #31824 (got 8 columns instead of 1)",
     "output_type": "error",
     "traceback": [
      "\u001b[0;31m---------------------------------------------------------------------------\u001b[0m",
      "\u001b[0;31mValueError\u001b[0m                                Traceback (most recent call last)",
      "\u001b[0;32m<ipython-input-37-b8aac9a4452b>\u001b[0m in \u001b[0;36m<module>\u001b[0;34m()\u001b[0m\n\u001b[1;32m     19\u001b[0m                   \u001b[0;34m(\u001b[0m\u001b[0;34m'is_hip_hop'\u001b[0m\u001b[0;34m,\u001b[0m           \u001b[0;34m'f8'\u001b[0m\u001b[0;34m)\u001b[0m\u001b[0;34m,\u001b[0m\u001b[0;34m\u001b[0m\u001b[0m\n\u001b[1;32m     20\u001b[0m                   \u001b[0;34m(\u001b[0m\u001b[0;34m'is_pop_songs'\u001b[0m\u001b[0;34m,\u001b[0m         \u001b[0;34m'f8'\u001b[0m\u001b[0;34m)\u001b[0m\u001b[0;34m,\u001b[0m\u001b[0;34m\u001b[0m\u001b[0m\n\u001b[0;32m---> 21\u001b[0;31m                   \u001b[0;34m(\u001b[0m\u001b[0;34m'is_rock_songs'\u001b[0m\u001b[0;34m,\u001b[0m        \u001b[0;34m'f8'\u001b[0m\u001b[0;34m)\u001b[0m\u001b[0;34m\u001b[0m\u001b[0m\n\u001b[0m\u001b[1;32m     22\u001b[0m               ]\n\u001b[1;32m     23\u001b[0m              )\n",
      "\u001b[0;32m/anaconda3/lib/python3.6/site-packages/numpy/lib/npyio.py\u001b[0m in \u001b[0;36mgenfromtxt\u001b[0;34m(fname, dtype, comments, delimiter, skip_header, skip_footer, converters, missing_values, filling_values, usecols, names, excludelist, deletechars, replace_space, autostrip, case_sensitive, defaultfmt, unpack, usemask, loose, invalid_raise, max_rows, encoding)\u001b[0m\n\u001b[1;32m   2017\u001b[0m             \u001b[0;31m# Raise an exception ?\u001b[0m\u001b[0;34m\u001b[0m\u001b[0;34m\u001b[0m\u001b[0m\n\u001b[1;32m   2018\u001b[0m             \u001b[0;32mif\u001b[0m \u001b[0minvalid_raise\u001b[0m\u001b[0;34m:\u001b[0m\u001b[0;34m\u001b[0m\u001b[0m\n\u001b[0;32m-> 2019\u001b[0;31m                 \u001b[0;32mraise\u001b[0m \u001b[0mValueError\u001b[0m\u001b[0;34m(\u001b[0m\u001b[0merrmsg\u001b[0m\u001b[0;34m)\u001b[0m\u001b[0;34m\u001b[0m\u001b[0m\n\u001b[0m\u001b[1;32m   2020\u001b[0m             \u001b[0;31m# Issue a warning ?\u001b[0m\u001b[0;34m\u001b[0m\u001b[0;34m\u001b[0m\u001b[0m\n\u001b[1;32m   2021\u001b[0m             \u001b[0;32melse\u001b[0m\u001b[0;34m:\u001b[0m\u001b[0;34m\u001b[0m\u001b[0m\n",
      "\u001b[0;31mValueError\u001b[0m: Some errors were detected !\n    Line #27374 (got 2 columns instead of 1)\n    Line #27375 (got 9 columns instead of 1)\n    Line #27376 (got 9 columns instead of 1)\n    Line #27377 (got 9 columns instead of 1)\n    Line #27378 (got 9 columns instead of 1)\n    Line #27379 (got 9 columns instead of 1)\n    Line #27380 (got 9 columns instead of 1)\n    Line #27381 (got 9 columns instead of 1)\n    Line #27382 (got 9 columns instead of 1)\n    Line #27383 (got 9 columns instead of 1)\n    Line #27384 (got 9 columns instead of 1)\n    Line #27385 (got 9 columns instead of 1)\n    Line #27386 (got 9 columns instead of 1)\n    Line #27387 (got 9 columns instead of 1)\n    Line #27388 (got 9 columns instead of 1)\n    Line #27389 (got 9 columns instead of 1)\n    Line #27390 (got 9 columns instead of 1)\n    Line #27391 (got 9 columns instead of 1)\n    Line #27392 (got 9 columns instead of 1)\n    Line #27393 (got 9 columns instead of 1)\n    Line #27394 (got 9 columns instead of 1)\n    Line #27395 (got 9 columns instead of 1)\n    Line #27396 (got 9 columns instead of 1)\n    Line #27397 (got 9 columns instead of 1)\n    Line #27398 (got 9 columns instead of 1)\n    Line #27399 (got 9 columns instead of 1)\n    Line #27400 (got 9 columns instead of 1)\n    Line #27401 (got 9 columns instead of 1)\n    Line #27402 (got 9 columns instead of 1)\n    Line #27403 (got 9 columns instead of 1)\n    Line #27404 (got 9 columns instead of 1)\n    Line #27405 (got 9 columns instead of 1)\n    Line #27406 (got 9 columns instead of 1)\n    Line #27407 (got 9 columns instead of 1)\n    Line #27408 (got 9 columns instead of 1)\n    Line #27409 (got 9 columns instead of 1)\n    Line #27410 (got 9 columns instead of 1)\n    Line #27411 (got 9 columns instead of 1)\n    Line #27412 (got 9 columns instead of 1)\n    Line #27413 (got 9 columns instead of 1)\n    Line #27414 (got 9 columns instead of 1)\n    Line #27415 (got 9 columns instead of 1)\n    Line #27416 (got 9 columns instead of 1)\n    Line #27417 (got 9 columns instead of 1)\n    Line #27418 (got 9 columns instead of 1)\n    Line #27419 (got 9 columns instead of 1)\n    Line #27420 (got 9 columns instead of 1)\n    Line #27421 (got 9 columns instead of 1)\n    Line #27422 (got 9 columns instead of 1)\n    Line #27423 (got 8 columns instead of 1)\n    Line #31810 (got 2 columns instead of 1)\n    Line #31811 (got 9 columns instead of 1)\n    Line #31812 (got 9 columns instead of 1)\n    Line #31813 (got 9 columns instead of 1)\n    Line #31814 (got 9 columns instead of 1)\n    Line #31815 (got 9 columns instead of 1)\n    Line #31816 (got 9 columns instead of 1)\n    Line #31817 (got 9 columns instead of 1)\n    Line #31818 (got 9 columns instead of 1)\n    Line #31819 (got 9 columns instead of 1)\n    Line #31820 (got 9 columns instead of 1)\n    Line #31821 (got 9 columns instead of 1)\n    Line #31822 (got 9 columns instead of 1)\n    Line #31823 (got 9 columns instead of 1)\n    Line #31824 (got 8 columns instead of 1)"
     ]
    }
   ],
   "source": [
    "np.genfromtxt('all_songs.csv', \n",
    "              delimiter='|', \n",
    "              dtype=[\n",
    "                  ('song_id',              'i8'),\n",
    "                  ('album_id',             'i8'),\n",
    "                  ('artist',               'S5'),\n",
    "                  ('album',                'S5'),\n",
    "                  ('album_href',           'S5'),\n",
    "                  ('song',                 'S5'),\n",
    "                  ('track_count',          'f8'),\n",
    "                  ('lyrics',               'S5'),\n",
    "                  ('song_href',            'S5'),\n",
    "                  ('is_folk',              'f8'),\n",
    "                  ('is_folk_rock',         'f8'),\n",
    "                  ('is_indie_folk',        'f8'),\n",
    "                  ('is_alt_county',        'f8'),\n",
    "                  ('is_alt_rock',          'f8'),\n",
    "                  ('is_experimental_rock', 'f8'),\n",
    "                  ('is_hip_hop',           'f8'),\n",
    "                  ('is_pop_songs',         'f8'),\n",
    "                  ('is_rock_songs',        'f8')\n",
    "              ]\n",
    "             )"
   ]
  },
  {
   "cell_type": "code",
   "execution_count": null,
   "metadata": {
    "collapsed": true
   },
   "outputs": [],
   "source": []
  }
 ],
 "metadata": {
  "kernelspec": {
   "display_name": "Python 3",
   "language": "python",
   "name": "python3"
  },
  "language_info": {
   "codemirror_mode": {
    "name": "ipython",
    "version": 3
   },
   "file_extension": ".py",
   "mimetype": "text/x-python",
   "name": "python",
   "nbconvert_exporter": "python",
   "pygments_lexer": "ipython3",
   "version": "3.6.4"
  }
 },
 "nbformat": 4,
 "nbformat_minor": 2
}
